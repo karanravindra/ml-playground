{
 "cells": [
  {
   "cell_type": "code",
   "execution_count": null,
   "metadata": {},
   "outputs": [],
   "source": [
    "import torch\n",
    "from diffusers import StableCascadeDecoderPipeline, StableCascadePriorPipeline\n",
    "\n",
    "prior = StableCascadePriorPipeline.from_pretrained(\"stabilityai/stable-cascade-prior\", variant=\"bf16\", torch_dtype=torch.bfloat16).to(\"cuda\")\n",
    "decoder = StableCascadeDecoderPipeline.from_pretrained(\"stabilityai/stable-cascade\", variant=\"bf16\", torch_dtype=torch.float16).to(\"cuda\")"
   ]
  },
  {
   "cell_type": "code",
   "execution_count": null,
   "metadata": {},
   "outputs": [],
   "source": [
    "import tqdm"
   ]
  },
  {
   "cell_type": "code",
   "execution_count": null,
   "metadata": {},
   "outputs": [],
   "source": [
    "prompt = \"A high quality, creative, portrait of a dog, against a plain background.\"\n",
    "negative_prompt = \"\"\n",
    "\n",
    "for i in tqdm.tqdm(range(0, 100, 2)):\n",
    "    # prior.enable_model_cpu_offload()\n",
    "    prior_output = prior(\n",
    "        prompt=prompt,\n",
    "        height=1024,\n",
    "        width=1024,\n",
    "        negative_prompt=negative_prompt,\n",
    "        guidance_scale=4.0,\n",
    "        num_images_per_prompt=2,\n",
    "        num_inference_steps=20\n",
    "    )\n",
    "\n",
    "    # decoder.enable_model_cpu_offload()\n",
    "    decoder_output = decoder(\n",
    "        image_embeddings=prior_output.image_embeddings.to(torch.float16),\n",
    "        prompt=prompt,\n",
    "        negative_prompt=negative_prompt,\n",
    "        guidance_scale=0.0,\n",
    "        output_type=\"pil\",\n",
    "        num_inference_steps=10\n",
    "    )\n",
    "    \n",
    "    # Save the image\n",
    "    for idx, image in enumerate(decoder_output.images):\n",
    "        image.save(f\"projects/custom/dataset/dog/{i+idx}.png\")"
   ]
  },
  {
   "cell_type": "code",
   "execution_count": null,
   "metadata": {},
   "outputs": [],
   "source": [
    "animals = [\"cat\", \"giraffe\", \"tiger\", \"bear\", \"penguin\", \"panda\"]\n",
    "for animal in animals:\n",
    "    prompt = f\"A high quality, creative, portrait of a {animal}, against a plain background.\"\n",
    "    negative_prompt = \"\"\n",
    "\n",
    "    for i in tqdm.tqdm(range(0, 100, 2)):\n",
    "        # prior.enable_model_cpu_offload()\n",
    "        prior_output = prior(\n",
    "            prompt=prompt,\n",
    "            height=1024,\n",
    "            width=1024,\n",
    "            negative_prompt=negative_prompt,\n",
    "            guidance_scale=4.0,\n",
    "            num_images_per_prompt=2,\n",
    "            num_inference_steps=20\n",
    "        )\n",
    "\n",
    "        # decoder.enable_model_cpu_offload()\n",
    "        decoder_output = decoder(\n",
    "            image_embeddings=prior_output.image_embeddings.to(torch.float16),\n",
    "            prompt=prompt,\n",
    "            negative_prompt=negative_prompt,\n",
    "            guidance_scale=0.0,\n",
    "            output_type=\"pil\",\n",
    "            num_inference_steps=10\n",
    "        )\n",
    "        \n",
    "        # Save the image\n",
    "        for idx, image in enumerate(decoder_output.images):\n",
    "            image.save(f\"projects/custom/dataset/{animal}/{i+idx}.png\")"
   ]
  },
  {
   "cell_type": "code",
   "execution_count": null,
   "metadata": {},
   "outputs": [],
   "source": []
  }
 ],
 "metadata": {
  "kernelspec": {
   "display_name": "cloudspace",
   "language": "python",
   "name": "python3"
  },
  "language_info": {
   "codemirror_mode": {
    "name": "ipython",
    "version": 3
   },
   "file_extension": ".py",
   "mimetype": "text/x-python",
   "name": "python",
   "nbconvert_exporter": "python",
   "pygments_lexer": "ipython3",
   "version": "3.10.10"
  }
 },
 "nbformat": 4,
 "nbformat_minor": 2
}
