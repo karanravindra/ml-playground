{
 "cells": [
  {
   "cell_type": "code",
   "execution_count": null,
   "metadata": {},
   "outputs": [],
   "source": [
    "device = 'cpu'\n"
   ]
  },
  {
   "cell_type": "code",
   "execution_count": null,
   "metadata": {},
   "outputs": [],
   "source": [
    "import torch\n",
    "import torch.nn as nn\n",
    "import torch.nn.functional as F\n",
    "import torch.optim as optim\n",
    "import torchvision\n",
    "import tqdm\n",
    "from ema_pytorch import EMA\n"
   ]
  },
  {
   "cell_type": "code",
   "execution_count": null,
   "metadata": {},
   "outputs": [],
   "source": [
    "train_dataset = torchvision.datasets.ImageFolder(\"data/celeba_hq/train\", transform=torchvision.transforms.Compose([\n",
    "    torchvision.transforms.Resize((512, 512)),\n",
    "    torchvision.transforms.ToTensor()\n",
    "]))\n",
    "train_loader = torch.utils.data.DataLoader(train_dataset, batch_size=4, shuffle=True)\n",
    "\n",
    "val_dataset = torchvision.datasets.ImageFolder(\"data/celeba_hq/val\", transform=torchvision.transforms.Compose([\n",
    "    torchvision.transforms.Resize((512, 512)),\n",
    "    torchvision.transforms.ToTensor()\n",
    "]))\n",
    "\n",
    "val_loader = torch.utils.data.DataLoader(val_dataset, batch_size=16, shuffle=True)\n"
   ]
  },
  {
   "cell_type": "code",
   "execution_count": null,
   "metadata": {},
   "outputs": [],
   "source": [
    "class Model(nn.Module):\n",
    "    def __init__(self):\n",
    "        super(Model, self).__init__()\n",
    "        self.layers = nn.ModuleList([\n",
    "            nn.Conv2d(3, 64, 3, padding=1),\n",
    "            nn.ReLU(),\n",
    "            nn.PixelShuffle(2),\n",
    "            nn.Conv2d(16, 64, 3, padding=1),\n",
    "            nn.ReLU(),\n",
    "            nn.PixelShuffle(2),\n",
    "            nn.Conv2d(16, 64, 3, padding=1),\n",
    "            nn.ReLU(),\n",
    "            nn.PixelShuffle(2),\n",
    "            nn.Conv2d(16, 64, 3, padding=1),\n",
    "            nn.ReLU(),\n",
    "            nn.PixelShuffle(2),\n",
    "            nn.Conv2d(16, 64, 3, padding=1),\n",
    "            nn.ReLU(),\n",
    "            nn.PixelShuffle(2),\n",
    "            nn.Conv2d(16, 64, 3, padding=1),\n",
    "            nn.ReLU(),\n",
    "            nn.PixelShuffle(2),\n",
    "            nn.Conv2d(16, 64, 3, padding=1),\n",
    "            nn.ReLU(),\n",
    "            nn.PixelShuffle(2),\n",
    "            nn.Conv2d(16, 64, 3, padding=1),\n",
    "            nn.ReLU(),\n",
    "            nn.PixelShuffle(2),\n",
    "            nn.Conv2d(16, 3, 3, padding=1),\n",
    "            nn.Sigmoid()\n",
    "        ])\n",
    "\n",
    "    def forward(self, x):\n",
    "        for layer in self.layers:\n",
    "            x = layer(x)\n",
    "        return x\n",
    "    \n",
    "model = Model().to(device)\n",
    "criterion = nn.MSELoss(reduction='mean')\n"
   ]
  },
  {
   "cell_type": "code",
   "execution_count": null,
   "metadata": {},
   "outputs": [],
   "source": [
    "optimizer = optim.Adam(model.parameters(), lr=0.0002)\n"
   ]
  },
  {
   "cell_type": "code",
   "execution_count": null,
   "metadata": {},
   "outputs": [],
   "source": [
    "ema = EMA(model, beta=0.9999, update_every=1)\n"
   ]
  },
  {
   "cell_type": "code",
   "execution_count": null,
   "metadata": {},
   "outputs": [],
   "source": [
    "transform = torchvision.transforms.Compose([\n",
    "    torchvision.transforms.Resize((32, 32)),\n",
    "])\n"
   ]
  },
  {
   "cell_type": "code",
   "execution_count": null,
   "metadata": {},
   "outputs": [],
   "source": [
    "@torch.no_grad()\n",
    "def evaluate(loader):\n",
    "    model.eval()\n",
    "    total_loss = 0\n",
    "    total = 0\n",
    "    with torch.no_grad():\n",
    "        for i, (x, _) in enumerate(tqdm.tqdm(val_loader)):\n",
    "            xs = transform(x)\n",
    "            \n",
    "            x = x.to(device)\n",
    "            xs = xs.to(device)\n",
    "            \n",
    "            y = model(xs)\n",
    "            loss = criterion(y, x)\n",
    "            total_loss += loss.item()\n",
    "            total += 1\n",
    "    \n",
    "    return total_loss / total\n"
   ]
  },
  {
   "cell_type": "code",
   "execution_count": null,
   "metadata": {},
   "outputs": [],
   "source": [
    "for epoch in range(10):\n",
    "    model.train()\n",
    "    with tqdm.tqdm(train_loader) as t:\n",
    "        for i, (x, _) in enumerate(t):\n",
    "            xs = transform(x)\n",
    "            \n",
    "            x = x.to(device)\n",
    "            xs = xs.to(device)\n",
    "            \n",
    "            y = model(xs)\n",
    "            loss = criterion(y, x)\n",
    "            \n",
    "            optimizer.zero_grad()\n",
    "            loss.backward()\n",
    "            optimizer.step()\n",
    "            \n",
    "            t.set_postfix_str(f\"loss: {loss.item()}, est acc: {torch.exp(-loss).item()}\")\n",
    "            \n",
    "            ema.update()\n",
    "        \n",
    "    val_loss = evaluate(val_loader)\n",
    "    print(f\"val loss: {val_loss}\")\n",
    "    \n",
    "    # torch.save(model.state_dict(), f\"model_{epoch}.pt\")\n"
   ]
  },
  {
   "cell_type": "code",
   "execution_count": null,
   "metadata": {},
   "outputs": [],
   "source": [
    "print(evaluate(val_loader))\n"
   ]
  },
  {
   "cell_type": "code",
   "execution_count": null,
   "metadata": {},
   "outputs": [],
   "source": [
    "import matplotlib.pyplot as plt\n",
    "\n",
    "x = next(iter(val_loader))[0]\n",
    "xs = transform(x)\n",
    "xs = xs.to(device)\n",
    "y = model(xs)\n",
    "\n",
    "plt.figure(figsize=(20, 10))\n",
    "for i in range(4):\n",
    "    plt.subplot(2, 4, i + 1)\n",
    "    plt.imshow(xs[i].permute(1, 2, 0).cpu())\n",
    "    plt.axis(\"off\")\n",
    "    \n",
    "    plt.subplot(2, 4, i + 5)\n",
    "    plt.imshow(y[i].permute(1, 2, 0).detach().cpu())\n",
    "    plt.axis(\"off\")\n",
    "    \n",
    "plt.show()\n"
   ]
  },
  {
   "cell_type": "code",
   "execution_count": null,
   "metadata": {},
   "outputs": [],
   "source": []
  }
 ],
 "metadata": {
  "kernelspec": {
   "display_name": "venv",
   "language": "python",
   "name": "python3"
  },
  "language_info": {
   "codemirror_mode": {
    "name": "ipython",
    "version": 3
   },
   "file_extension": ".py",
   "mimetype": "text/x-python",
   "name": "python",
   "nbconvert_exporter": "python",
   "pygments_lexer": "ipython3",
   "version": "3.10.13"
  }
 },
 "nbformat": 4,
 "nbformat_minor": 2
}
