{
 "cells": [
  {
   "cell_type": "code",
   "execution_count": null,
   "metadata": {},
   "outputs": [],
   "source": [
    "import torch\n",
    "import torch.nn as nn\n",
    "import torch.nn.functional as F\n",
    "import wandb\n",
    "import torchvision\n"
   ]
  },
  {
   "cell_type": "code",
   "execution_count": null,
   "metadata": {},
   "outputs": [],
   "source": [
    "train_dataset = torchvision.datasets.MNIST(\n",
    "    root=\"data\",\n",
    "    train=True,\n",
    "    transform=torchvision.transforms.Compose(\n",
    "        [torchvision.transforms.ToTensor()]\n",
    "    ),\n",
    "    download=True,\n",
    ")\n",
    "train_loader = torch.utils.data.DataLoader(train_dataset, batch_size=32, shuffle=True)\n",
    "\n",
    "test_dataset = torchvision.datasets.MNIST(\n",
    "    root=\"data\",\n",
    "    train=False,\n",
    "    transform=torchvision.transforms.Compose(\n",
    "        [torchvision.transforms.ToTensor()]\n",
    "    ),\n",
    "    download=True,\n",
    ")\n",
    "\n",
    "test_loader = torch.utils.data.DataLoader(test_dataset, batch_size=32, shuffle=False)\n"
   ]
  },
  {
   "cell_type": "code",
   "execution_count": null,
   "metadata": {},
   "outputs": [],
   "source": [
    "class Encoder(nn.Module):\n",
    "    def __init__(self, input_channels, latent_dim):\n",
    "        super(Encoder, self).__init__()\n",
    "        self.layers = nn.Sequential(\n",
    "            nn.Linear(784, 512),\n",
    "            nn.ReLU(),\n",
    "            nn.Linear(512, 256),\n",
    "            nn.ReLU(),\n",
    "            nn.Linear(256, latent_dim),\n",
    "        )\n",
    "        \n",
    "    def forward(self, x):\n",
    "        x = x.view(x.size(0), -1)\n",
    "        return self.layers(x)\n",
    "    \n",
    "class Decoder(nn.Module):\n",
    "    def __init__(self, output_channels, latent_dim):\n",
    "        super(Decoder, self).__init__()\n",
    "        self.layers = nn.Sequential(\n",
    "            nn.Linear(latent_dim, 256),\n",
    "            nn.ReLU(),\n",
    "            nn.Linear(256, 512),\n",
    "            nn.ReLU(),\n",
    "            nn.Linear(512, 784),\n",
    "            nn.Sigmoid(),\n",
    "        )\n",
    "        \n",
    "    def forward(self, x):\n",
    "        return self.layers(x).view(x.size(0), 1, 28, 28)\n"
   ]
  },
  {
   "cell_type": "code",
   "execution_count": null,
   "metadata": {},
   "outputs": [],
   "source": [
    "encoder = Encoder(1, 2)\n",
    "decoder = Decoder(1, 2)\n"
   ]
  },
  {
   "cell_type": "code",
   "execution_count": null,
   "metadata": {},
   "outputs": [],
   "source": [
    "optimizer = torch.optim.Adam(list(encoder.parameters()) + list(decoder.parameters()), lr=0.001)\n"
   ]
  },
  {
   "cell_type": "code",
   "execution_count": null,
   "metadata": {},
   "outputs": [],
   "source": [
    "wandb.init(project=\"vae\")\n",
    "\n",
    "for epoch in range(1):\n",
    "    for i, (images, _) in enumerate(train_loader):\n",
    "        optimizer.zero_grad()\n",
    "        z = encoder(images)\n",
    "        x_hat = decoder(z)\n",
    "        loss = F.binary_cross_entropy(x_hat, images)\n",
    "        loss.backward()\n",
    "        optimizer.step()\n",
    "        wandb.log({\"loss\": loss.item()})\n",
    "        if i % 100 == 0:\n",
    "            wandb.log({\"reconstruction\": [wandb.Image(images[0]), wandb.Image(x_hat[0])]})\n",
    "            print(f\"Epoch {epoch} Iteration {i} Loss {loss.item()}\")\n",
    "        \n",
    "\n",
    "encoder.eval()\n",
    "decoder.eval()\n",
    "\n",
    "embeddings = []\n",
    "for i, (images, _) in enumerate(test_loader):\n",
    "    z = encoder(images)\n",
    "    embeddings.append(z)\n",
    "embeddings = torch.cat(embeddings, dim=0).detach()\n",
    "labels = torch.cat([y for x, y in test_loader], dim=0)\n",
    "\n",
    "wandb.log({\"embeddings\": wandb.Table(data=torch.cat([labels.unsqueeze(1), embeddings], dim=1).numpy().tolist(), columns=[\"label\"] + [f\"dim{i}\" for i in range(embeddings.size(1))])})\n",
    "    \n",
    "\n",
    "    \n",
    "wandb.finish()\n"
   ]
  },
  {
   "cell_type": "code",
   "execution_count": null,
   "metadata": {},
   "outputs": [],
   "source": []
  }
 ],
 "metadata": {
  "kernelspec": {
   "display_name": "cloudspace",
   "language": "python",
   "name": "python3"
  },
  "language_info": {
   "codemirror_mode": {
    "name": "ipython",
    "version": 3
   },
   "file_extension": ".py",
   "mimetype": "text/x-python",
   "name": "python",
   "nbconvert_exporter": "python",
   "pygments_lexer": "ipython3",
   "version": "3.10.13"
  }
 },
 "nbformat": 4,
 "nbformat_minor": 2
}
