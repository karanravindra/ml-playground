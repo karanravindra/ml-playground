{
 "cells": [
  {
   "cell_type": "code",
   "execution_count": null,
   "metadata": {},
   "outputs": [],
   "source": [
    "import torch\n",
    "import torch.nn as nn\n",
    "import torch.nn.functional as F\n",
    "import torch.optim as optim\n",
    "import torchvision\n",
    "import tqdm as tqdm\n",
    "import lightning.pytorch as pl\n",
    "from pytorch_lightning.loggers import WandbLogger\n",
    "import wandb\n",
    "from torchmetrics.image.fid import FrechetInceptionDistance\n",
    "\n",
    "\n",
    "class ResidualStack(nn.Module):\n",
    "    def __init__(self, num_hiddens, num_residual_layers, num_residual_hiddens):\n",
    "        super().__init__()\n",
    "        # See Section 4.1 of \"Neural Discrete Representation Learning\".\n",
    "        layers = []\n",
    "        for i in range(num_residual_layers):\n",
    "            layers.append(\n",
    "                nn.Sequential(\n",
    "                    nn.ReLU(),\n",
    "                    nn.Conv2d(\n",
    "                        in_channels=num_hiddens,\n",
    "                        out_channels=num_residual_hiddens,\n",
    "                        kernel_size=3,\n",
    "                        padding=1,\n",
    "                    ),\n",
    "                    nn.ReLU(),\n",
    "                    nn.Conv2d(\n",
    "                        in_channels=num_residual_hiddens,\n",
    "                        out_channels=num_hiddens,\n",
    "                        kernel_size=1,\n",
    "                    ),\n",
    "                )\n",
    "            )\n",
    "\n",
    "        self.layers = nn.ModuleList(layers)\n",
    "\n",
    "    def forward(self, x):\n",
    "        h = x\n",
    "        for layer in self.layers:\n",
    "            h = h + layer(h)\n",
    "\n",
    "        # ResNet V1-style.\n",
    "        return torch.relu(h)\n",
    "\n",
    "\n",
    "class Encoder(nn.Module):\n",
    "    def __init__(\n",
    "        self,\n",
    "        in_channels,\n",
    "        num_hiddens,\n",
    "        num_downsampling_layers,\n",
    "        num_residual_layers,\n",
    "        num_residual_hiddens,\n",
    "    ):\n",
    "        super().__init__()\n",
    "        # See Section 4.1 of \"Neural Discrete Representation Learning\".\n",
    "        # The last ReLU from the Sonnet example is omitted because ResidualStack starts\n",
    "        # off with a ReLU.\n",
    "        conv = nn.Sequential()\n",
    "        for downsampling_layer in range(num_downsampling_layers):\n",
    "            if downsampling_layer == 0:\n",
    "                out_channels = num_hiddens // 2\n",
    "            elif downsampling_layer == 1:\n",
    "                (in_channels, out_channels) = (num_hiddens // 2, num_hiddens)\n",
    "\n",
    "            else:\n",
    "                (in_channels, out_channels) = (num_hiddens, num_hiddens)\n",
    "\n",
    "            conv.add_module(\n",
    "                f\"down{downsampling_layer}\",\n",
    "                nn.Conv2d(\n",
    "                    in_channels=in_channels,\n",
    "                    out_channels=out_channels,\n",
    "                    kernel_size=4,\n",
    "                    stride=2,\n",
    "                    padding=1,\n",
    "                ),\n",
    "            )\n",
    "            conv.add_module(f\"relu{downsampling_layer}\", nn.ReLU())\n",
    "\n",
    "        conv.add_module(\n",
    "            \"final_conv\",\n",
    "            nn.Conv2d(\n",
    "                in_channels=num_hiddens,\n",
    "                out_channels=num_hiddens,\n",
    "                kernel_size=3,\n",
    "                padding=1,\n",
    "            ),\n",
    "        )\n",
    "        self.conv = conv\n",
    "        self.residual_stack = ResidualStack(\n",
    "            num_hiddens, num_residual_layers, num_residual_hiddens\n",
    "        )\n",
    "\n",
    "    def forward(self, x):\n",
    "        h = self.conv(x)\n",
    "        return self.residual_stack(h)\n",
    "\n",
    "\n",
    "class Decoder(nn.Module):\n",
    "    def __init__(\n",
    "        self,\n",
    "        embedding_dim,\n",
    "        num_hiddens,\n",
    "        num_upsampling_layers,\n",
    "        num_residual_layers,\n",
    "        num_residual_hiddens,\n",
    "    ):\n",
    "        super().__init__()\n",
    "        # See Section 4.1 of \"Neural Discrete Representation Learning\".\n",
    "        self.conv = nn.Conv2d(\n",
    "            in_channels=embedding_dim,\n",
    "            out_channels=num_hiddens,\n",
    "            kernel_size=3,\n",
    "            padding=1,\n",
    "        )\n",
    "        self.residual_stack = ResidualStack(\n",
    "            num_hiddens, num_residual_layers, num_residual_hiddens\n",
    "        )\n",
    "        upconv = nn.Sequential()\n",
    "        for upsampling_layer in range(num_upsampling_layers):\n",
    "            if upsampling_layer < num_upsampling_layers - 2:\n",
    "                (in_channels, out_channels) = (num_hiddens, num_hiddens)\n",
    "\n",
    "            elif upsampling_layer == num_upsampling_layers - 2:\n",
    "                (in_channels, out_channels) = (num_hiddens, num_hiddens // 2)\n",
    "\n",
    "            else:\n",
    "                (in_channels, out_channels) = (num_hiddens // 2, 3)\n",
    "\n",
    "            upconv.add_module(\n",
    "                f\"up{upsampling_layer}\",\n",
    "                nn.ConvTranspose2d(\n",
    "                    in_channels=in_channels,\n",
    "                    out_channels=out_channels,\n",
    "                    kernel_size=4,\n",
    "                    stride=2,\n",
    "                    padding=1,\n",
    "                ),\n",
    "            )\n",
    "            if upsampling_layer < num_upsampling_layers - 1:\n",
    "                upconv.add_module(f\"relu{upsampling_layer}\", nn.ReLU())\n",
    "\n",
    "        self.upconv = upconv\n",
    "\n",
    "    def forward(self, x):\n",
    "        h = self.conv(x)\n",
    "        h = self.residual_stack(h)\n",
    "        x_recon = self.upconv(h)\n",
    "        return x_recon\n",
    "\n",
    "\n",
    "class SonnetExponentialMovingAverage(nn.Module):\n",
    "    # See: https://github.com/deepmind/sonnet/blob/5cbfdc356962d9b6198d5b63f0826a80acfdf35b/sonnet/src/moving_averages.py#L25.\n",
    "    # They do *not* use the exponential moving average updates described in Appendix A.1\n",
    "    # of \"Neural Discrete Representation Learning\".\n",
    "    def __init__(self, decay, shape):\n",
    "        super().__init__()\n",
    "        self.decay = decay\n",
    "        self.counter = 0\n",
    "        self.register_buffer(\"hidden\", torch.zeros(*shape))\n",
    "        self.register_buffer(\"average\", torch.zeros(*shape))\n",
    "\n",
    "    def update(self, value):\n",
    "        self.counter += 1\n",
    "        with torch.no_grad():\n",
    "            self.hidden -= (self.hidden - value) * (1 - self.decay)\n",
    "            self.average = self.hidden / (1 - self.decay**self.counter)\n",
    "\n",
    "    def __call__(self, value):\n",
    "        self.update(value)\n",
    "        return self.average\n",
    "\n",
    "\n",
    "class VectorQuantizer(nn.Module):\n",
    "    def __init__(self, embedding_dim, num_embeddings, use_ema, decay, epsilon):\n",
    "        super().__init__()\n",
    "        # See Section 3 of \"Neural Discrete Representation Learning\" and:\n",
    "        # https://github.com/deepmind/sonnet/blob/v2/sonnet/src/nets/vqvae.py#L142.\n",
    "\n",
    "        self.embedding_dim = embedding_dim\n",
    "        self.num_embeddings = num_embeddings\n",
    "        self.use_ema = use_ema\n",
    "        # Weight for the exponential moving average.\n",
    "        self.decay = decay\n",
    "        # Small constant to avoid numerical instability in embedding updates.\n",
    "        self.epsilon = epsilon\n",
    "\n",
    "        # Dictionary embeddings.\n",
    "        limit = 3**0.5\n",
    "        e_i_ts = torch.FloatTensor(embedding_dim, num_embeddings).uniform_(\n",
    "            -limit, limit\n",
    "        )\n",
    "        if use_ema:\n",
    "            self.register_buffer(\"e_i_ts\", e_i_ts)\n",
    "        else:\n",
    "            self.register_parameter(\"e_i_ts\", nn.Parameter(e_i_ts))\n",
    "\n",
    "        # Exponential moving average of the cluster counts.\n",
    "        self.N_i_ts = SonnetExponentialMovingAverage(decay, (num_embeddings,))\n",
    "        # Exponential moving average of the embeddings.\n",
    "        self.m_i_ts = SonnetExponentialMovingAverage(decay, e_i_ts.shape)\n",
    "\n",
    "    def forward(self, x):\n",
    "        flat_x = x.permute(0, 2, 3, 1).reshape(-1, self.embedding_dim)\n",
    "        distances = (\n",
    "            (flat_x**2).sum(1, keepdim=True)\n",
    "            - 2 * flat_x @ self.e_i_ts\n",
    "            + (self.e_i_ts**2).sum(0, keepdim=True)\n",
    "        )\n",
    "        encoding_indices = distances.argmin(1)\n",
    "        quantized_x = F.embedding(\n",
    "            encoding_indices.view(x.shape[0], *x.shape[2:]), self.e_i_ts.transpose(0, 1)\n",
    "        ).permute(0, 3, 1, 2)\n",
    "\n",
    "        # See second term of Equation (3).\n",
    "        if not self.use_ema:\n",
    "            dictionary_loss = ((x.detach() - quantized_x) ** 2).mean()\n",
    "        else:\n",
    "            dictionary_loss = None\n",
    "\n",
    "        # See third term of Equation (3).\n",
    "        commitment_loss = ((x - quantized_x.detach()) ** 2).mean()\n",
    "        # Straight-through gradient. See Section 3.2.\n",
    "        quantized_x = x + (quantized_x - x).detach()\n",
    "\n",
    "        if self.use_ema and self.training:\n",
    "            with torch.no_grad():\n",
    "                # See Appendix A.1 of \"Neural Discrete Representation Learning\".\n",
    "\n",
    "                # Cluster counts.\n",
    "                encoding_one_hots = F.one_hot(\n",
    "                    encoding_indices, self.num_embeddings\n",
    "                ).type(flat_x.dtype)\n",
    "                n_i_ts = encoding_one_hots.sum(0)\n",
    "                # Updated exponential moving average of the cluster counts.\n",
    "                # See Equation (6).\n",
    "                self.N_i_ts(n_i_ts)\n",
    "\n",
    "                # Exponential moving average of the embeddings. See Equation (7).\n",
    "                embed_sums = flat_x.transpose(0, 1) @ encoding_one_hots\n",
    "                self.m_i_ts(embed_sums)\n",
    "\n",
    "                # This is kind of weird.\n",
    "                # Compare: https://github.com/deepmind/sonnet/blob/v2/sonnet/src/nets/vqvae.py#L270\n",
    "                # and Equation (8).\n",
    "                N_i_ts_sum = self.N_i_ts.average.sum()\n",
    "                N_i_ts_stable = (\n",
    "                    (self.N_i_ts.average + self.epsilon)\n",
    "                    / (N_i_ts_sum + self.num_embeddings * self.epsilon)\n",
    "                    * N_i_ts_sum\n",
    "                )\n",
    "                self.e_i_ts = self.m_i_ts.average / N_i_ts_stable.unsqueeze(0)\n",
    "\n",
    "        return (\n",
    "            quantized_x,\n",
    "            dictionary_loss,\n",
    "            commitment_loss,\n",
    "            encoding_indices.view(x.shape[0], -1),\n",
    "        )\n",
    "\n",
    "\n",
    "class VQVAE(nn.Module):\n",
    "    def __init__(\n",
    "        self,\n",
    "        in_channels,\n",
    "        num_hiddens,\n",
    "        num_downsampling_layers,\n",
    "        num_residual_layers,\n",
    "        num_residual_hiddens,\n",
    "        embedding_dim,\n",
    "        num_embeddings,\n",
    "        use_ema,\n",
    "        decay,\n",
    "        epsilon,\n",
    "    ):\n",
    "        super().__init__()\n",
    "        self.encoder = Encoder(\n",
    "            in_channels,\n",
    "            num_hiddens,\n",
    "            num_downsampling_layers,\n",
    "            num_residual_layers,\n",
    "            num_residual_hiddens,\n",
    "        )\n",
    "        self.pre_vq_conv = nn.Conv2d(\n",
    "            in_channels=num_hiddens, out_channels=embedding_dim, kernel_size=1\n",
    "        )\n",
    "        self.vq = VectorQuantizer(\n",
    "            embedding_dim, num_embeddings, use_ema, decay, epsilon\n",
    "        )\n",
    "        self.decoder = Decoder(\n",
    "            embedding_dim,\n",
    "            num_hiddens,\n",
    "            num_downsampling_layers,\n",
    "            num_residual_layers,\n",
    "            num_residual_hiddens,\n",
    "        )\n",
    "\n",
    "    def quantize(self, x):\n",
    "        z = self.pre_vq_conv(self.encoder(x))\n",
    "        (z_quantized, dictionary_loss, commitment_loss, encoding_indices) = self.vq(z)\n",
    "        return (z_quantized, dictionary_loss, commitment_loss, encoding_indices)\n",
    "\n",
    "    def forward(self, x):\n",
    "        (z_quantized, dictionary_loss, commitment_loss, _) = self.quantize(x)\n",
    "        x_recon = self.decoder(z_quantized)\n",
    "        return {\n",
    "            \"dictionary_loss\": dictionary_loss,\n",
    "            \"commitment_loss\": commitment_loss,\n",
    "            \"x_recon\": x_recon,\n",
    "        }\n",
    "\n",
    "\n",
    "class VQVAE_Trainer(pl.LightningModule):\n",
    "    def __init__(\n",
    "        self,\n",
    "        fid_features=2048,\n",
    "        in_channels=3,\n",
    "        num_hiddens=128,\n",
    "        num_downsampling_layers=2,\n",
    "        num_residual_layers=2,\n",
    "        num_residual_hiddens=32,\n",
    "        embedding_dim=3,\n",
    "        num_embeddings=512,\n",
    "        use_ema=True,\n",
    "        decay=0.99,\n",
    "        epsilon=1e-5,\n",
    "        beta=0.25,\n",
    "        lr=2e-4,\n",
    "        batch_size=32,\n",
    "    ):\n",
    "        super(VQVAE_Trainer, self).__init__()\n",
    "        self.model = VQVAE(\n",
    "            in_channels=3,\n",
    "            num_hiddens=128,\n",
    "            num_downsampling_layers=2,\n",
    "            num_residual_layers=2,\n",
    "            num_residual_hiddens=32,\n",
    "            embedding_dim=1,\n",
    "            num_embeddings=512,\n",
    "            use_ema=True,\n",
    "            decay=0.99,\n",
    "            epsilon=1e-5,\n",
    "        )\n",
    "\n",
    "        self.fid = FrechetInceptionDistance(fid_features)\n",
    "\n",
    "        self.lr = lr\n",
    "        self.batch_size = batch_size\n",
    "        self.beta = beta\n",
    "\n",
    "        self.save_hyperparameters()\n",
    "\n",
    "    def forward(self, x):\n",
    "        return self.model(x)\n",
    "\n",
    "    def training_step(self, batch, batch_idx):\n",
    "        x, _ = batch\n",
    "\n",
    "        out = self.model(x)\n",
    "        recon_error = F.mse_loss(out[\"x_recon\"], x, reduction=\"sum\")\n",
    "\n",
    "        loss = recon_error + self.beta * out[\"commitment_loss\"]\n",
    "\n",
    "        self.log(\"train_loss\", loss)\n",
    "        self.log(\"train_recon_error\", recon_error)\n",
    "        self.log(\"train_commitment_loss\", out[\"commitment_loss\"])\n",
    "\n",
    "        return loss\n",
    "\n",
    "    def validation_step(self, batch, batch_idx):\n",
    "        x, _ = batch\n",
    "\n",
    "        out = self.model(x)\n",
    "\n",
    "        recon_error = F.mse_loss(out[\"x_recon\"], x, reduction=\"sum\")\n",
    "\n",
    "        loss = recon_error + self.beta * out[\"commitment_loss\"]\n",
    "\n",
    "        self.log(\"val_loss\", loss)\n",
    "        self.log(\"val_recon_error\", recon_error)\n",
    "        self.log(\"val_commitment_loss\", out[\"commitment_loss\"])\n",
    "\n",
    "        if batch_idx == 0:\n",
    "            self.logger.experiment.log(\n",
    "                {\n",
    "                    \"reconstructed\": wandb.Image(\n",
    "                        torchvision.utils.make_grid(out[\"x_recon\"]),\n",
    "                        caption=f\"Epoch {self.current_epoch}, Step {self.global_step}\",\n",
    "                    ),\n",
    "                    # \"real\": wandb.Image(\n",
    "                    #     torchvision.utils.make_grid(x),\n",
    "                    #     caption=f\"Epoch {self.current_epoch}, Step {self.global_step}\",\n",
    "                    # ),\n",
    "                }\n",
    "            )\n",
    "\n",
    "            # Resize to 299x299\n",
    "            x = F.interpolate(x, size=299)\n",
    "            x_hat = F.interpolate(out[\"x_recon\"], size=299)\n",
    "\n",
    "            # Convert to u8\n",
    "            x = (x * 255).to(torch.uint8)\n",
    "            x_hat = (x_hat * 255).to(torch.uint8)\n",
    "\n",
    "            # Compute FID\n",
    "            self.fid.update(x, real=True)\n",
    "            self.fid.update(x_hat, real=False)\n",
    "\n",
    "            self.log(\"fid\", self.fid.compute())\n",
    "            self.fid.reset()\n",
    "\n",
    "    def configure_optimizers(self):\n",
    "        return optim.Adam(self.model.parameters(), lr=self.lr)\n",
    "\n",
    "    def train_dataloader(self):\n",
    "        return torch.utils.data.DataLoader(\n",
    "            torchvision.datasets.ImageFolder(\n",
    "                \"data/celeba_hq/train\",\n",
    "                transform=torchvision.transforms.Compose(\n",
    "                    [\n",
    "                        torchvision.transforms.Resize((128, 128)),\n",
    "                        torchvision.transforms.ToTensor(),\n",
    "                    ]\n",
    "                ),\n",
    "            ),\n",
    "            batch_size=self.batch_size,\n",
    "            shuffle=True,\n",
    "        )\n",
    "\n",
    "    def val_dataloader(self):\n",
    "        return torch.utils.data.DataLoader(\n",
    "            torchvision.datasets.ImageFolder(\n",
    "                \"data/celeba_hq/val\",\n",
    "                transform=torchvision.transforms.Compose(\n",
    "                    [\n",
    "                        torchvision.transforms.Resize((128, 128)),\n",
    "                        torchvision.transforms.ToTensor(),\n",
    "                    ]\n",
    "                ),\n",
    "            ),\n",
    "            batch_size=self.batch_size,\n",
    "            shuffle=True,\n",
    "        )\n",
    "\n",
    "\n",
    "def main():\n",
    "    vae = VQVAE_Trainer()\n",
    "    wandb_logger = WandbLogger(\n",
    "        project=\"vq-vae\",\n",
    "        save_code=True,\n",
    "        log_model=True,\n",
    "        save_dir=\"./projects/image-generation/6-vq-vae/logs/\",\n",
    "    )\n",
    "    trainer = pl.Trainer(\n",
    "        logger=wandb_logger,\n",
    "        val_check_interval=0.5,\n",
    "        limit_val_batches=1,\n",
    "        log_every_n_steps=1,\n",
    "        default_root_dir=\"./projects/image-generation/6-vq-vae/logs/\",\n",
    "        max_steps=10_000,\n",
    "        enable_checkpointing=True,\n",
    "    )\n",
    "    trainer.fit(vae)\n"
   ]
  },
  {
   "cell_type": "code",
   "execution_count": null,
   "metadata": {},
   "outputs": [],
   "source": [
    "model = VQVAE_Trainer.load_from_checkpoint(\"projects/paper-implementations/image-generation/6-vq-vae/checkpoints/epoch=10-step=9624.ckpt\")\n"
   ]
  },
  {
   "cell_type": "code",
   "execution_count": null,
   "metadata": {},
   "outputs": [],
   "source": [
    "og_dataset = torchvision.datasets.ImageFolder(\n",
    "    \"data/celeba_hq/val\",\n",
    "    transform=torchvision.transforms.Compose(\n",
    "        [\n",
    "            torchvision.transforms.Resize((128, 128)),\n",
    "            torchvision.transforms.ToTensor(),\n",
    "        ]\n",
    "    ),\n",
    ")\n",
    "\n",
    "og_loader = torch.utils.data.DataLoader(og_dataset, batch_size=32, shuffle=False)\n"
   ]
  },
  {
   "cell_type": "code",
   "execution_count": null,
   "metadata": {},
   "outputs": [],
   "source": [
    "quantized_dataset = torch.utils.data.TensorDataset(torch.cat(\n",
    "    [\n",
    "        model.model.quantize(x)[3]\n",
    "        for x, _ in og_loader\n",
    "    ],\n",
    "    dim=0\n",
    "))\n"
   ]
  },
  {
   "cell_type": "code",
   "execution_count": null,
   "metadata": {},
   "outputs": [],
   "source": [
    "import tqdm\n",
    "import torch.nn.functional as F\n"
   ]
  },
  {
   "cell_type": "code",
   "execution_count": null,
   "metadata": {},
   "outputs": [],
   "source": [
    "import torch\n",
    "import torch.nn as nn\n",
    "\n",
    "class Model(nn.Module):\n",
    "    def __init__(self, vocab_size, embed_dim, hidden_dim, num_layers):\n",
    "        super(Model, self).__init__()\n",
    "        self.hidden_dim = hidden_dim\n",
    "        self.num_layers = num_layers\n",
    "        \n",
    "        # Embedding layer\n",
    "        self.embedding = nn.Embedding(vocab_size, embed_dim)\n",
    "        \n",
    "        # LSTM layer\n",
    "        self.lstm = nn.LSTM(embed_dim, hidden_dim, num_layers, batch_first=True)\n",
    "        \n",
    "        # Fully connected layer to predict each character\n",
    "        self.fc = nn.Linear(hidden_dim, vocab_size)\n",
    "\n",
    "    def forward(self, x, hidden=None):\n",
    "        # Embedding\n",
    "        x = self.embedding(x)\n",
    "        \n",
    "        # Initialize hidden state and cell state if not provided\n",
    "        if hidden is None:\n",
    "            h0 = torch.zeros(self.num_layers, x.size(0), self.hidden_dim, device=x.device)\n",
    "            c0 = torch.zeros(self.num_layers, x.size(0), self.hidden_dim, device=x.device)\n",
    "            hidden = (h0, c0)\n",
    "        \n",
    "        # LSTM output along with new hidden state\n",
    "        out, hidden = self.lstm(x, hidden)\n",
    "        \n",
    "        # Reshape output for the fully connected layer\n",
    "        out = out.reshape(-1, self.hidden_dim)\n",
    "        out = self.fc(out)\n",
    "        return out, hidden\n",
    "\n",
    "# Create an instance of the updated model\n",
    "vocab_size = 512  # number of unique characters\n",
    "embed_dim = 128   # embedding dimension\n",
    "hidden_dim = 256  # LSTM hidden dimensions\n",
    "num_layers = 2  # number of LSTM layers\n",
    "\n",
    "generator = Model(vocab_size, embed_dim, hidden_dim, num_layers)\n",
    "print(f\"Generator has {sum(p.numel() for p in generator.parameters() if p.requires_grad):,} parameters\")\n"
   ]
  },
  {
   "cell_type": "code",
   "execution_count": null,
   "metadata": {},
   "outputs": [],
   "source": [
    "# Load .pt file\n",
    "quantized_dataset = torch.load(\"quantized.pt\")\n"
   ]
  },
  {
   "cell_type": "code",
   "execution_count": null,
   "metadata": {},
   "outputs": [],
   "source": [
    "quantized_loader = torch.utils.data.DataLoader(quantized_dataset, batch_size=16, shuffle=True)\n",
    "x = next(iter(quantized_loader))\n",
    "print(x[0].shape)\n"
   ]
  },
  {
   "cell_type": "code",
   "execution_count": null,
   "metadata": {},
   "outputs": [],
   "source": [
    "criterion = nn.CrossEntropyLoss()\n",
    "optimizer = torch.optim.AdamW(generator.parameters(), lr=0.001)\n"
   ]
  },
  {
   "cell_type": "code",
   "execution_count": 61,
   "metadata": {},
   "outputs": [
    {
     "data": {
      "application/vnd.jupyter.widget-view+json": {
       "model_id": "4956b55ae446441f8ff0040b3490896d",
       "version_major": 2,
       "version_minor": 0
      },
      "text/plain": [
       "Epochs:   0%|          | 0/10 [00:00<?, ?it/s]"
      ]
     },
     "metadata": {},
     "output_type": "display_data"
    },
    {
     "data": {
      "application/vnd.jupyter.widget-view+json": {
       "model_id": "69dbf9c7eb844d32ae2c411f4e2fba88",
       "version_major": 2,
       "version_minor": 0
      },
      "text/plain": [
       "Batches:   0%|          | 0/125 [00:00<?, ?it/s]"
      ]
     },
     "metadata": {},
     "output_type": "display_data"
    },
    {
     "data": {
      "application/vnd.jupyter.widget-view+json": {
       "model_id": "c23d6132fdae49308169225c1bc64494",
       "version_major": 2,
       "version_minor": 0
      },
      "text/plain": [
       "Character:   0%|          | 0/1023 [00:00<?, ?it/s]"
      ]
     },
     "metadata": {},
     "output_type": "display_data"
    },
    {
     "data": {
      "application/vnd.jupyter.widget-view+json": {
       "model_id": "890a3a99f7e041d89bcaaa3ec7ffaaea",
       "version_major": 2,
       "version_minor": 0
      },
      "text/plain": [
       "Character:   0%|          | 0/1023 [00:00<?, ?it/s]"
      ]
     },
     "metadata": {},
     "output_type": "display_data"
    },
    {
     "data": {
      "application/vnd.jupyter.widget-view+json": {
       "model_id": "c6cf0233167d40aa9b9bf0007831e389",
       "version_major": 2,
       "version_minor": 0
      },
      "text/plain": [
       "Character:   0%|          | 0/1023 [00:00<?, ?it/s]"
      ]
     },
     "metadata": {},
     "output_type": "display_data"
    },
    {
     "data": {
      "application/vnd.jupyter.widget-view+json": {
       "model_id": "6976ef5abc764477b17aa1f6cba4f0a6",
       "version_major": 2,
       "version_minor": 0
      },
      "text/plain": [
       "Character:   0%|          | 0/1023 [00:00<?, ?it/s]"
      ]
     },
     "metadata": {},
     "output_type": "display_data"
    },
    {
     "data": {
      "application/vnd.jupyter.widget-view+json": {
       "model_id": "f95c738fd89c42339379e14827352eec",
       "version_major": 2,
       "version_minor": 0
      },
      "text/plain": [
       "Character:   0%|          | 0/1023 [00:00<?, ?it/s]"
      ]
     },
     "metadata": {},
     "output_type": "display_data"
    },
    {
     "data": {
      "application/vnd.jupyter.widget-view+json": {
       "model_id": "0fc07dca7cae4f1aa17158c47faf03c3",
       "version_major": 2,
       "version_minor": 0
      },
      "text/plain": [
       "Character:   0%|          | 0/1023 [00:00<?, ?it/s]"
      ]
     },
     "metadata": {},
     "output_type": "display_data"
    },
    {
     "data": {
      "application/vnd.jupyter.widget-view+json": {
       "model_id": "9e356e728a4442cd83525b610797f528",
       "version_major": 2,
       "version_minor": 0
      },
      "text/plain": [
       "Character:   0%|          | 0/1023 [00:00<?, ?it/s]"
      ]
     },
     "metadata": {},
     "output_type": "display_data"
    },
    {
     "data": {
      "application/vnd.jupyter.widget-view+json": {
       "model_id": "214c38be525744f4b1b84f8afb17d7ad",
       "version_major": 2,
       "version_minor": 0
      },
      "text/plain": [
       "Character:   0%|          | 0/1023 [00:00<?, ?it/s]"
      ]
     },
     "metadata": {},
     "output_type": "display_data"
    },
    {
     "data": {
      "application/vnd.jupyter.widget-view+json": {
       "model_id": "070fcad2dcec49d68eea0d483ed41209",
       "version_major": 2,
       "version_minor": 0
      },
      "text/plain": [
       "Character:   0%|          | 0/1023 [00:00<?, ?it/s]"
      ]
     },
     "metadata": {},
     "output_type": "display_data"
    },
    {
     "data": {
      "application/vnd.jupyter.widget-view+json": {
       "model_id": "ae0c1ad0f49741a1b1abde65e57efa72",
       "version_major": 2,
       "version_minor": 0
      },
      "text/plain": [
       "Character:   0%|          | 0/1023 [00:00<?, ?it/s]"
      ]
     },
     "metadata": {},
     "output_type": "display_data"
    },
    {
     "data": {
      "application/vnd.jupyter.widget-view+json": {
       "model_id": "18afff5f535447ecb37a83327b6ba2f0",
       "version_major": 2,
       "version_minor": 0
      },
      "text/plain": [
       "Character:   0%|          | 0/1023 [00:00<?, ?it/s]"
      ]
     },
     "metadata": {},
     "output_type": "display_data"
    },
    {
     "data": {
      "application/vnd.jupyter.widget-view+json": {
       "model_id": "0b35fea597f54a459b4cb3d6206cdf05",
       "version_major": 2,
       "version_minor": 0
      },
      "text/plain": [
       "Character:   0%|          | 0/1023 [00:00<?, ?it/s]"
      ]
     },
     "metadata": {},
     "output_type": "display_data"
    },
    {
     "data": {
      "application/vnd.jupyter.widget-view+json": {
       "model_id": "44cafd4c67494efab074179c73e5618d",
       "version_major": 2,
       "version_minor": 0
      },
      "text/plain": [
       "Character:   0%|          | 0/1023 [00:00<?, ?it/s]"
      ]
     },
     "metadata": {},
     "output_type": "display_data"
    },
    {
     "data": {
      "application/vnd.jupyter.widget-view+json": {
       "model_id": "83038492aa324d709f41eecd2324844c",
       "version_major": 2,
       "version_minor": 0
      },
      "text/plain": [
       "Character:   0%|          | 0/1023 [00:00<?, ?it/s]"
      ]
     },
     "metadata": {},
     "output_type": "display_data"
    },
    {
     "data": {
      "application/vnd.jupyter.widget-view+json": {
       "model_id": "75fe67bd967241e2b1a65c38f28667e3",
       "version_major": 2,
       "version_minor": 0
      },
      "text/plain": [
       "Character:   0%|          | 0/1023 [00:00<?, ?it/s]"
      ]
     },
     "metadata": {},
     "output_type": "display_data"
    },
    {
     "data": {
      "application/vnd.jupyter.widget-view+json": {
       "model_id": "bf3d48e205654e6395668dc10abd27d5",
       "version_major": 2,
       "version_minor": 0
      },
      "text/plain": [
       "Character:   0%|          | 0/1023 [00:00<?, ?it/s]"
      ]
     },
     "metadata": {},
     "output_type": "display_data"
    },
    {
     "data": {
      "application/vnd.jupyter.widget-view+json": {
       "model_id": "e20518d63cf349209e926ca8b57ac69a",
       "version_major": 2,
       "version_minor": 0
      },
      "text/plain": [
       "Character:   0%|          | 0/1023 [00:00<?, ?it/s]"
      ]
     },
     "metadata": {},
     "output_type": "display_data"
    },
    {
     "data": {
      "application/vnd.jupyter.widget-view+json": {
       "model_id": "10655a2bd0cd4f0aac82f10ca87a68c9",
       "version_major": 2,
       "version_minor": 0
      },
      "text/plain": [
       "Character:   0%|          | 0/1023 [00:00<?, ?it/s]"
      ]
     },
     "metadata": {},
     "output_type": "display_data"
    },
    {
     "data": {
      "application/vnd.jupyter.widget-view+json": {
       "model_id": "0e47eaddd02f49f482cdea1edbe2a619",
       "version_major": 2,
       "version_minor": 0
      },
      "text/plain": [
       "Character:   0%|          | 0/1023 [00:00<?, ?it/s]"
      ]
     },
     "metadata": {},
     "output_type": "display_data"
    },
    {
     "data": {
      "application/vnd.jupyter.widget-view+json": {
       "model_id": "3ebc5406a85040e19fe055d931920643",
       "version_major": 2,
       "version_minor": 0
      },
      "text/plain": [
       "Character:   0%|          | 0/1023 [00:00<?, ?it/s]"
      ]
     },
     "metadata": {},
     "output_type": "display_data"
    },
    {
     "data": {
      "application/vnd.jupyter.widget-view+json": {
       "model_id": "e3b791c228da45c4b9d1de5c809802f3",
       "version_major": 2,
       "version_minor": 0
      },
      "text/plain": [
       "Character:   0%|          | 0/1023 [00:00<?, ?it/s]"
      ]
     },
     "metadata": {},
     "output_type": "display_data"
    },
    {
     "data": {
      "application/vnd.jupyter.widget-view+json": {
       "model_id": "85eaf650f5eb4715964f352979539f2b",
       "version_major": 2,
       "version_minor": 0
      },
      "text/plain": [
       "Character:   0%|          | 0/1023 [00:00<?, ?it/s]"
      ]
     },
     "metadata": {},
     "output_type": "display_data"
    },
    {
     "data": {
      "application/vnd.jupyter.widget-view+json": {
       "model_id": "a8b4e9eed49843908c987ecb97dd953f",
       "version_major": 2,
       "version_minor": 0
      },
      "text/plain": [
       "Character:   0%|          | 0/1023 [00:00<?, ?it/s]"
      ]
     },
     "metadata": {},
     "output_type": "display_data"
    },
    {
     "data": {
      "application/vnd.jupyter.widget-view+json": {
       "model_id": "02d7a360f3ea4059880f201ff75a2d9d",
       "version_major": 2,
       "version_minor": 0
      },
      "text/plain": [
       "Character:   0%|          | 0/1023 [00:00<?, ?it/s]"
      ]
     },
     "metadata": {},
     "output_type": "display_data"
    },
    {
     "data": {
      "application/vnd.jupyter.widget-view+json": {
       "model_id": "f245a845352c49fab786bed26bdf8d98",
       "version_major": 2,
       "version_minor": 0
      },
      "text/plain": [
       "Character:   0%|          | 0/1023 [00:00<?, ?it/s]"
      ]
     },
     "metadata": {},
     "output_type": "display_data"
    },
    {
     "data": {
      "application/vnd.jupyter.widget-view+json": {
       "model_id": "86044a3935fb41ea872c0b24ddf18593",
       "version_major": 2,
       "version_minor": 0
      },
      "text/plain": [
       "Character:   0%|          | 0/1023 [00:00<?, ?it/s]"
      ]
     },
     "metadata": {},
     "output_type": "display_data"
    },
    {
     "data": {
      "application/vnd.jupyter.widget-view+json": {
       "model_id": "ecbed4c8e7bc47df8f18330b1816716e",
       "version_major": 2,
       "version_minor": 0
      },
      "text/plain": [
       "Character:   0%|          | 0/1023 [00:00<?, ?it/s]"
      ]
     },
     "metadata": {},
     "output_type": "display_data"
    },
    {
     "data": {
      "application/vnd.jupyter.widget-view+json": {
       "model_id": "f8e54dae1a074aac8b93d4469f6170f0",
       "version_major": 2,
       "version_minor": 0
      },
      "text/plain": [
       "Character:   0%|          | 0/1023 [00:00<?, ?it/s]"
      ]
     },
     "metadata": {},
     "output_type": "display_data"
    },
    {
     "data": {
      "application/vnd.jupyter.widget-view+json": {
       "model_id": "94a1039218884e37bb8f181a2329dd02",
       "version_major": 2,
       "version_minor": 0
      },
      "text/plain": [
       "Character:   0%|          | 0/1023 [00:00<?, ?it/s]"
      ]
     },
     "metadata": {},
     "output_type": "display_data"
    },
    {
     "data": {
      "application/vnd.jupyter.widget-view+json": {
       "model_id": "c14bbf257b084bd1a21a2690d8ba259e",
       "version_major": 2,
       "version_minor": 0
      },
      "text/plain": [
       "Character:   0%|          | 0/1023 [00:00<?, ?it/s]"
      ]
     },
     "metadata": {},
     "output_type": "display_data"
    },
    {
     "data": {
      "application/vnd.jupyter.widget-view+json": {
       "model_id": "55aca8b54ed34cae9b72f88da48bc726",
       "version_major": 2,
       "version_minor": 0
      },
      "text/plain": [
       "Character:   0%|          | 0/1023 [00:00<?, ?it/s]"
      ]
     },
     "metadata": {},
     "output_type": "display_data"
    },
    {
     "data": {
      "application/vnd.jupyter.widget-view+json": {
       "model_id": "01060626356348d98a3d920b8f6fee97",
       "version_major": 2,
       "version_minor": 0
      },
      "text/plain": [
       "Character:   0%|          | 0/1023 [00:00<?, ?it/s]"
      ]
     },
     "metadata": {},
     "output_type": "display_data"
    },
    {
     "data": {
      "application/vnd.jupyter.widget-view+json": {
       "model_id": "bbb37f8804954355ac14968f0ced65ac",
       "version_major": 2,
       "version_minor": 0
      },
      "text/plain": [
       "Character:   0%|          | 0/1023 [00:00<?, ?it/s]"
      ]
     },
     "metadata": {},
     "output_type": "display_data"
    },
    {
     "data": {
      "application/vnd.jupyter.widget-view+json": {
       "model_id": "34a1640ddda54d07860fb3fa8cc1b186",
       "version_major": 2,
       "version_minor": 0
      },
      "text/plain": [
       "Character:   0%|          | 0/1023 [00:00<?, ?it/s]"
      ]
     },
     "metadata": {},
     "output_type": "display_data"
    },
    {
     "data": {
      "application/vnd.jupyter.widget-view+json": {
       "model_id": "8dc02b2e08124b2daec665f68b8d837e",
       "version_major": 2,
       "version_minor": 0
      },
      "text/plain": [
       "Character:   0%|          | 0/1023 [00:00<?, ?it/s]"
      ]
     },
     "metadata": {},
     "output_type": "display_data"
    },
    {
     "data": {
      "application/vnd.jupyter.widget-view+json": {
       "model_id": "c78c7af9c6994429879586c18d2d007e",
       "version_major": 2,
       "version_minor": 0
      },
      "text/plain": [
       "Character:   0%|          | 0/1023 [00:00<?, ?it/s]"
      ]
     },
     "metadata": {},
     "output_type": "display_data"
    },
    {
     "data": {
      "application/vnd.jupyter.widget-view+json": {
       "model_id": "cfd29a489dca4221a61c3d56d3786166",
       "version_major": 2,
       "version_minor": 0
      },
      "text/plain": [
       "Character:   0%|          | 0/1023 [00:00<?, ?it/s]"
      ]
     },
     "metadata": {},
     "output_type": "display_data"
    },
    {
     "data": {
      "application/vnd.jupyter.widget-view+json": {
       "model_id": "6a2581d9a26c4191b0ca85dbc7923229",
       "version_major": 2,
       "version_minor": 0
      },
      "text/plain": [
       "Character:   0%|          | 0/1023 [00:00<?, ?it/s]"
      ]
     },
     "metadata": {},
     "output_type": "display_data"
    },
    {
     "data": {
      "application/vnd.jupyter.widget-view+json": {
       "model_id": "8bef76696e5d47bd94ff35e81925e01e",
       "version_major": 2,
       "version_minor": 0
      },
      "text/plain": [
       "Character:   0%|          | 0/1023 [00:00<?, ?it/s]"
      ]
     },
     "metadata": {},
     "output_type": "display_data"
    },
    {
     "data": {
      "application/vnd.jupyter.widget-view+json": {
       "model_id": "2e1d3807270241edb60dfc4135a4b097",
       "version_major": 2,
       "version_minor": 0
      },
      "text/plain": [
       "Character:   0%|          | 0/1023 [00:00<?, ?it/s]"
      ]
     },
     "metadata": {},
     "output_type": "display_data"
    },
    {
     "data": {
      "application/vnd.jupyter.widget-view+json": {
       "model_id": "74b76d171fb74587acd105cee92b389a",
       "version_major": 2,
       "version_minor": 0
      },
      "text/plain": [
       "Character:   0%|          | 0/1023 [00:00<?, ?it/s]"
      ]
     },
     "metadata": {},
     "output_type": "display_data"
    },
    {
     "data": {
      "application/vnd.jupyter.widget-view+json": {
       "model_id": "d7a3fb7af9af4f93b5a89fcf43179ba6",
       "version_major": 2,
       "version_minor": 0
      },
      "text/plain": [
       "Character:   0%|          | 0/1023 [00:00<?, ?it/s]"
      ]
     },
     "metadata": {},
     "output_type": "display_data"
    },
    {
     "data": {
      "application/vnd.jupyter.widget-view+json": {
       "model_id": "687e431e425044779cf066a200b76c72",
       "version_major": 2,
       "version_minor": 0
      },
      "text/plain": [
       "Character:   0%|          | 0/1023 [00:00<?, ?it/s]"
      ]
     },
     "metadata": {},
     "output_type": "display_data"
    },
    {
     "data": {
      "application/vnd.jupyter.widget-view+json": {
       "model_id": "6be2ee010f9943a590d59cb10c770cf8",
       "version_major": 2,
       "version_minor": 0
      },
      "text/plain": [
       "Character:   0%|          | 0/1023 [00:00<?, ?it/s]"
      ]
     },
     "metadata": {},
     "output_type": "display_data"
    },
    {
     "data": {
      "application/vnd.jupyter.widget-view+json": {
       "model_id": "fee0cd05bd444685b8bf1b62242efbf3",
       "version_major": 2,
       "version_minor": 0
      },
      "text/plain": [
       "Character:   0%|          | 0/1023 [00:00<?, ?it/s]"
      ]
     },
     "metadata": {},
     "output_type": "display_data"
    },
    {
     "data": {
      "application/vnd.jupyter.widget-view+json": {
       "model_id": "8176b8288f8a4c9da26ac06651afb064",
       "version_major": 2,
       "version_minor": 0
      },
      "text/plain": [
       "Character:   0%|          | 0/1023 [00:00<?, ?it/s]"
      ]
     },
     "metadata": {},
     "output_type": "display_data"
    },
    {
     "data": {
      "application/vnd.jupyter.widget-view+json": {
       "model_id": "0c6a3a36f0be46d9b28ec8eadd6e067a",
       "version_major": 2,
       "version_minor": 0
      },
      "text/plain": [
       "Character:   0%|          | 0/1023 [00:00<?, ?it/s]"
      ]
     },
     "metadata": {},
     "output_type": "display_data"
    },
    {
     "data": {
      "application/vnd.jupyter.widget-view+json": {
       "model_id": "6a1d1fc8ce2f442595b0277d04c2feef",
       "version_major": 2,
       "version_minor": 0
      },
      "text/plain": [
       "Character:   0%|          | 0/1023 [00:00<?, ?it/s]"
      ]
     },
     "metadata": {},
     "output_type": "display_data"
    },
    {
     "data": {
      "application/vnd.jupyter.widget-view+json": {
       "model_id": "aa89014a32ac44b18a8d4724c5b90732",
       "version_major": 2,
       "version_minor": 0
      },
      "text/plain": [
       "Character:   0%|          | 0/1023 [00:00<?, ?it/s]"
      ]
     },
     "metadata": {},
     "output_type": "display_data"
    },
    {
     "data": {
      "application/vnd.jupyter.widget-view+json": {
       "model_id": "491879d4020c4826bdb64353239ea251",
       "version_major": 2,
       "version_minor": 0
      },
      "text/plain": [
       "Character:   0%|          | 0/1023 [00:00<?, ?it/s]"
      ]
     },
     "metadata": {},
     "output_type": "display_data"
    },
    {
     "data": {
      "application/vnd.jupyter.widget-view+json": {
       "model_id": "633b763f3adb4d248e922a0eb1c62e12",
       "version_major": 2,
       "version_minor": 0
      },
      "text/plain": [
       "Character:   0%|          | 0/1023 [00:00<?, ?it/s]"
      ]
     },
     "metadata": {},
     "output_type": "display_data"
    },
    {
     "data": {
      "application/vnd.jupyter.widget-view+json": {
       "model_id": "e1cf92d07f14443e9e2a097d9b4b0d1c",
       "version_major": 2,
       "version_minor": 0
      },
      "text/plain": [
       "Character:   0%|          | 0/1023 [00:00<?, ?it/s]"
      ]
     },
     "metadata": {},
     "output_type": "display_data"
    },
    {
     "data": {
      "application/vnd.jupyter.widget-view+json": {
       "model_id": "3491e1c4427b4f33b3cedc64204e7f7b",
       "version_major": 2,
       "version_minor": 0
      },
      "text/plain": [
       "Character:   0%|          | 0/1023 [00:00<?, ?it/s]"
      ]
     },
     "metadata": {},
     "output_type": "display_data"
    },
    {
     "data": {
      "application/vnd.jupyter.widget-view+json": {
       "model_id": "84bd5620155d47bfba92cb46ac5dd89e",
       "version_major": 2,
       "version_minor": 0
      },
      "text/plain": [
       "Character:   0%|          | 0/1023 [00:00<?, ?it/s]"
      ]
     },
     "metadata": {},
     "output_type": "display_data"
    },
    {
     "data": {
      "application/vnd.jupyter.widget-view+json": {
       "model_id": "2377c88141994fa8ab955d25f9ba4795",
       "version_major": 2,
       "version_minor": 0
      },
      "text/plain": [
       "Character:   0%|          | 0/1023 [00:00<?, ?it/s]"
      ]
     },
     "metadata": {},
     "output_type": "display_data"
    },
    {
     "data": {
      "application/vnd.jupyter.widget-view+json": {
       "model_id": "4cc998347c8043a1ad4208c314f3b52f",
       "version_major": 2,
       "version_minor": 0
      },
      "text/plain": [
       "Character:   0%|          | 0/1023 [00:00<?, ?it/s]"
      ]
     },
     "metadata": {},
     "output_type": "display_data"
    },
    {
     "data": {
      "application/vnd.jupyter.widget-view+json": {
       "model_id": "6b0b30459cec466daad72184723ee05f",
       "version_major": 2,
       "version_minor": 0
      },
      "text/plain": [
       "Character:   0%|          | 0/1023 [00:00<?, ?it/s]"
      ]
     },
     "metadata": {},
     "output_type": "display_data"
    },
    {
     "data": {
      "application/vnd.jupyter.widget-view+json": {
       "model_id": "6ef65ab7ad8e46d4ba8a0ec1ec8387b6",
       "version_major": 2,
       "version_minor": 0
      },
      "text/plain": [
       "Character:   0%|          | 0/1023 [00:00<?, ?it/s]"
      ]
     },
     "metadata": {},
     "output_type": "display_data"
    },
    {
     "data": {
      "application/vnd.jupyter.widget-view+json": {
       "model_id": "da27d08ea7bf49669edfcefb95c905e1",
       "version_major": 2,
       "version_minor": 0
      },
      "text/plain": [
       "Character:   0%|          | 0/1023 [00:00<?, ?it/s]"
      ]
     },
     "metadata": {},
     "output_type": "display_data"
    },
    {
     "data": {
      "application/vnd.jupyter.widget-view+json": {
       "model_id": "a5d2aab8b1b24b4a891b1752286266d2",
       "version_major": 2,
       "version_minor": 0
      },
      "text/plain": [
       "Character:   0%|          | 0/1023 [00:00<?, ?it/s]"
      ]
     },
     "metadata": {},
     "output_type": "display_data"
    },
    {
     "data": {
      "application/vnd.jupyter.widget-view+json": {
       "model_id": "2441f91d3a5c4c85b62ccd67844d2e8e",
       "version_major": 2,
       "version_minor": 0
      },
      "text/plain": [
       "Character:   0%|          | 0/1023 [00:00<?, ?it/s]"
      ]
     },
     "metadata": {},
     "output_type": "display_data"
    },
    {
     "data": {
      "application/vnd.jupyter.widget-view+json": {
       "model_id": "daf63704c371470bad4dfea2d43d5dfd",
       "version_major": 2,
       "version_minor": 0
      },
      "text/plain": [
       "Character:   0%|          | 0/1023 [00:00<?, ?it/s]"
      ]
     },
     "metadata": {},
     "output_type": "display_data"
    },
    {
     "data": {
      "application/vnd.jupyter.widget-view+json": {
       "model_id": "c83339167b604da2a58623276502340c",
       "version_major": 2,
       "version_minor": 0
      },
      "text/plain": [
       "Character:   0%|          | 0/1023 [00:00<?, ?it/s]"
      ]
     },
     "metadata": {},
     "output_type": "display_data"
    },
    {
     "data": {
      "application/vnd.jupyter.widget-view+json": {
       "model_id": "ac4ef6b1cc1e4cf9a361507bb5ea4f1d",
       "version_major": 2,
       "version_minor": 0
      },
      "text/plain": [
       "Character:   0%|          | 0/1023 [00:00<?, ?it/s]"
      ]
     },
     "metadata": {},
     "output_type": "display_data"
    },
    {
     "data": {
      "application/vnd.jupyter.widget-view+json": {
       "model_id": "1171cd05822d42ccac2fc17308c37535",
       "version_major": 2,
       "version_minor": 0
      },
      "text/plain": [
       "Character:   0%|          | 0/1023 [00:00<?, ?it/s]"
      ]
     },
     "metadata": {},
     "output_type": "display_data"
    },
    {
     "data": {
      "application/vnd.jupyter.widget-view+json": {
       "model_id": "7af5b9c3b71d4f40ae022c64a32f658e",
       "version_major": 2,
       "version_minor": 0
      },
      "text/plain": [
       "Character:   0%|          | 0/1023 [00:00<?, ?it/s]"
      ]
     },
     "metadata": {},
     "output_type": "display_data"
    },
    {
     "data": {
      "application/vnd.jupyter.widget-view+json": {
       "model_id": "e99ea06c96d3463badc851c07c8b1c7d",
       "version_major": 2,
       "version_minor": 0
      },
      "text/plain": [
       "Character:   0%|          | 0/1023 [00:00<?, ?it/s]"
      ]
     },
     "metadata": {},
     "output_type": "display_data"
    },
    {
     "data": {
      "application/vnd.jupyter.widget-view+json": {
       "model_id": "816044a74bac4f30a8d8f4e8182fc1dd",
       "version_major": 2,
       "version_minor": 0
      },
      "text/plain": [
       "Character:   0%|          | 0/1023 [00:00<?, ?it/s]"
      ]
     },
     "metadata": {},
     "output_type": "display_data"
    },
    {
     "data": {
      "application/vnd.jupyter.widget-view+json": {
       "model_id": "f74d9261b1d4478592facf5bb82978d8",
       "version_major": 2,
       "version_minor": 0
      },
      "text/plain": [
       "Character:   0%|          | 0/1023 [00:00<?, ?it/s]"
      ]
     },
     "metadata": {},
     "output_type": "display_data"
    },
    {
     "data": {
      "application/vnd.jupyter.widget-view+json": {
       "model_id": "a91cfc24acb04fad96cf985b84995c8d",
       "version_major": 2,
       "version_minor": 0
      },
      "text/plain": [
       "Character:   0%|          | 0/1023 [00:00<?, ?it/s]"
      ]
     },
     "metadata": {},
     "output_type": "display_data"
    },
    {
     "data": {
      "application/vnd.jupyter.widget-view+json": {
       "model_id": "2fdabd2b49234a96b5ce500bf5cd30ac",
       "version_major": 2,
       "version_minor": 0
      },
      "text/plain": [
       "Character:   0%|          | 0/1023 [00:00<?, ?it/s]"
      ]
     },
     "metadata": {},
     "output_type": "display_data"
    },
    {
     "data": {
      "application/vnd.jupyter.widget-view+json": {
       "model_id": "7d39f3c65f4d4d85931165f62559cb2c",
       "version_major": 2,
       "version_minor": 0
      },
      "text/plain": [
       "Character:   0%|          | 0/1023 [00:00<?, ?it/s]"
      ]
     },
     "metadata": {},
     "output_type": "display_data"
    },
    {
     "data": {
      "application/vnd.jupyter.widget-view+json": {
       "model_id": "dd779d6929914303a787ba27ffceac6f",
       "version_major": 2,
       "version_minor": 0
      },
      "text/plain": [
       "Character:   0%|          | 0/1023 [00:00<?, ?it/s]"
      ]
     },
     "metadata": {},
     "output_type": "display_data"
    },
    {
     "data": {
      "application/vnd.jupyter.widget-view+json": {
       "model_id": "64aae30610304275aeb3d169b7601eaf",
       "version_major": 2,
       "version_minor": 0
      },
      "text/plain": [
       "Character:   0%|          | 0/1023 [00:00<?, ?it/s]"
      ]
     },
     "metadata": {},
     "output_type": "display_data"
    },
    {
     "data": {
      "application/vnd.jupyter.widget-view+json": {
       "model_id": "904454b873014f4ca434cffd66f9f359",
       "version_major": 2,
       "version_minor": 0
      },
      "text/plain": [
       "Character:   0%|          | 0/1023 [00:00<?, ?it/s]"
      ]
     },
     "metadata": {},
     "output_type": "display_data"
    },
    {
     "data": {
      "application/vnd.jupyter.widget-view+json": {
       "model_id": "a556ccd2fe1d4027a4aa45f8b540cbf9",
       "version_major": 2,
       "version_minor": 0
      },
      "text/plain": [
       "Character:   0%|          | 0/1023 [00:00<?, ?it/s]"
      ]
     },
     "metadata": {},
     "output_type": "display_data"
    },
    {
     "data": {
      "application/vnd.jupyter.widget-view+json": {
       "model_id": "aad1a8fb3bf442e8838734aa211869cc",
       "version_major": 2,
       "version_minor": 0
      },
      "text/plain": [
       "Character:   0%|          | 0/1023 [00:00<?, ?it/s]"
      ]
     },
     "metadata": {},
     "output_type": "display_data"
    },
    {
     "data": {
      "application/vnd.jupyter.widget-view+json": {
       "model_id": "815035a6fb2640c0ac07bc9b2c79416e",
       "version_major": 2,
       "version_minor": 0
      },
      "text/plain": [
       "Character:   0%|          | 0/1023 [00:00<?, ?it/s]"
      ]
     },
     "metadata": {},
     "output_type": "display_data"
    },
    {
     "data": {
      "application/vnd.jupyter.widget-view+json": {
       "model_id": "82b6871a2f4f443f9c4c48edbb1ae2aa",
       "version_major": 2,
       "version_minor": 0
      },
      "text/plain": [
       "Character:   0%|          | 0/1023 [00:00<?, ?it/s]"
      ]
     },
     "metadata": {},
     "output_type": "display_data"
    },
    {
     "data": {
      "application/vnd.jupyter.widget-view+json": {
       "model_id": "afd41eaa3ae74e7c82ca715ac509aaa7",
       "version_major": 2,
       "version_minor": 0
      },
      "text/plain": [
       "Character:   0%|          | 0/1023 [00:00<?, ?it/s]"
      ]
     },
     "metadata": {},
     "output_type": "display_data"
    },
    {
     "data": {
      "application/vnd.jupyter.widget-view+json": {
       "model_id": "82366964c02f493ba458dddbabcceb29",
       "version_major": 2,
       "version_minor": 0
      },
      "text/plain": [
       "Character:   0%|          | 0/1023 [00:00<?, ?it/s]"
      ]
     },
     "metadata": {},
     "output_type": "display_data"
    },
    {
     "data": {
      "application/vnd.jupyter.widget-view+json": {
       "model_id": "27c2603360304f9ebcd41527e3f67fc7",
       "version_major": 2,
       "version_minor": 0
      },
      "text/plain": [
       "Character:   0%|          | 0/1023 [00:00<?, ?it/s]"
      ]
     },
     "metadata": {},
     "output_type": "display_data"
    },
    {
     "data": {
      "application/vnd.jupyter.widget-view+json": {
       "model_id": "50247872da1840df92aec2e63a369f5d",
       "version_major": 2,
       "version_minor": 0
      },
      "text/plain": [
       "Character:   0%|          | 0/1023 [00:00<?, ?it/s]"
      ]
     },
     "metadata": {},
     "output_type": "display_data"
    },
    {
     "data": {
      "application/vnd.jupyter.widget-view+json": {
       "model_id": "270ad2b760074c278f395c356dbd1b74",
       "version_major": 2,
       "version_minor": 0
      },
      "text/plain": [
       "Character:   0%|          | 0/1023 [00:00<?, ?it/s]"
      ]
     },
     "metadata": {},
     "output_type": "display_data"
    },
    {
     "data": {
      "application/vnd.jupyter.widget-view+json": {
       "model_id": "f5bf2ba0b64d4291aaea2ba016df648c",
       "version_major": 2,
       "version_minor": 0
      },
      "text/plain": [
       "Character:   0%|          | 0/1023 [00:00<?, ?it/s]"
      ]
     },
     "metadata": {},
     "output_type": "display_data"
    },
    {
     "data": {
      "application/vnd.jupyter.widget-view+json": {
       "model_id": "4e4dd0a95d69434a98a92091442c57cf",
       "version_major": 2,
       "version_minor": 0
      },
      "text/plain": [
       "Character:   0%|          | 0/1023 [00:00<?, ?it/s]"
      ]
     },
     "metadata": {},
     "output_type": "display_data"
    },
    {
     "data": {
      "application/vnd.jupyter.widget-view+json": {
       "model_id": "2c3770400825456ba152330549a516d2",
       "version_major": 2,
       "version_minor": 0
      },
      "text/plain": [
       "Character:   0%|          | 0/1023 [00:00<?, ?it/s]"
      ]
     },
     "metadata": {},
     "output_type": "display_data"
    },
    {
     "data": {
      "application/vnd.jupyter.widget-view+json": {
       "model_id": "a3e66cc64fd64d5990f8b0e6dd02b3f4",
       "version_major": 2,
       "version_minor": 0
      },
      "text/plain": [
       "Character:   0%|          | 0/1023 [00:00<?, ?it/s]"
      ]
     },
     "metadata": {},
     "output_type": "display_data"
    },
    {
     "data": {
      "application/vnd.jupyter.widget-view+json": {
       "model_id": "500ed37463b44c5d817bd7c5c8dad120",
       "version_major": 2,
       "version_minor": 0
      },
      "text/plain": [
       "Character:   0%|          | 0/1023 [00:00<?, ?it/s]"
      ]
     },
     "metadata": {},
     "output_type": "display_data"
    },
    {
     "data": {
      "application/vnd.jupyter.widget-view+json": {
       "model_id": "8f3c3e1347e740dd8df93fd4646bd7aa",
       "version_major": 2,
       "version_minor": 0
      },
      "text/plain": [
       "Character:   0%|          | 0/1023 [00:00<?, ?it/s]"
      ]
     },
     "metadata": {},
     "output_type": "display_data"
    },
    {
     "data": {
      "application/vnd.jupyter.widget-view+json": {
       "model_id": "2830284510f34c8c9fd0e1d3a1646841",
       "version_major": 2,
       "version_minor": 0
      },
      "text/plain": [
       "Character:   0%|          | 0/1023 [00:00<?, ?it/s]"
      ]
     },
     "metadata": {},
     "output_type": "display_data"
    },
    {
     "data": {
      "application/vnd.jupyter.widget-view+json": {
       "model_id": "ece3685e963745a28de1dfb4f55df277",
       "version_major": 2,
       "version_minor": 0
      },
      "text/plain": [
       "Character:   0%|          | 0/1023 [00:00<?, ?it/s]"
      ]
     },
     "metadata": {},
     "output_type": "display_data"
    },
    {
     "data": {
      "application/vnd.jupyter.widget-view+json": {
       "model_id": "b374475e89cb4933a4d9cbb8108f3e21",
       "version_major": 2,
       "version_minor": 0
      },
      "text/plain": [
       "Character:   0%|          | 0/1023 [00:00<?, ?it/s]"
      ]
     },
     "metadata": {},
     "output_type": "display_data"
    },
    {
     "data": {
      "application/vnd.jupyter.widget-view+json": {
       "model_id": "b7595e96457b4a9c9d1ec7661ddff132",
       "version_major": 2,
       "version_minor": 0
      },
      "text/plain": [
       "Character:   0%|          | 0/1023 [00:00<?, ?it/s]"
      ]
     },
     "metadata": {},
     "output_type": "display_data"
    },
    {
     "data": {
      "application/vnd.jupyter.widget-view+json": {
       "model_id": "f3f5dcb67ef541bc8031ccbacbb15ad5",
       "version_major": 2,
       "version_minor": 0
      },
      "text/plain": [
       "Character:   0%|          | 0/1023 [00:00<?, ?it/s]"
      ]
     },
     "metadata": {},
     "output_type": "display_data"
    },
    {
     "data": {
      "application/vnd.jupyter.widget-view+json": {
       "model_id": "47a0ab0ca790483bbf9346e5004f0ff6",
       "version_major": 2,
       "version_minor": 0
      },
      "text/plain": [
       "Character:   0%|          | 0/1023 [00:00<?, ?it/s]"
      ]
     },
     "metadata": {},
     "output_type": "display_data"
    },
    {
     "data": {
      "application/vnd.jupyter.widget-view+json": {
       "model_id": "6895407561274c38a6acaae9602add5d",
       "version_major": 2,
       "version_minor": 0
      },
      "text/plain": [
       "Character:   0%|          | 0/1023 [00:00<?, ?it/s]"
      ]
     },
     "metadata": {},
     "output_type": "display_data"
    },
    {
     "data": {
      "application/vnd.jupyter.widget-view+json": {
       "model_id": "efa9f1fead184103afe1e5a488c02722",
       "version_major": 2,
       "version_minor": 0
      },
      "text/plain": [
       "Character:   0%|          | 0/1023 [00:00<?, ?it/s]"
      ]
     },
     "metadata": {},
     "output_type": "display_data"
    },
    {
     "data": {
      "application/vnd.jupyter.widget-view+json": {
       "model_id": "29d65924b53b40c181091da90d0da5af",
       "version_major": 2,
       "version_minor": 0
      },
      "text/plain": [
       "Character:   0%|          | 0/1023 [00:00<?, ?it/s]"
      ]
     },
     "metadata": {},
     "output_type": "display_data"
    },
    {
     "data": {
      "application/vnd.jupyter.widget-view+json": {
       "model_id": "c8d278d497b04a829af4e4273f6eaf40",
       "version_major": 2,
       "version_minor": 0
      },
      "text/plain": [
       "Character:   0%|          | 0/1023 [00:00<?, ?it/s]"
      ]
     },
     "metadata": {},
     "output_type": "display_data"
    },
    {
     "data": {
      "application/vnd.jupyter.widget-view+json": {
       "model_id": "c9f4b5a8c9044e4a8de2ae9c1ec3e9e3",
       "version_major": 2,
       "version_minor": 0
      },
      "text/plain": [
       "Character:   0%|          | 0/1023 [00:00<?, ?it/s]"
      ]
     },
     "metadata": {},
     "output_type": "display_data"
    },
    {
     "data": {
      "application/vnd.jupyter.widget-view+json": {
       "model_id": "95a34cd1a49a46fa92eec033c7ffbd0c",
       "version_major": 2,
       "version_minor": 0
      },
      "text/plain": [
       "Character:   0%|          | 0/1023 [00:00<?, ?it/s]"
      ]
     },
     "metadata": {},
     "output_type": "display_data"
    },
    {
     "data": {
      "application/vnd.jupyter.widget-view+json": {
       "model_id": "59cdbea1f57541bd84851b093fe6f180",
       "version_major": 2,
       "version_minor": 0
      },
      "text/plain": [
       "Character:   0%|          | 0/1023 [00:00<?, ?it/s]"
      ]
     },
     "metadata": {},
     "output_type": "display_data"
    },
    {
     "data": {
      "application/vnd.jupyter.widget-view+json": {
       "model_id": "2cdd9d5e53bd421496635635638c5e1f",
       "version_major": 2,
       "version_minor": 0
      },
      "text/plain": [
       "Character:   0%|          | 0/1023 [00:00<?, ?it/s]"
      ]
     },
     "metadata": {},
     "output_type": "display_data"
    },
    {
     "data": {
      "application/vnd.jupyter.widget-view+json": {
       "model_id": "e2e175f2ca8f40dfa09ef2cbfdd7dbf0",
       "version_major": 2,
       "version_minor": 0
      },
      "text/plain": [
       "Character:   0%|          | 0/1023 [00:00<?, ?it/s]"
      ]
     },
     "metadata": {},
     "output_type": "display_data"
    },
    {
     "data": {
      "application/vnd.jupyter.widget-view+json": {
       "model_id": "d5088f6b7a7d475bba8391054eaf12af",
       "version_major": 2,
       "version_minor": 0
      },
      "text/plain": [
       "Character:   0%|          | 0/1023 [00:00<?, ?it/s]"
      ]
     },
     "metadata": {},
     "output_type": "display_data"
    },
    {
     "data": {
      "application/vnd.jupyter.widget-view+json": {
       "model_id": "51efad76143844aaa0d9febc8b730b61",
       "version_major": 2,
       "version_minor": 0
      },
      "text/plain": [
       "Character:   0%|          | 0/1023 [00:00<?, ?it/s]"
      ]
     },
     "metadata": {},
     "output_type": "display_data"
    },
    {
     "data": {
      "application/vnd.jupyter.widget-view+json": {
       "model_id": "40ec76b419d84d8c9c4ab472deb377d7",
       "version_major": 2,
       "version_minor": 0
      },
      "text/plain": [
       "Character:   0%|          | 0/1023 [00:00<?, ?it/s]"
      ]
     },
     "metadata": {},
     "output_type": "display_data"
    },
    {
     "data": {
      "application/vnd.jupyter.widget-view+json": {
       "model_id": "850115293731497782457fcfff2f8a4c",
       "version_major": 2,
       "version_minor": 0
      },
      "text/plain": [
       "Character:   0%|          | 0/1023 [00:00<?, ?it/s]"
      ]
     },
     "metadata": {},
     "output_type": "display_data"
    },
    {
     "data": {
      "application/vnd.jupyter.widget-view+json": {
       "model_id": "8acdca41ab344755adf8ae7abac3241a",
       "version_major": 2,
       "version_minor": 0
      },
      "text/plain": [
       "Character:   0%|          | 0/1023 [00:00<?, ?it/s]"
      ]
     },
     "metadata": {},
     "output_type": "display_data"
    },
    {
     "data": {
      "application/vnd.jupyter.widget-view+json": {
       "model_id": "a9c0b8ebf0b145ac8da4519753d0797c",
       "version_major": 2,
       "version_minor": 0
      },
      "text/plain": [
       "Character:   0%|          | 0/1023 [00:00<?, ?it/s]"
      ]
     },
     "metadata": {},
     "output_type": "display_data"
    },
    {
     "data": {
      "application/vnd.jupyter.widget-view+json": {
       "model_id": "af43b45061c644c380bc9f67b8da14e4",
       "version_major": 2,
       "version_minor": 0
      },
      "text/plain": [
       "Character:   0%|          | 0/1023 [00:00<?, ?it/s]"
      ]
     },
     "metadata": {},
     "output_type": "display_data"
    },
    {
     "data": {
      "application/vnd.jupyter.widget-view+json": {
       "model_id": "8def2e25d5e84fcbab5f00acc2225832",
       "version_major": 2,
       "version_minor": 0
      },
      "text/plain": [
       "Character:   0%|          | 0/1023 [00:00<?, ?it/s]"
      ]
     },
     "metadata": {},
     "output_type": "display_data"
    },
    {
     "data": {
      "application/vnd.jupyter.widget-view+json": {
       "model_id": "35d0f3338e93412f807bd2260c9c0e85",
       "version_major": 2,
       "version_minor": 0
      },
      "text/plain": [
       "Character:   0%|          | 0/1023 [00:00<?, ?it/s]"
      ]
     },
     "metadata": {},
     "output_type": "display_data"
    },
    {
     "data": {
      "application/vnd.jupyter.widget-view+json": {
       "model_id": "f1d6064a9c6340eea18d680e6b832de5",
       "version_major": 2,
       "version_minor": 0
      },
      "text/plain": [
       "Character:   0%|          | 0/1023 [00:00<?, ?it/s]"
      ]
     },
     "metadata": {},
     "output_type": "display_data"
    },
    {
     "data": {
      "application/vnd.jupyter.widget-view+json": {
       "model_id": "7b1d7be4bfb2430c9bf5e8c540020057",
       "version_major": 2,
       "version_minor": 0
      },
      "text/plain": [
       "Character:   0%|          | 0/1023 [00:00<?, ?it/s]"
      ]
     },
     "metadata": {},
     "output_type": "display_data"
    },
    {
     "data": {
      "application/vnd.jupyter.widget-view+json": {
       "model_id": "e9673ebe1609492ab8610c8df16a3bcc",
       "version_major": 2,
       "version_minor": 0
      },
      "text/plain": [
       "Character:   0%|          | 0/1023 [00:00<?, ?it/s]"
      ]
     },
     "metadata": {},
     "output_type": "display_data"
    },
    {
     "data": {
      "application/vnd.jupyter.widget-view+json": {
       "model_id": "f5324b489d684230a69b6328372f6d44",
       "version_major": 2,
       "version_minor": 0
      },
      "text/plain": [
       "Character:   0%|          | 0/1023 [00:00<?, ?it/s]"
      ]
     },
     "metadata": {},
     "output_type": "display_data"
    },
    {
     "data": {
      "application/vnd.jupyter.widget-view+json": {
       "model_id": "117eb51bbb02435483c9152989ca9d00",
       "version_major": 2,
       "version_minor": 0
      },
      "text/plain": [
       "Character:   0%|          | 0/1023 [00:00<?, ?it/s]"
      ]
     },
     "metadata": {},
     "output_type": "display_data"
    },
    {
     "data": {
      "application/vnd.jupyter.widget-view+json": {
       "model_id": "63145b3c17ea48fca03a0aeb1a3141fe",
       "version_major": 2,
       "version_minor": 0
      },
      "text/plain": [
       "Character:   0%|          | 0/1023 [00:00<?, ?it/s]"
      ]
     },
     "metadata": {},
     "output_type": "display_data"
    },
    {
     "data": {
      "application/vnd.jupyter.widget-view+json": {
       "model_id": "9e5bc1eab8614c82b998e921c501a090",
       "version_major": 2,
       "version_minor": 0
      },
      "text/plain": [
       "Character:   0%|          | 0/1023 [00:00<?, ?it/s]"
      ]
     },
     "metadata": {},
     "output_type": "display_data"
    },
    {
     "data": {
      "application/vnd.jupyter.widget-view+json": {
       "model_id": "f7a2490f02cc408392c022a64d1d037d",
       "version_major": 2,
       "version_minor": 0
      },
      "text/plain": [
       "Character:   0%|          | 0/1023 [00:00<?, ?it/s]"
      ]
     },
     "metadata": {},
     "output_type": "display_data"
    },
    {
     "data": {
      "application/vnd.jupyter.widget-view+json": {
       "model_id": "f7fd56f106bb42259590731b00899484",
       "version_major": 2,
       "version_minor": 0
      },
      "text/plain": [
       "Character:   0%|          | 0/1023 [00:00<?, ?it/s]"
      ]
     },
     "metadata": {},
     "output_type": "display_data"
    },
    {
     "data": {
      "application/vnd.jupyter.widget-view+json": {
       "model_id": "5f95786547e7491da8ccc9cfb25bafe9",
       "version_major": 2,
       "version_minor": 0
      },
      "text/plain": [
       "Character:   0%|          | 0/1023 [00:00<?, ?it/s]"
      ]
     },
     "metadata": {},
     "output_type": "display_data"
    },
    {
     "data": {
      "application/vnd.jupyter.widget-view+json": {
       "model_id": "95c6ea62253f4a14aaf24c760a18fff9",
       "version_major": 2,
       "version_minor": 0
      },
      "text/plain": [
       "Character:   0%|          | 0/1023 [00:00<?, ?it/s]"
      ]
     },
     "metadata": {},
     "output_type": "display_data"
    },
    {
     "data": {
      "application/vnd.jupyter.widget-view+json": {
       "model_id": "78a00830e3cc4da9835ae2d890ef6526",
       "version_major": 2,
       "version_minor": 0
      },
      "text/plain": [
       "Batches:   0%|          | 0/125 [00:00<?, ?it/s]"
      ]
     },
     "metadata": {},
     "output_type": "display_data"
    },
    {
     "data": {
      "application/vnd.jupyter.widget-view+json": {
       "model_id": "654f82adb54b405ca7a4cf3390f24ea2",
       "version_major": 2,
       "version_minor": 0
      },
      "text/plain": [
       "Character:   0%|          | 0/1023 [00:00<?, ?it/s]"
      ]
     },
     "metadata": {},
     "output_type": "display_data"
    },
    {
     "data": {
      "application/vnd.jupyter.widget-view+json": {
       "model_id": "28c0f00dbd29411ca2dfcfe84dd1ea3d",
       "version_major": 2,
       "version_minor": 0
      },
      "text/plain": [
       "Character:   0%|          | 0/1023 [00:00<?, ?it/s]"
      ]
     },
     "metadata": {},
     "output_type": "display_data"
    },
    {
     "data": {
      "application/vnd.jupyter.widget-view+json": {
       "model_id": "0fdb01dbd2934ceeb151e2d73754fc90",
       "version_major": 2,
       "version_minor": 0
      },
      "text/plain": [
       "Character:   0%|          | 0/1023 [00:00<?, ?it/s]"
      ]
     },
     "metadata": {},
     "output_type": "display_data"
    },
    {
     "data": {
      "application/vnd.jupyter.widget-view+json": {
       "model_id": "0ff8cc43678f428da81649bd26817af6",
       "version_major": 2,
       "version_minor": 0
      },
      "text/plain": [
       "Character:   0%|          | 0/1023 [00:00<?, ?it/s]"
      ]
     },
     "metadata": {},
     "output_type": "display_data"
    },
    {
     "data": {
      "application/vnd.jupyter.widget-view+json": {
       "model_id": "60aad81fd12946afa64d126b0580aaac",
       "version_major": 2,
       "version_minor": 0
      },
      "text/plain": [
       "Character:   0%|          | 0/1023 [00:00<?, ?it/s]"
      ]
     },
     "metadata": {},
     "output_type": "display_data"
    },
    {
     "data": {
      "application/vnd.jupyter.widget-view+json": {
       "model_id": "164d5301a7334bf3920553d3e8b91d2d",
       "version_major": 2,
       "version_minor": 0
      },
      "text/plain": [
       "Character:   0%|          | 0/1023 [00:00<?, ?it/s]"
      ]
     },
     "metadata": {},
     "output_type": "display_data"
    },
    {
     "data": {
      "application/vnd.jupyter.widget-view+json": {
       "model_id": "07c4a835a1dc4264af8cdb782a920b09",
       "version_major": 2,
       "version_minor": 0
      },
      "text/plain": [
       "Character:   0%|          | 0/1023 [00:00<?, ?it/s]"
      ]
     },
     "metadata": {},
     "output_type": "display_data"
    },
    {
     "data": {
      "application/vnd.jupyter.widget-view+json": {
       "model_id": "896a0f62a28d4dc088db9cf4e39f939d",
       "version_major": 2,
       "version_minor": 0
      },
      "text/plain": [
       "Character:   0%|          | 0/1023 [00:00<?, ?it/s]"
      ]
     },
     "metadata": {},
     "output_type": "display_data"
    },
    {
     "data": {
      "application/vnd.jupyter.widget-view+json": {
       "model_id": "2bc447f240cc4d3582e5deb9c6147bbf",
       "version_major": 2,
       "version_minor": 0
      },
      "text/plain": [
       "Character:   0%|          | 0/1023 [00:00<?, ?it/s]"
      ]
     },
     "metadata": {},
     "output_type": "display_data"
    }
   ],
   "source": [
    "max_length = 1024  # Max length for padding\n",
    "generator.train()\n",
    "with tqdm.notebook.tqdm(range(10), desc=\"Epochs\", leave=False) as epochs:\n",
    "    for epoch in epochs:\n",
    "        with tqdm.notebook.tqdm(quantized_loader, leave=False, desc=\"Batches\") as progress:\n",
    "            for x_batch in progress:\n",
    "                x_batch = x_batch[0]  # Assuming DataLoader returns a tuple\n",
    "\n",
    "                hidden = None  # Reset hidden state for each new sequence\n",
    "                total_loss = torch.tensor(0.0)  # Reset total loss for each new sequence\n",
    "                optimizer.zero_grad()  # Reset gradients\n",
    "\n",
    "                with tqdm.notebook.tnrange(0, x_batch.size(1)-1, leave=False, desc=\"Character\") as seq:\n",
    "                    for i in seq: \n",
    "                        x_in = x_batch[:, i]\n",
    "                        y_out = x_batch[:, i + 1] \n",
    "\n",
    "                        # x_in = F.pad(x_in, (0, max_length - x_in.size(0)), value=0)\n",
    "                        \n",
    "                        y_hat, hidden = generator(x_in.unsqueeze(0), hidden)\n",
    "                        y_pred = torch.argmax(y_hat, dim=-1)\n",
    "                        # print(y_pred.shape, y_out.shape)\n",
    "                        loss = criterion(y_hat.squeeze(0), y_out)\n",
    "                        \n",
    "                        total_loss += loss\n",
    "                        progress.set_postfix_str(f\"loss={loss.item():.3f}, total_loss={total_loss.item():.3f}\")\n",
    "                                                \n",
    "                total_loss.backward()\n",
    "                optimizer.step()\n",
    "                \n",
    "                progress.set_postfix_str(f\"loss={loss.item():.3f}, total_loss={total_loss.item():.3f}\")\n"
   ]
  },
  {
   "cell_type": "code",
   "execution_count": 1,
   "metadata": {},
   "outputs": [
    {
     "ename": "NameError",
     "evalue": "name 'torch' is not defined",
     "output_type": "error",
     "traceback": [
      "\u001b[0;31m---------------------------------------------------------------------------\u001b[0m",
      "\u001b[0;31mNameError\u001b[0m                                 Traceback (most recent call last)",
      "Cell \u001b[0;32mIn[1], line 2\u001b[0m\n\u001b[1;32m      1\u001b[0m \u001b[38;5;28;01mimport\u001b[39;00m \u001b[38;5;21;01mmatplotlib\u001b[39;00m\u001b[38;5;21;01m.\u001b[39;00m\u001b[38;5;21;01mpyplot\u001b[39;00m \u001b[38;5;28;01mas\u001b[39;00m \u001b[38;5;21;01mplt\u001b[39;00m \n\u001b[0;32m----> 2\u001b[0m \u001b[38;5;129m@torch\u001b[39m\u001b[38;5;241m.\u001b[39mno_grad()\n\u001b[1;32m      3\u001b[0m \u001b[38;5;28;01mdef\u001b[39;00m \u001b[38;5;21mtemperature_sampling\u001b[39m(logits, temperature\u001b[38;5;241m=\u001b[39m\u001b[38;5;241m0.7\u001b[39m):\n\u001b[1;32m      4\u001b[0m     \u001b[38;5;66;03m# Scale logits by temperature\u001b[39;00m\n\u001b[1;32m      5\u001b[0m     scaled_logits \u001b[38;5;241m=\u001b[39m logits \u001b[38;5;241m/\u001b[39m temperature\n\u001b[1;32m      6\u001b[0m     \u001b[38;5;66;03m# Convert logits to probabilities\u001b[39;00m\n",
      "\u001b[0;31mNameError\u001b[0m: name 'torch' is not defined"
     ]
    }
   ],
   "source": [
    "import matplotlib.pyplot as plt \n",
    "@torch.no_grad()\n",
    "def temperature_sampling(logits, temperature=0.7):\n",
    "    # Scale logits by temperature\n",
    "    scaled_logits = logits / temperature\n",
    "    # Convert logits to probabilities\n",
    "    probs = F.softmax(scaled_logits, dim=-1)\n",
    "    # Sample from the probabilities\n",
    "    return torch.multinomial(probs, num_samples=1)\n",
    "\n",
    "# Validation Loop with Temperature Sampling\n",
    "generator.eval()\n",
    "model.eval()\n",
    "initial_input = torch.randint(0, vocab_size, (1, 1))\n",
    "print(initial_input)\n",
    "generated_indexes = []\n",
    "generated_indexes.append(initial_input.flatten())\n",
    "hidden = None\n",
    "\n",
    "with torch.no_grad():\n",
    "    for _ in range(1023):  # Generate 64 characters\n",
    "        # print(initial_input.shape)\n",
    "        output, hidden = generator(initial_input, hidden)  # Ensure model accepts and returns hidden state\n",
    "        predicted = torch.argmax(output, dim=-1)\n",
    "        generated_indexes.append(predicted)\n",
    "        initial_input = predicted.unsqueeze(0)  # Set the next input to the predicted character\n",
    "\n",
    "\n",
    "    embeddings = F.embedding(\n",
    "        torch.cat(generated_indexes).unsqueeze(0).unsqueeze(0),\n",
    "        model.model.vq.e_i_ts.transpose(0, 1)\n",
    "    ).permute(0, 3, 1, 2).view(-1, 1, 32, 32)\n",
    "    print(embeddings.shape)\n",
    "    img = model.model.decoder(embeddings)\n",
    "    print(img.shape)\n",
    "\n",
    "    plt.imshow(img[0].permute(1, 2, 0).detach().numpy())\n",
    "    plt.axis(\"off\")\n",
    "    plt.show()\n"
   ]
  },
  {
   "cell_type": "code",
   "execution_count": 58,
   "metadata": {},
   "outputs": [
    {
     "name": "stderr",
     "output_type": "stream",
     "text": [
      "Clipping input data to the valid range for imshow with RGB data ([0..1] for floats or [0..255] for integers).\n"
     ]
    },
    {
     "name": "stdout",
     "output_type": "stream",
     "text": [
      "tensor([9, 9, 8,  ..., 5, 1, 1])\n",
      "torch.Size([1, 1, 32, 32])\n",
      "torch.Size([1, 3, 128, 128])\n"
     ]
    },
    {
     "data": {
      "image/png": "[encoded data removed]",
      "text/plain": [
       "<Figure size 640x480 with 1 Axes>"
      ]
     },
     "metadata": {},
     "output_type": "display_data"
    }
   ],
   "source": [
    "x = next(iter(quantized_loader))[0][0]\n",
    "print(x)\n",
    "import matplotlib.pyplot as plt \n",
    "# get the embeddings from indicies\n",
    "with torch.no_grad():\n",
    "    embeddings = F.embedding(\n",
    "        x.unsqueeze(0).unsqueeze(0),\n",
    "        model.model.vq.e_i_ts.transpose(0, 1)\n",
    "    ).permute(0, 3, 1, 2).view(1, 1, 32, 32)\n",
    "    print(embeddings.shape)\n",
    "    img = model.model.decoder(embeddings)\n",
    "    print(img.shape)\n",
    "\n",
    "    plt.imshow(img[0].permute(1, 2, 0).detach().numpy())\n",
    "    plt.show()\n"
   ]
  },
  {
   "cell_type": "code",
   "execution_count": null,
   "metadata": {},
   "outputs": [],
   "source": []
  }
 ],
 "metadata": {
  "kernelspec": {
   "display_name": "cloudspace",
   "language": "python",
   "name": "python3"
  },
  "language_info": {
   "codemirror_mode": {
    "name": "ipython",
    "version": 3
   },
   "file_extension": ".py",
   "mimetype": "text/x-python",
   "name": "python",
   "nbconvert_exporter": "python",
   "pygments_lexer": "ipython3",
   "version": "3.10.13"
  }
 },
 "nbformat": 4,
 "nbformat_minor": 2
}
