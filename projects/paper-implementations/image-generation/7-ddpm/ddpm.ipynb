{
 "cells": [
  {
   "cell_type": "code",
   "execution_count": null,
   "metadata": {},
   "outputs": [],
   "source": [
    "import torch\n",
    "import torch.nn as nn\n",
    "import torch.nn.functional as F\n",
    "import torchvision\n",
    "import tqdm as tqdm\n",
    "from torchmetrics.image.fid import FrechetInceptionDistance\n",
    "import diffusers\n",
    "import matplotlib.pyplot as plt\n"
   ]
  },
  {
   "cell_type": "code",
   "execution_count": null,
   "metadata": {},
   "outputs": [],
   "source": [
    "train_dataset = torchvision.datasets.MNIST('data', train=True, download=False, transform=torchvision.transforms.Compose([\n",
    "    torchvision.transforms.ToTensor(),\n",
    "    torchvision.transforms.Resize((32,32))\n",
    "]))\n",
    "test_dataset = torchvision.datasets.MNIST('data', train=False, download=False, transform=torchvision.transforms.Compose([\n",
    "    torchvision.transforms.ToTensor(),\n",
    "    torchvision.transforms.Resize((32,32))\n",
    "]))\n",
    "\n",
    "train_loader = torch.utils.data.DataLoader(train_dataset, batch_size=64, shuffle=True)\n",
    "test_loader = torch.utils.data.DataLoader(test_dataset, batch_size=64, shuffle=False)\n"
   ]
  },
  {
   "cell_type": "code",
   "execution_count": null,
   "metadata": {},
   "outputs": [],
   "source": [
    "x, y = next(iter(test_loader))\n",
    "\n",
    "grid = torchvision.utils.make_grid(x, nrow=16)\n",
    "\n",
    "plt.figure(figsize=(20,20))\n",
    "plt.imshow(grid.permute(1, 2, 0))\n",
    "plt.axis(\"off\")\n",
    "plt.show()\n"
   ]
  },
  {
   "cell_type": "code",
   "execution_count": null,
   "metadata": {},
   "outputs": [],
   "source": [
    "model = diffusers.UNet2DModel(\n",
    "    sample_size=(32, 32),\n",
    "    in_channels=1,\n",
    "    out_channels=1,\n",
    "    down_block_types=(\n",
    "        \"DownBlock2D\",\n",
    "        \"AttnDownBlock2D\",\n",
    "        \"AttnDownBlock2D\",\n",
    "        \"AttnDownBlock2D\",\n",
    "    ),  # \"DownBlock2D\", \"AttnDownBlock2D\",\n",
    "    up_block_types=(\n",
    "        \"AttnUpBlock2D\",\n",
    "        \"AttnUpBlock2D\",\n",
    "        \"AttnUpBlock2D\",\n",
    "        \"UpBlock2D\",\n",
    "    ),  # \"UpBlock2D\", \"AttnUpBlock2D\",\n",
    "    block_out_channels=(32, 64, 128, 128),\n",
    "    layers_per_block=2,\n",
    ")\n",
    "num_train_steps = 0\n",
    "print(f\"Model has {model.num_parameters():,}\")\n"
   ]
  },
  {
   "cell_type": "code",
   "execution_count": null,
   "metadata": {},
   "outputs": [],
   "source": [
    "scheduler = diffusers.DDIMScheduler(\n",
    "    num_train_timesteps=4000,\n",
    "    rescale_betas_zero_snr=True\n",
    ")\n"
   ]
  },
  {
   "cell_type": "code",
   "execution_count": null,
   "metadata": {},
   "outputs": [],
   "source": [
    "optimizer = torch.optim.AdamW(model.parameters(), lr=2e-4, weight_decay=4e-5)\n",
    "criterion = torch.nn.MSELoss()\n"
   ]
  },
  {
   "cell_type": "code",
   "execution_count": null,
   "metadata": {},
   "outputs": [],
   "source": [
    "@torch.no_grad()\n",
    "def generate(batch_size, eta, num_inference_steps):\n",
    "    pipeline = diffusers.DDIMPipeline(model, scheduler)\n",
    "    \n",
    "    imgs = pipeline(\n",
    "        batch_size, eta=eta, num_inference_steps=num_inference_steps, output_type=\"np\"\n",
    "    ).images\n",
    "    \n",
    "    imgs = torch.as_tensor(imgs).permute(0, 3, 1, 2)\n",
    "    \n",
    "    grid = torchvision.utils.make_grid(imgs)\n",
    "    \n",
    "    plt.figure(figsize=(20,20))\n",
    "    plt.title(f\"Generated Images after {num_train_steps:,} steps\")\n",
    "    plt.imshow(grid.permute(1, 2, 0))\n",
    "    plt.axis(\"off\")\n",
    "    plt.show()\n"
   ]
  },
  {
   "cell_type": "code",
   "execution_count": null,
   "metadata": {},
   "outputs": [],
   "source": [
    "pbar = tqdm.tqdm(range(10))\n",
    "\n",
    "for epoch in pbar:\n",
    "    for x, _ in tqdm.tqdm(train_loader, desc=\"Batches\", unit=\"batches\", leave=False):\n",
    "        t = torch.randint(0, 4000, (x.size(0),)).long()\n",
    "        noise = torch.randn_like(x)\n",
    "        \n",
    "        noisy_x = scheduler.add_noise(x, noise, t)\n",
    "        \n",
    "        pred = model.forward(noisy_x, t).sample\n",
    "        \n",
    "        loss=criterion(pred, noise)\n",
    "        \n",
    "        optimizer.zero_grad()\n",
    "        loss.backward()\n",
    "        optimizer.step()\n",
    "        num_train_steps += 1\n",
    "        \n",
    "        pbar.set_postfix_str(f\"Total Steps: {num_train_steps:,}, Loss: {loss:.4f}\")\n",
    "    "
   ]
  }
 ],
 "metadata": {
  "kernelspec": {
   "display_name": "venv",
   "language": "python",
   "name": "python3"
  },
  "language_info": {
   "codemirror_mode": {
    "name": "ipython",
    "version": 3
   },
   "file_extension": ".py",
   "mimetype": "text/x-python",
   "name": "python",
   "nbconvert_exporter": "python",
   "pygments_lexer": "ipython3",
   "version": "3.10.10"
  }
 },
 "nbformat": 4,
 "nbformat_minor": 2
}
