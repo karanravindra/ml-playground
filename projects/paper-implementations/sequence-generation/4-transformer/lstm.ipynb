{
 "cells": [
  {
   "cell_type": "code",
   "execution_count": 1,
   "metadata": {},
   "outputs": [],
   "source": [
    "import torch\n",
    "import torch.nn as nn\n",
    "import torch.nn.functional as F\n",
    "import torch.optim as optim\n",
    "import torchvision\n",
    "import tqdm\n",
    "import lightning.pytorch as pl\n",
    "import pandas as pd\n",
    "import random\n"
   ]
  },
  {
   "cell_type": "code",
   "execution_count": 2,
   "metadata": {},
   "outputs": [],
   "source": [
    "with open(\"data/tiny-shakespeare.txt\") as f:\n",
    "    text = f.read()\n"
   ]
  },
  {
   "cell_type": "code",
   "execution_count": 3,
   "metadata": {},
   "outputs": [],
   "source": [
    "# chunk the text into sequences of length seq_length\n",
    "seq_length = 64\n",
    "sequences = []\n",
    "for i in range(0, len(text) - seq_length, seq_length):\n",
    "    sequences.append(text[i:i + seq_length])\n"
   ]
  },
  {
   "cell_type": "code",
   "execution_count": 4,
   "metadata": {},
   "outputs": [
    {
     "name": "stdout",
     "output_type": "stream",
     "text": [
      "17428 First Citizen:\n",
      "Before we proceed any further, hear me speak.\n",
      "\n",
      "Al\n"
     ]
    }
   ],
   "source": [
    "print(len(sequences), sequences[0])\n"
   ]
  },
  {
   "cell_type": "code",
   "execution_count": 5,
   "metadata": {},
   "outputs": [],
   "source": [
    "@torch.no_grad()\n",
    "def encode(string: str) -> torch.Tensor:\n",
    "    string = string.encode('utf-8')\n",
    "    return torch.as_tensor([int(c)+1 for c in string])\n",
    "\n",
    "@torch.no_grad()\n",
    "def decode(arr: torch.Tensor) -> str:\n",
    "    arr = arr.tolist()\n",
    "    return ''.join([chr(c-1) for c in arr])\n"
   ]
  },
  {
   "cell_type": "code",
   "execution_count": 6,
   "metadata": {},
   "outputs": [
    {
     "name": "stdout",
     "output_type": "stream",
     "text": [
      "tensor([105, 102, 109, 109, 112])\n",
      "hello\n"
     ]
    }
   ],
   "source": [
    "print(encode('hello'))\n",
    "print(decode(encode('hello')))\n"
   ]
  },
  {
   "cell_type": "code",
   "execution_count": 7,
   "metadata": {},
   "outputs": [
    {
     "name": "stdout",
     "output_type": "stream",
     "text": [
      "torch.Size([64, 4, 256])\n"
     ]
    }
   ],
   "source": [
    "import torch\n",
    "import torch.nn as nn\n",
    "import math\n",
    "\n",
    "class PositionalEncoding(nn.Module):\n",
    "    def __init__(self, d_model, max_len=1024):\n",
    "        super().__init__()\n",
    "        self.encoding = torch.zeros(max_len, d_model)\n",
    "        position = torch.arange(0, max_len, dtype=torch.float).unsqueeze(1)\n",
    "        div_term = torch.exp(torch.arange(0, d_model, 2).float() * (-torch.log(torch.tensor(10000.0)) / d_model))\n",
    "        self.encoding[:, 0::2] = torch.sin(position * div_term)\n",
    "        self.encoding[:, 1::2] = torch.cos(position * div_term)\n",
    "        self.encoding = self.encoding.unsqueeze(0).transpose(0, 1)\n",
    "\n",
    "    def forward(self, x):\n",
    "        return x + self.encoding[:x.size(0), :]\n",
    "\n",
    "class TransformerDecoderLayer(nn.Module):\n",
    "    def __init__(self, d_model, nhead, dim_feedforward=2048, dropout=0.1):\n",
    "        super().__init__()\n",
    "        self.self_attn = nn.MultiheadAttention(d_model, nhead, dropout=dropout)\n",
    "        self.linear1 = nn.Linear(d_model, dim_feedforward)\n",
    "        self.dropout = nn.Dropout(dropout)\n",
    "        self.linear2 = nn.Linear(dim_feedforward, d_model)\n",
    "\n",
    "        self.norm1 = nn.LayerNorm(d_model)\n",
    "        self.norm2 = nn.LayerNorm(d_model)\n",
    "        self.dropout1 = nn.Dropout(dropout)\n",
    "        self.dropout2 = nn.Dropout(dropout)\n",
    "\n",
    "        self.activation = nn.ReLU()\n",
    "\n",
    "    def forward(self, tgt, tgt_mask=None):\n",
    "        tgt2 = self.norm1(tgt)\n",
    "        tgt2, _ = self.self_attn(tgt2, tgt2, tgt2, attn_mask=tgt_mask)\n",
    "        tgt = tgt + self.dropout1(tgt2)\n",
    "        tgt2 = self.norm2(tgt)\n",
    "        tgt2 = self.linear1(tgt2)\n",
    "        tgt2 = self.activation(tgt2)\n",
    "        tgt2 = self.dropout(tgt2)\n",
    "        tgt2 = self.linear2(tgt2)\n",
    "        tgt = tgt + self.dropout2(tgt2)\n",
    "        return tgt\n",
    "\n",
    "class TransformerDecoder(nn.Module):\n",
    "    def __init__(self, d_model, nhead, num_layers, vocab_size, max_len, dim_feedforward=2048, dropout=0.1):\n",
    "        super().__init__()\n",
    "        self.embedding = nn.Embedding(vocab_size, d_model)\n",
    "        self.pos_encoder = PositionalEncoding(d_model, max_len)\n",
    "        self.layers = nn.ModuleList([\n",
    "            TransformerDecoderLayer(d_model, nhead, dim_feedforward, dropout) for _ in range(num_layers)\n",
    "        ])\n",
    "        self.norm = nn.LayerNorm(d_model)\n",
    "        self.output_layer = nn.Linear(d_model, vocab_size)  # Final output layer\n",
    "        \n",
    "        self.d_model = d_model\n",
    "        self.nhead = nhead\n",
    "        self.num_layers = num_layers\n",
    "        self.vocab_size = vocab_size\n",
    "        self.max_len = max_len\n",
    "        \n",
    "\n",
    "    def forward(self, src, tgt_mask=None):\n",
    "        src = self.embedding(src) * math.sqrt(d_model)\n",
    "        src = self.pos_encoder(src)\n",
    "        output = src\n",
    "        for layer in self.layers:\n",
    "            output = layer(output, tgt_mask=tgt_mask)\n",
    "        output = self.norm(output)\n",
    "        output = self.output_layer(output)\n",
    "        return output\n",
    "\n",
    "# Model configuration\n",
    "d_model = 256  # Dimension of the model\n",
    "nhead = 2      # Number of heads in multi-head attention\n",
    "num_layers = 3 # Number of decoder layers\n",
    "vocab_size = 256  # Size of vocabulary\n",
    "max_len = 64   # Maximum length of a sequence\n",
    "\n",
    "# Example usage\n",
    "model = TransformerDecoder(d_model, nhead, num_layers, vocab_size, max_len)\n",
    "tokens = torch.randint(0, vocab_size, (max_len, 4))  # (sequence_length, batch_size)\n",
    "output = model(tokens)\n",
    "print(output.shape)  # Should output (1, vocab_size), for one token output\n"
   ]
  },
  {
   "cell_type": "code",
   "execution_count": 8,
   "metadata": {},
   "outputs": [],
   "source": [
    "criterion = nn.CrossEntropyLoss()\n",
    "optimizer = torch.optim.Adam(model.parameters(), lr=0.01)\n"
   ]
  },
  {
   "cell_type": "code",
   "execution_count": 10,
   "metadata": {},
   "outputs": [
    {
     "name": "stderr",
     "output_type": "stream",
     "text": [
      "100%|██████████| 50/50 [00:20<00:00,  2.38it/s]"
     ]
    },
    {
     "name": "stdout",
     "output_type": "stream",
     "text": [
      "First Citizen:c×ç úwÓ)çO? z¡Gcf Ii´y¤Ãm{èõâ­ßv\u0017Æ\u0001RÁö¨pÂ<\n",
      "64\n"
     ]
    },
    {
     "name": "stderr",
     "output_type": "stream",
     "text": [
      "\n"
     ]
    }
   ],
   "source": [
    "import torch.nn.functional as F\n",
    "\n",
    "# Validation Loop with Temperature Sampling\n",
    "model.eval()\n",
    "initial_input = encode('First Citizen:') -1\n",
    "generated_text = initial_input\n",
    "\n",
    "with torch.no_grad():\n",
    "    input_tensor = initial_input\n",
    "    for _ in tqdm.tqdm(range(max_len - len(initial_input))):\n",
    "        input_tensor = F.pad(input_tensor, (max_len - len(input_tensor), 0))\n",
    "        # print(input_tensor)\n",
    "        output = model(input_tensor)\n",
    "        predicted_token = torch.multinomial(F.softmax(output[0, -1] / 0.7, dim=-1), 1)\n",
    "        \n",
    "        # print(generated_text.shape, predicted_token.shape)\n",
    "        \n",
    "        generated_text = torch.cat((generated_text, predicted_token), dim=0)\n",
    "        input_tensor = generated_text  # Feed the entire sequence\n",
    "        \n",
    "\n",
    "    # Display the generated text\n",
    "    print(decode(generated_text.squeeze() + 1))\n",
    "    print(len(decode(generated_text.squeeze() + 1)))\n"
   ]
  },
  {
   "cell_type": "code",
   "execution_count": 11,
   "metadata": {},
   "outputs": [
    {
     "name": "stderr",
     "output_type": "stream",
     "text": [
      "  0%|          | 0/17428 [00:00<?, ?it/s]"
     ]
    },
    {
     "ename": "",
     "evalue": "",
     "output_type": "error",
     "traceback": [
      "\u001b[1;31mThe Kernel crashed while executing code in the current cell or a previous cell. \n",
      "\u001b[1;31mPlease review the code in the cell(s) to identify a possible cause of the failure. \n",
      "\u001b[1;31mClick <a href='https://aka.ms/vscodeJupyterKernelCrash'>here</a> for more info. \n",
      "\u001b[1;31mView Jupyter <a href='command:jupyter.viewOutput'>log</a> for further details."
     ]
    }
   ],
   "source": [
    "# Assume model, optimizer, criterion, and encode function are defined.\n",
    "epochs = 20\n",
    "for epoch in range(epochs):\n",
    "    model.train()\n",
    "    total_loss = 0\n",
    "    with tqdm.tqdm(enumerate(sequences), total=len(sequences)) as pbar:\n",
    "        for i, seq in pbar:\n",
    "            # Prepare input and target tensors\n",
    "            seq = encode(seq) -1\n",
    "            total_loss = torch.tensor(0.)\n",
    "            \n",
    "            optimizer.zero_grad()\n",
    "            for j in range(len(seq) - 1):\n",
    "                inputs = seq[:j]\n",
    "                targets = seq[j+1].unsqueeze(0)\n",
    "                \n",
    "                inputs = F.pad(inputs, (max_len - len(inputs), 0))\n",
    "                \n",
    "                # Forward pass\n",
    "                # print(\"inputs\", inputs.shape)\n",
    "                # print(\"targets\", targets.shape)\n",
    "                \n",
    "                output = model(inputs)\n",
    "                # print(\"output\", output.shape, output.requires_grad)\n",
    "                \n",
    "                predicted_token = output[0, -1].unsqueeze(0)\n",
    "                # print(\"predicted_token\", predicted_token.shape)\n",
    "                \n",
    "                \n",
    "                # print(predicted_token.requires_grad, targets.requires_grad)\n",
    "                loss = criterion(predicted_token.float(), targets)\n",
    "                total_loss += loss\n",
    "                \n",
    "            total_loss.backward()    \n",
    "            optimizer.step()\n",
    "            pbar.set_description(f\"Loss: {loss.item()}\")\n",
    "                "
   ]
  },
  {
   "cell_type": "code",
   "execution_count": null,
   "metadata": {},
   "outputs": [],
   "source": []
  }
 ],
 "metadata": {
  "kernelspec": {
   "display_name": "cloudspace",
   "language": "python",
   "name": "python3"
  },
  "language_info": {
   "codemirror_mode": {
    "name": "ipython",
    "version": 3
   },
   "file_extension": ".py",
   "mimetype": "text/x-python",
   "name": "python",
   "nbconvert_exporter": "python",
   "pygments_lexer": "ipython3",
   "version": "3.10.10"
  }
 },
 "nbformat": 4,
 "nbformat_minor": 2
}
