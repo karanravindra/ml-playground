{
 "cells": [
  {
   "cell_type": "code",
   "execution_count": 1,
   "metadata": {},
   "outputs": [],
   "source": [
    "import torch\n",
    "import torch.nn as nn\n",
    "import torch.nn.functional as F\n",
    "import torch.optim as optim\n",
    "import torchvision\n",
    "import tqdm\n",
    "import lightning.pytorch as pl\n",
    "import pandas as pd\n",
    "import random\n"
   ]
  },
  {
   "cell_type": "code",
   "execution_count": 2,
   "metadata": {},
   "outputs": [],
   "source": [
    "with open(\"data/tiny-shakespeare.txt\") as f:\n",
    "    text = f.read()\n"
   ]
  },
  {
   "cell_type": "code",
   "execution_count": 3,
   "metadata": {},
   "outputs": [],
   "source": [
    "# chunk the text into sequences of length seq_length\n",
    "seq_length = 1024\n",
    "sequences = []\n",
    "for i in range(0, len(text) - seq_length, seq_length):\n",
    "    sequences.append(text[i:i + seq_length])\n"
   ]
  },
  {
   "cell_type": "code",
   "execution_count": 4,
   "metadata": {},
   "outputs": [
    {
     "name": "stdout",
     "output_type": "stream",
     "text": [
      "1089 First Citizen:\n",
      "Before we proceed any further, hear me speak.\n",
      "\n",
      "All:\n",
      "Speak, speak.\n",
      "\n",
      "First Citizen:\n",
      "You are all resolved rather to die than to famish?\n",
      "\n",
      "All:\n",
      "Resolved. resolved.\n",
      "\n",
      "First Citizen:\n",
      "First, you know Caius Marcius is chief enemy to the people.\n",
      "\n",
      "All:\n",
      "We know't, we know't.\n",
      "\n",
      "First Citizen:\n",
      "Let us kill him, and we'll have corn at our own price.\n",
      "Is't a verdict?\n",
      "\n",
      "All:\n",
      "No more talking on't; let it be done: away, away!\n",
      "\n",
      "Second Citizen:\n",
      "One word, good citizens.\n",
      "\n",
      "First Citizen:\n",
      "We are accounted poor citizens, the patricians good.\n",
      "What authority surfeits on would relieve us: if they\n",
      "would yield us but the superfluity, while it were\n",
      "wholesome, we might guess they relieved us humanely;\n",
      "but they think we are too dear: the leanness that\n",
      "afflicts us, the object of our misery, is as an\n",
      "inventory to particularise their abundance; our\n",
      "sufferance is a gain to them Let us revenge this with\n",
      "our pikes, ere we become rakes: for the gods know I\n",
      "speak this in hunger for bread, not in thirst for revenge.\n",
      "\n",
      "Second Citizen:\n",
      "Would yo\n"
     ]
    }
   ],
   "source": [
    "print(len(sequences), sequences[0])\n"
   ]
  },
  {
   "cell_type": "code",
   "execution_count": 5,
   "metadata": {},
   "outputs": [],
   "source": [
    "@torch.no_grad()\n",
    "def encode(string: str) -> torch.Tensor:\n",
    "    string = string.encode('utf-8')\n",
    "    return torch.as_tensor([int(c) for c in string])\n",
    "\n",
    "@torch.no_grad()\n",
    "def decode(arr: torch.Tensor) -> str:\n",
    "    arr = arr.tolist()\n",
    "    return ''.join([chr(c) for c in arr])\n"
   ]
  },
  {
   "cell_type": "code",
   "execution_count": 6,
   "metadata": {},
   "outputs": [
    {
     "name": "stdout",
     "output_type": "stream",
     "text": [
      "tensor([104, 101, 108, 108, 111])\n",
      "hello\n"
     ]
    }
   ],
   "source": [
    "print(encode('hello'))\n",
    "print(decode(encode('hello')))\n"
   ]
  },
  {
   "cell_type": "code",
   "execution_count": 7,
   "metadata": {},
   "outputs": [],
   "source": [
    "import torch\n",
    "import torch.nn as nn\n",
    "\n",
    "class Model(nn.Module):\n",
    "    def __init__(self, vocab_size, embed_dim, hidden_dim, num_layers):\n",
    "        super(Model, self).__init__()\n",
    "        self.hidden_dim = hidden_dim\n",
    "        self.num_layers = num_layers\n",
    "        \n",
    "        # Embedding layer\n",
    "        self.embedding = nn.Embedding(vocab_size, embed_dim)\n",
    "        \n",
    "        # LSTM layer\n",
    "        self.lstm = nn.LSTM(embed_dim, hidden_dim, num_layers, batch_first=True)\n",
    "        \n",
    "        # Fully connected layer to predict each character\n",
    "        self.fc = nn.Linear(hidden_dim, vocab_size)\n",
    "\n",
    "    def forward(self, x, hidden=None):\n",
    "        # Embedding\n",
    "        x = self.embedding(x)\n",
    "        \n",
    "        # Initialize hidden state and cell state if not provided\n",
    "        if hidden is None:\n",
    "            h0 = torch.zeros(self.num_layers, x.size(0), self.hidden_dim, device=x.device)\n",
    "            c0 = torch.zeros(self.num_layers, x.size(0), self.hidden_dim, device=x.device)\n",
    "            hidden = (h0, c0)\n",
    "        \n",
    "        # LSTM output along with new hidden state\n",
    "        out, hidden = self.lstm(x, hidden)\n",
    "        \n",
    "        # Reshape output for the fully connected layer\n",
    "        out = out.reshape(-1, self.hidden_dim)\n",
    "        out = self.fc(out)\n",
    "        return out, hidden\n",
    "\n",
    "# Create an instance of the updated model\n",
    "vocab_size = 256  # number of unique characters\n",
    "embed_dim = 128   # embedding dimension\n",
    "hidden_dim = 512  # LSTM hidden dimensions\n",
    "num_layers = 4  # number of LSTM layers\n",
    "\n",
    "model = Model(vocab_size, embed_dim, hidden_dim, num_layers)\n"
   ]
  },
  {
   "cell_type": "code",
   "execution_count": 8,
   "metadata": {},
   "outputs": [],
   "source": [
    "criterion = nn.CrossEntropyLoss()\n",
    "optimizer = torch.optim.AdamW(model.parameters(), lr=0.01)\n"
   ]
  },
  {
   "cell_type": "code",
   "execution_count": 9,
   "metadata": {},
   "outputs": [
    {
     "name": "stdout",
     "output_type": "stream",
     "text": [
      "Ù°;åtì6ÁÜèæ[\u0013¡û6\u0001x³Î\u0014èYT¦sÏ@\u000f`a­ÒTe\u0015Ù0Á~+s8[èj)z×4¡¨0ÌJH\u000e\u0007¬\u0018²æ)þ*ª4PâC\u0002\u000b°VQéåf\u0018¨4\u001eÝ\u001bÃ±[÷¸+5mxhïÀD1x$n\u001cµ²\u0018ªv­úEàe°5×~~%\\ã(V¯\u0019ÇµM&Fy¨­¤Í_Ï{¡ùÿÎÜÍ¿ÙûRøá8O\u0018r¯\u000fO\u0019\\ì+!²4ÊÒ÷c£y ÑsjVµõ³¡Û)BQ>ÖþL£¢}â\u000b\u0017³÷a\f\u0004ÚUeÐj\"ÙË\fA\u000eóý5\u0019´Ì$}¦#Å\u0017:Ïèã¹\u0002³ºÖK|\n"
     ]
    }
   ],
   "source": [
    "import torch.nn.functional as F\n",
    "\n",
    "def temperature_sampling(logits, temperature=0.7):\n",
    "    # Scale logits by temperature\n",
    "    scaled_logits = logits / temperature\n",
    "    # Convert logits to probabilities\n",
    "    probs = F.softmax(scaled_logits, dim=-1)\n",
    "    # Sample from the probabilities\n",
    "    return torch.multinomial(probs, num_samples=1)\n",
    "\n",
    "# Validation Loop with Temperature Sampling\n",
    "model.eval()\n",
    "initial_input = encode('First Citizen:').unsqueeze(0)\n",
    "generated_text = []\n",
    "hidden = None  # Hidden state initialization\n",
    "\n",
    "with torch.no_grad():\n",
    "    for _ in range(512):  # Generate 64 characters\n",
    "        output, hidden = model(initial_input, hidden)  # Ensure model accepts and returns hidden state\n",
    "        predicted = temperature_sampling(output[-1], temperature=0.8)\n",
    "        generated_text.append(predicted)\n",
    "        initial_input = predicted.unsqueeze(0)\n",
    "\n",
    "print(\"First Citizen:\"+decode(torch.stack(generated_text).flatten()))\n"
   ]
  },
  {
   "cell_type": "code",
   "execution_count": 10,
   "metadata": {},
   "outputs": [
    {
     "name": "stderr",
     "output_type": "stream",
     "text": [
      "Epoch 1/20, Loss: 3.3516:  23%|██▎       | 247/1089 [19:32<1:06:38,  4.75s/it]\n"
     ]
    },
    {
     "ename": "",
     "evalue": "",
     "output_type": "error",
     "traceback": [
      "\u001b[1;31mThe Kernel crashed while executing code in the current cell or a previous cell. \n",
      "\u001b[1;31mPlease review the code in the cell(s) to identify a possible cause of the failure. \n",
      "\u001b[1;31mClick <a href='https://aka.ms/vscodeJupyterKernelCrash'>here</a> for more info. \n",
      "\u001b[1;31mView Jupyter <a href='command:jupyter.viewOutput'>log</a> for further details."
     ]
    }
   ],
   "source": [
    "epochs = 20\n",
    "for epoch in range(epochs):\n",
    "    model.train()\n",
    "    total_loss = 0\n",
    "    with tqdm.tqdm(enumerate(sequences), total=len(sequences)) as pbar:\n",
    "        for i, seq in pbar:\n",
    "            optimizer.zero_grad()\n",
    "\n",
    "            # Encode sequence and prepare inputs and targets\n",
    "            story = encode(seq).view(1, -1)\n",
    "            inputs = story[:, :-1]  # All characters except the last\n",
    "            targets = story[:, 1:].flatten()  # All characters except the first, flattened for loss calculation\n",
    "\n",
    "            # Forward pass\n",
    "            outputs, _ = model(inputs)  # Outputs now includes hidden states which are ignored during training\n",
    "            loss = criterion(outputs, targets)  # Loss calculation between outputs and shifted targets\n",
    "\n",
    "            # Backward pass and optimize\n",
    "            loss.backward()\n",
    "            optimizer.step()\n",
    "\n",
    "            total_loss += loss.item()\n",
    "            pbar.set_description(f\"Epoch {epoch+1}/{epochs}, Loss: {total_loss / (i + 1):.4f}\")\n"
   ]
  },
  {
   "cell_type": "code",
   "execution_count": null,
   "metadata": {},
   "outputs": [],
   "source": []
  }
 ],
 "metadata": {
  "kernelspec": {
   "display_name": "cloudspace",
   "language": "python",
   "name": "python3"
  },
  "language_info": {
   "codemirror_mode": {
    "name": "ipython",
    "version": 3
   },
   "file_extension": ".py",
   "mimetype": "text/x-python",
   "name": "python",
   "nbconvert_exporter": "python",
   "pygments_lexer": "ipython3",
   "version": "3.10.10"
  }
 },
 "nbformat": 4,
 "nbformat_minor": 2
}
