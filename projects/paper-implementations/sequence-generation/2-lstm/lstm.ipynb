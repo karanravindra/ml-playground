{
 "cells": [
  {
   "cell_type": "code",
   "execution_count": 1,
   "metadata": {},
   "outputs": [],
   "source": [
    "import torch\n",
    "import torch.nn as nn\n",
    "import torch.nn.functional as F\n",
    "import torch.optim as optim\n",
    "import torchvision\n",
    "import tqdm.notebook as tqdm\n",
    "import lightning.pytorch as pl\n",
    "import pandas as pd\n",
    "import random\n"
   ]
  },
  {
   "cell_type": "code",
   "execution_count": 2,
   "metadata": {},
   "outputs": [],
   "source": [
    "with open(\"data/tiny-shakespeare.txt\") as f:\n",
    "    text = f.read()\n"
   ]
  },
  {
   "cell_type": "code",
   "execution_count": 3,
   "metadata": {},
   "outputs": [],
   "source": [
    "# chunk the text into sequences of length seq_length\n",
    "seq_length = 256\n",
    "sequences = []\n",
    "for i in range(0, len(text) - seq_length, seq_length):\n",
    "    sequences.append(text[i:i + seq_length])\n"
   ]
  },
  {
   "cell_type": "code",
   "execution_count": 4,
   "metadata": {},
   "outputs": [
    {
     "name": "stdout",
     "output_type": "stream",
     "text": [
      "4357 First Citizen:\n",
      "Before we proceed any further, hear me speak.\n",
      "\n",
      "All:\n",
      "Speak, speak.\n",
      "\n",
      "First Citizen:\n",
      "You are all resolved rather to die than to famish?\n",
      "\n",
      "All:\n",
      "Resolved. resolved.\n",
      "\n",
      "First Citizen:\n",
      "First, you know Caius Marcius is chief enemy to the people.\n",
      "\n",
      "All:\n",
      "\n"
     ]
    }
   ],
   "source": [
    "print(len(sequences), sequences[0])\n"
   ]
  },
  {
   "cell_type": "code",
   "execution_count": 5,
   "metadata": {},
   "outputs": [],
   "source": [
    "@torch.no_grad()\n",
    "def encode(string: str) -> torch.Tensor:\n",
    "    string = string.encode('utf-8')\n",
    "    return torch.as_tensor([int(c) for c in string])\n",
    "\n",
    "@torch.no_grad()\n",
    "def decode(arr: torch.Tensor) -> str:\n",
    "    arr = arr.tolist()\n",
    "    return ''.join([chr(c) for c in arr])\n"
   ]
  },
  {
   "cell_type": "code",
   "execution_count": 6,
   "metadata": {},
   "outputs": [
    {
     "name": "stdout",
     "output_type": "stream",
     "text": [
      "tensor([104, 101, 108, 108, 111])\n",
      "hello\n"
     ]
    }
   ],
   "source": [
    "print(encode('hello'))\n",
    "print(decode(encode('hello')))\n"
   ]
  },
  {
   "cell_type": "code",
   "execution_count": 7,
   "metadata": {},
   "outputs": [
    {
     "name": "stdout",
     "output_type": "stream",
     "text": [
      "Model uses 2,171,392 parameters\n",
      "Model uses 2,171,392 trainable parameters\n"
     ]
    }
   ],
   "source": [
    "import torch\n",
    "import torch.nn as nn\n",
    "\n",
    "class Model(nn.Module):\n",
    "    def __init__(self, vocab_size, embed_dim, hidden_dim, num_layers):\n",
    "        super(Model, self).__init__()\n",
    "        self.hidden_dim = hidden_dim\n",
    "        self.num_layers = num_layers\n",
    "        \n",
    "        # Embedding layer\n",
    "        self.embedding = nn.Embedding(vocab_size, embed_dim)\n",
    "        \n",
    "        # LSTM layer\n",
    "        self.lstm = nn.LSTM(embed_dim, hidden_dim, num_layers, batch_first=True)\n",
    "        \n",
    "        # Fully connected layer to predict each character\n",
    "        self.fc = nn.Linear(hidden_dim, vocab_size)\n",
    "\n",
    "    def forward(self, x, hidden=None):\n",
    "        # Embedding\n",
    "        x = self.embedding(x)\n",
    "        \n",
    "        # Initialize hidden state and cell state if not provided\n",
    "        if hidden is None:\n",
    "            h0 = torch.zeros(self.num_layers, x.size(0), self.hidden_dim, device=x.device)\n",
    "            c0 = torch.zeros(self.num_layers, x.size(0), self.hidden_dim, device=x.device)\n",
    "            hidden = (h0, c0)\n",
    "        \n",
    "        # LSTM output along with new hidden state\n",
    "        out, hidden = self.lstm(x, hidden)\n",
    "        \n",
    "        # Reshape output for the fully connected layer\n",
    "        out = out.reshape(-1, self.hidden_dim)\n",
    "        out = self.fc(out)\n",
    "        return out, hidden\n",
    "\n",
    "# Create an instance of the updated model\n",
    "vocab_size = 512  # number of unique characters\n",
    "embed_dim = 128   # embedding dimension\n",
    "hidden_dim = 256  # LSTM hidden dimensions\n",
    "num_layers = 4  # number of LSTM layers\n",
    "\n",
    "model = Model(vocab_size, embed_dim, hidden_dim, num_layers)\n",
    "print(f\"Model uses {sum(p.numel() for p in model.parameters()):,} parameters\")\n",
    "print(f\"Model uses {sum(p.numel() for p in model.parameters() if p.requires_grad):,} trainable parameters\")\n"
   ]
  },
  {
   "cell_type": "code",
   "execution_count": 8,
   "metadata": {},
   "outputs": [],
   "source": [
    "criterion = nn.CrossEntropyLoss()\n",
    "optimizer = torch.optim.AdamW(model.parameters(), lr=0.0002)\n"
   ]
  },
  {
   "cell_type": "code",
   "execution_count": null,
   "metadata": {},
   "outputs": [
    {
     "name": "stdout",
     "output_type": "stream",
     "text": [
      "ĀġƘi\u0010Ů°ŬÎŽĲŽÕ|ƿo2Ɠĳ\\\u0011Ň»fǲcǃƭĴÅƇŵ±ǱÅǇoĤŧǢąošǇ/ůǶÆf.ƓČƅĮŉėđ\u0004£^Ŷœęƭ ǮĿï!=ŻľÎ*ǥ£)ıǅƸǴşőơVǰ:ť­Ąƥ\u001dǙƸƴňƵ0{ÐƔ¯RǷƓ¦A\u001f\u0019ĎYB.sǜ§ƂǾƩa\u0012dġǉďO\u0015Ő²ãÝZİĊǪ¬ƨnǂDpǓƾŹíƴ\u0010pƮāǵNƓćƓgðõƫǤĿŉOƦŏ[âršSõ­yļƳā>ĈðNǀÛƄìǬǢKėtoĕ(\u0002Ś\u000fĎÕ\u0014ŀŬƆđ½kĐĭ®^ƹ\u0014ƨź\u0012ųƓũǯÍşǄàǨǫ\tĳfƩǬį #ƜžƌǨÕÚúNŮŖåëŻìţ\u001fě¨Ï¢\"#ÖTøðċƁǭƖľkǖM÷ƌ4ŕÃş\u0019è\u0014\"\u0012Ź\u0015\u0010ŅŘÈ©Ǎď\t\u000bǳāŨƪÉ'īƨí¤ń\tƽ×ƽ5ƔǢǭ,ŖĘƠǟÈŹĉǕŇċŕĎĐ\"Ǡ÷g¬\u0003ĹĮŮŵƔŬǌǅōƜ\u0000ęá}ǳƌÚśfļŏ¡ă¥ĒǋĺmšƧƤ´uâkŃĈĲĤƐ\tLĆơæ½ŰØǘŃĻĞǄhƊüŤǑƝƑǈ¡ňĝ®×ìŨǷdëØ/ǹŝ\u000bPÉĐǘý\u0012¶Xŀżç\n",
      "Text Length: 512\n"
     ]
    }
   ],
   "source": [
    "import torch.nn.functional as F\n",
    "\n",
    "def temperature_sampling(logits, temperature=0.7):\n",
    "    # Scale logits by temperature\n",
    "    scaled_logits = logits / temperature\n",
    "    # Convert logits to probabilities\n",
    "    probs = F.softmax(scaled_logits, dim=-1)\n",
    "    # Sample from the probabilities\n",
    "    return torch.multinomial(probs, num_samples=1)\n",
    "\n",
    "# Validation Loop with Temperature Sampling\n",
    "model.eval()\n",
    "initial_input = encode('First Citizen:').unsqueeze(0)\n",
    "generated_text = []\n",
    "hidden = None  # Hidden state initialization\n",
    "\n",
    "with torch.no_grad():\n",
    "    for _ in range(512):  # Generate 512 characters\n",
    "        output, hidden = model(initial_input, hidden)  # Ensure model accepts and returns hidden state\n",
    "        predicted = temperature_sampling(output[-1], temperature=0.8)\n",
    "        generated_text.append(predicted)\n",
    "        initial_input = predicted.unsqueeze(0)\n",
    "\n",
    "print(\"First Citizen:\"+decode(torch.stack(generated_text).flatten()))\n",
    "print(f\"Text Length: {len(decode(torch.stack(generated_text).flatten()))}\")\n"
   ]
  },
  {
   "cell_type": "code",
   "execution_count": 10,
   "metadata": {},
   "outputs": [
    {
     "data": {
      "application/vnd.jupyter.widget-view+json": {
       "model_id": "da7e42f61a784cd0820247a36469953b",
       "version_major": 2,
       "version_minor": 0
      },
      "text/plain": [
       "  0%|          | 0/4357 [00:00<?, ?it/s]"
      ]
     },
     "metadata": {},
     "output_type": "display_data"
    },
    {
     "data": {
      "application/vnd.jupyter.widget-view+json": {
       "model_id": "f6774347f2774fa0bfaacb21ffe96772",
       "version_major": 2,
       "version_minor": 0
      },
      "text/plain": [
       "Sequence:   0%|          | 0/255 [00:00<?, ?it/s]"
      ]
     },
     "metadata": {},
     "output_type": "display_data"
    },
    {
     "data": {
      "application/vnd.jupyter.widget-view+json": {
       "model_id": "8a04a2d5e67e459a8cff85503efe18a2",
       "version_major": 2,
       "version_minor": 0
      },
      "text/plain": [
       "Sequence:   0%|          | 0/255 [00:00<?, ?it/s]"
      ]
     },
     "metadata": {},
     "output_type": "display_data"
    },
    {
     "data": {
      "application/vnd.jupyter.widget-view+json": {
       "model_id": "79c471d1f0e84958838ac97924905625",
       "version_major": 2,
       "version_minor": 0
      },
      "text/plain": [
       "Sequence:   0%|          | 0/255 [00:00<?, ?it/s]"
      ]
     },
     "metadata": {},
     "output_type": "display_data"
    },
    {
     "data": {
      "application/vnd.jupyter.widget-view+json": {
       "model_id": "0ba645a0cb724f2ea3c035ac59a104c5",
       "version_major": 2,
       "version_minor": 0
      },
      "text/plain": [
       "Sequence:   0%|          | 0/255 [00:00<?, ?it/s]"
      ]
     },
     "metadata": {},
     "output_type": "display_data"
    },
    {
     "ename": "",
     "evalue": "",
     "output_type": "error",
     "traceback": [
      "\u001b[1;31mThe Kernel crashed while executing code in the current cell or a previous cell. \n",
      "\u001b[1;31mPlease review the code in the cell(s) to identify a possible cause of the failure. \n",
      "\u001b[1;31mClick <a href='https://aka.ms/vscodeJupyterKernelCrash'>here</a> for more info. \n",
      "\u001b[1;31mView Jupyter <a href='command:jupyter.viewOutput'>log</a> for further details."
     ]
    }
   ],
   "source": [
    "# Assume model, optimizer, criterion, and encode function are defined.\n",
    "epochs = 20\n",
    "for epoch in range(epochs):\n",
    "    model.train()\n",
    "    total_loss = 0\n",
    "    with tqdm.tqdm(enumerate(sequences), total=len(sequences)) as pbar:\n",
    "        for i, seq in pbar:\n",
    "            # Prepare input and target tensors\n",
    "            seq = encode(seq) -1\n",
    "            total_loss = torch.tensor(0.)\n",
    "            hidden = None\n",
    "            \n",
    "            for j in tqdm.tqdm(range(len(seq) - 1), leave=True, desc=\"Sequence\"):\n",
    "                inputs = seq[:j]\n",
    "                targets = seq[j+1].unsqueeze(0)\n",
    "                \n",
    "                inputs = F.pad(inputs, (seq_length - len(inputs), 0))\n",
    "                \n",
    "                # Forward pass\n",
    "                # print(\"inputs\", inputs.shape)\n",
    "                # print(\"targets\", targets.shape)\n",
    "                \n",
    "                output, hidden = model(inputs.unsqueeze(0), hidden)\n",
    "                # print(\"output\", output.shape, output.requires_grad)\n",
    "                \n",
    "                # predicted_token = output[0, -1].unsqueeze(0)\n",
    "                # print(\"predicted_token\", predicted_token.shape, targets.shape)\n",
    "                \n",
    "                \n",
    "                # print(predicted_token.requires_grad, targets.requires_grad)\n",
    "                loss = criterion(output[-1].unsqueeze(0), targets.long())\n",
    "                total_loss += loss\n",
    "            \n",
    "            optimizer.zero_grad()\n",
    "            total_loss.backward()    \n",
    "            optimizer.step()\n",
    "            \n",
    "            pbar.set_postfix_str(f\"Loss: {loss.item()}, Total loss: {total_loss.item()}\")\n",
    "                \n",
    "    break"
   ]
  },
  {
   "cell_type": "code",
   "execution_count": null,
   "metadata": {},
   "outputs": [],
   "source": []
  }
 ],
 "metadata": {
  "kernelspec": {
   "display_name": "cloudspace",
   "language": "python",
   "name": "python3"
  },
  "language_info": {
   "codemirror_mode": {
    "name": "ipython",
    "version": 3
   },
   "file_extension": ".py",
   "mimetype": "text/x-python",
   "name": "python",
   "nbconvert_exporter": "python",
   "pygments_lexer": "ipython3",
   "version": "3.10.10"
  }
 },
 "nbformat": 4,
 "nbformat_minor": 2
}
