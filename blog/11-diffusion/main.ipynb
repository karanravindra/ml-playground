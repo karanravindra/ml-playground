{
 "cells": [
  {
   "cell_type": "code",
   "execution_count": null,
   "metadata": {},
   "outputs": [],
   "source": [
    "import torch\n",
    "import torch.nn as nn\n",
    "import torch.nn.functional as F\n",
    "import torch.optim as optim\n",
    "import torchvision\n",
    "import tqdm as tqdm\n",
    "from ml_zoo import MNISTDataModule, MNISTDataModuleConfig"
   ]
  },
  {
   "cell_type": "code",
   "execution_count": null,
   "metadata": {},
   "outputs": [],
   "source": [
    "dm = MNISTDataModule(\n",
    "    MNISTDataModuleConfig(\n",
    "        \"data\",\n",
    "        batch_size=128,\n",
    "        num_workers=4,\n",
    "        pin_memory=True,\n",
    "        persistent_workers=True,\n",
    "        transforms=[torchvision.transforms.ToTensor(), torchvision.transforms.Resize((32, 32))],\n",
    "    )\n",
    ")\n",
    "dm.prepare_data()\n",
    "dm.setup()\n",
    "\n",
    "train_loader = dm.train_dataloader()\n",
    "val_loader = dm.val_dataloader()"
   ]
  },
  {
   "cell_type": "code",
   "execution_count": null,
   "metadata": {},
   "outputs": [],
   "source": [
    "torch.manual_seed(0)\n",
    "torch.set_default_device(\"mps\")"
   ]
  },
  {
   "cell_type": "code",
   "execution_count": null,
   "metadata": {},
   "outputs": [],
   "source": [
    "class Model(nn.Module):\n",
    "    def __init__(self):\n",
    "        super(Model, self).__init__()\n",
    "        self.layers = nn.ModuleList([\n",
    "            nn.Linear(1024, 512),\n",
    "            nn.Linear(512, 256),\n",
    "            nn.Linear(256, 512),\n",
    "            nn.Linear(512, 1024),\n",
    "        ])\n",
    "        \n",
    "    def forward(self, x):\n",
    "        x = x.flatten(1)\n",
    "\n",
    "        for layer in self.layers:\n",
    "            x = layer(x)\n",
    "            x = F.relu(x)\n",
    "\n",
    "        return x.view(-1, 1, 32, 32)\n",
    "    \n",
    "model = Model()"
   ]
  },
  {
   "cell_type": "code",
   "execution_count": null,
   "metadata": {},
   "outputs": [],
   "source": [
    "class Noiser:\n",
    "    \"\"\"noise scheduler for diffusion\"\"\"\n",
    "    def __init__(self, num_train_steps, noise_schedule):\n",
    "        self.num_train_steps = num_train_steps\n",
    "        self.noise_schedule = noise_schedule\n",
    "\n",
    "    def __call__(self, step):\n",
    "        return self.noise_schedule[step]\n",
    "    \n",
    "    def add_noise(self, x, noise):\n",
    "        return x + noise / num\n",
    "    \n",
    "    def remove_noise(self, x, noise):\n",
    "        return x / (1e-8 + noise)"
   ]
  },
  {
   "cell_type": "code",
   "execution_count": null,
   "metadata": {},
   "outputs": [],
   "source": [
    "x, y = next(iter(train_loader))\n",
    "\n",
    "x = x[0]\n",
    "\n",
    "# iterate and add noise"
   ]
  },
  {
   "cell_type": "code",
   "execution_count": 31,
   "metadata": {},
   "outputs": [
    {
     "name": "stdout",
     "output_type": "stream",
     "text": [
      "{'data': [{'externalIds': {'ArXiv': '1512.03385',\n",
      "                           'CorpusId': 206594692,\n",
      "                           'DBLP': 'conf/cvpr/HeZRS16',\n",
      "                           'DOI': '10.1109/cvpr.2016.90',\n",
      "                           'MAG': '2949650786'},\n",
      "           'openAccessPdf': {'status': 'GREEN',\n",
      "                             'url': 'https://repositorio.unal.edu.co/bitstream/unal/81443/1/98670607.2022.pdf'},\n",
      "           'paperId': '2c03df8b48bf3fa39054345bafabfeff15bfd11d',\n",
      "           'title': 'Deep Residual Learning for Image Recognition',\n",
      "           'url': 'https://www.semanticscholar.org/paper/2c03df8b48bf3fa39054345bafabfeff15bfd11d',\n",
      "           'year': 2015},\n",
      "          {'externalIds': {'ArXiv': '1608.03981',\n",
      "                           'CorpusId': 996788,\n",
      "                           'DBLP': 'journals/corr/ZhangZCM016',\n",
      "                           'DOI': '10.1109/TIP.2017.2662206',\n",
      "                           'MAG': '3099906833',\n",
      "                           'PubMed': '28166495'},\n",
      "           'openAccessPdf': {'status': 'GREEN',\n",
      "                             'url': 'https://arxiv.org/pdf/1608.03981'},\n",
      "           'paperId': '0c00a328fa7cd56ee60338c54e89bd48310db80b',\n",
      "           'title': 'Beyond a Gaussian Denoiser: Residual Learning of Deep CNN '\n",
      "                    'for Image Denoising',\n",
      "           'url': 'https://www.semanticscholar.org/paper/0c00a328fa7cd56ee60338c54e89bd48310db80b',\n",
      "           'year': 2016},\n",
      "          {'externalIds': {'ArXiv': '1707.02921',\n",
      "                           'CorpusId': 6540453,\n",
      "                           'DBLP': 'journals/corr/LimSKNL17',\n",
      "                           'DOI': '10.1109/CVPRW.2017.151',\n",
      "                           'MAG': '2735224642'},\n",
      "           'openAccessPdf': {'status': 'GREEN',\n",
      "                             'url': 'https://arxiv.org/pdf/1707.02921'},\n",
      "           'paperId': '7ba5d3808e117e7a68dc40331ce1d483ceeedcb2',\n",
      "           'title': 'Enhanced Deep Residual Networks for Single Image '\n",
      "                    'Super-Resolution',\n",
      "           'url': 'https://www.semanticscholar.org/paper/7ba5d3808e117e7a68dc40331ce1d483ceeedcb2',\n",
      "           'year': 2017},\n",
      "          {'externalIds': {'ArXiv': '2102.04159',\n",
      "                           'CorpusId': 235359262,\n",
      "                           'DBLP': 'conf/nips/FangYCHMT21'},\n",
      "           'openAccessPdf': None,\n",
      "           'paperId': '35fcc65db264d9c73ed19d0f3f9d53a43991bdbf',\n",
      "           'title': 'Deep Residual Learning in Spiking Neural Networks',\n",
      "           'url': 'https://www.semanticscholar.org/paper/35fcc65db264d9c73ed19d0f3f9d53a43991bdbf',\n",
      "           'year': 2021},\n",
      "          {'externalIds': {'CorpusId': 255495713,\n",
      "                           'DOI': '10.1088/1361-6501/acb074'},\n",
      "           'openAccessPdf': None,\n",
      "           'paperId': '721e71ef73b59421e27b52798f54dcfddb0d09d9',\n",
      "           'title': 'An anti-noise fault diagnosis approach for rolling '\n",
      "                    'bearings based on multiscale CNN-LSTM and a deep residual '\n",
      "                    'learning model',\n",
      "           'url': 'https://www.semanticscholar.org/paper/721e71ef73b59421e27b52798f54dcfddb0d09d9',\n",
      "           'year': 2023},\n",
      "          {'externalIds': {'CorpusId': 252175773, 'DOI': '10.3390/app12188972'},\n",
      "           'openAccessPdf': {'status': 'GOLD',\n",
      "                             'url': 'https://www.mdpi.com/2076-3417/12/18/8972/pdf?version=1662547655'},\n",
      "           'paperId': '4a920546a3797b99d2eafabe8f9e2e2e1188ffe7',\n",
      "           'title': 'Deep Residual Learning for Image Recognition: A Survey',\n",
      "           'url': 'https://www.semanticscholar.org/paper/4a920546a3797b99d2eafabe8f9e2e2e1188ffe7',\n",
      "           'year': 2022},\n",
      "          {'externalIds': {'CorpusId': 253103623,\n",
      "                           'DOI': '10.1016/j.eswa.2022.119087'},\n",
      "           'openAccessPdf': None,\n",
      "           'paperId': '682afe64715ecd6ca3ce6007d9da18e4db7df55f',\n",
      "           'title': 'An intelligent driven deep residual learning framework '\n",
      "                    'for brain tumor classification using MRI images',\n",
      "           'url': 'https://www.semanticscholar.org/paper/682afe64715ecd6ca3ce6007d9da18e4db7df55f',\n",
      "           'year': 2022},\n",
      "          {'externalIds': {'ArXiv': '1807.02758',\n",
      "                           'CorpusId': 49657846,\n",
      "                           'DBLP': 'journals/corr/abs-1807-02758',\n",
      "                           'DOI': '10.1007/978-3-030-01234-2_18',\n",
      "                           'MAG': '2866634454'},\n",
      "           'openAccessPdf': {'status': 'GREEN',\n",
      "                             'url': 'https://arxiv.org/pdf/1807.02758'},\n",
      "           'paperId': '9775f8964a2eea1c9e35a02b1b906487396ea1f5',\n",
      "           'title': 'Image Super-Resolution Using Very Deep Residual Channel '\n",
      "                    'Attention Networks',\n",
      "           'url': 'https://www.semanticscholar.org/paper/9775f8964a2eea1c9e35a02b1b906487396ea1f5',\n",
      "           'year': 2018},\n",
      "          {'externalIds': {'CorpusId': 245830461,\n",
      "                           'DBLP': 'journals/mta/AyasA22',\n",
      "                           'DOI': '10.1007/s11042-021-11617-1'},\n",
      "           'openAccessPdf': None,\n",
      "           'paperId': '6993215bd1f67b47e7679b5432831fa2b1d2d9a6',\n",
      "           'title': 'A novel bearing fault diagnosis method using deep '\n",
      "                    'residual learning network',\n",
      "           'url': 'https://www.semanticscholar.org/paper/6993215bd1f67b47e7679b5432831fa2b1d2d9a6',\n",
      "           'year': 2022},\n",
      "          {'externalIds': {'CorpusId': 259365047,\n",
      "                           'DOI': '10.1109/ICAECIS58353.2023.10170400'},\n",
      "           'openAccessPdf': None,\n",
      "           'paperId': 'd399d1014346a111e507b0389d40d4984c112dee',\n",
      "           'title': 'Deep Residual Learning for Unmasking DeepFake',\n",
      "           'url': 'https://www.semanticscholar.org/paper/d399d1014346a111e507b0389d40d4984c112dee',\n",
      "           'year': 2023}],\n",
      " 'next': 10,\n",
      " 'offset': 0,\n",
      " 'total': 542938}\n"
     ]
    }
   ],
   "source": [
    "import requests\n",
    "from pprint import pprint as pp\n",
    "\n",
    "# Define the API endpoint URL\n",
    "url = 'https://api.semanticscholar.org/graph/v1/paper/search'\n",
    "\n",
    "# More specific query parameter\n",
    "query_params = {'query': 'deep residual learning', 'fields': 'url,title,year,externalIds,openAccessPdf'}\n",
    "\n",
    "# Send the API request\n",
    "response = requests.get(url, params=query_params) # , headers=headers)\n",
    "\n",
    "# Check response status\n",
    "if response.status_code == 200:\n",
    "   response_data = response.json()\n",
    "   # Process and print the response data as needed\n",
    "   pp(response_data)\n",
    "else:\n",
    "   print(f\"Request failed with status code {response.status_code}: {response.text}\")"
   ]
  },
  {
   "cell_type": "code",
   "execution_count": 28,
   "metadata": {},
   "outputs": [
    {
     "data": {
      "text/plain": [
       "{'method': 'GET',\n",
       " 'url': 'https://api.semanticscholar.org/graph/v1/paper/search?query=deep+residual+learning&fields=title&fields=abstract',\n",
       " 'headers': {'User-Agent': 'python-requests/2.31.0', 'Accept-Encoding': 'gzip, deflate', 'Accept': '*/*', 'Connection': 'keep-alive'},\n",
       " '_cookies': <RequestsCookieJar[]>,\n",
       " 'body': None,\n",
       " 'hooks': {'response': []},\n",
       " '_body_position': None}"
      ]
     },
     "execution_count": 28,
     "metadata": {},
     "output_type": "execute_result"
    }
   ],
   "source": [
    "response.request.__dict__"
   ]
  },
  {
   "cell_type": "code",
   "execution_count": null,
   "metadata": {},
   "outputs": [],
   "source": []
  }
 ],
 "metadata": {
  "kernelspec": {
   "display_name": ".venv",
   "language": "python",
   "name": "python3"
  },
  "language_info": {
   "codemirror_mode": {
    "name": "ipython",
    "version": 3
   },
   "file_extension": ".py",
   "mimetype": "text/x-python",
   "name": "python",
   "nbconvert_exporter": "python",
   "pygments_lexer": "ipython3",
   "version": "3.10.14"
  }
 },
 "nbformat": 4,
 "nbformat_minor": 2
}
