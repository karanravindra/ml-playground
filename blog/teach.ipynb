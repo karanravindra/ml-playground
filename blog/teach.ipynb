{
 "cells": [
  {
   "cell_type": "code",
   "execution_count": null,
   "metadata": {},
   "outputs": [],
   "source": [
    "import torch\n",
    "import torch.nn as nn\n",
    "import torch.nn.functional as F\n",
    "import torchvision\n",
    "import tqdm\n",
    "\n",
    "from ml_zoo import ResNetConfig, ResNet\n",
    "\n",
    "import wandb\n",
    "import matplotlib.pyplot as plt"
   ]
  },
  {
   "cell_type": "code",
   "execution_count": null,
   "metadata": {},
   "outputs": [],
   "source": [
    "train_dataset = torchvision.datasets.CIFAR10(\n",
    "    root=\"./data\",\n",
    "    train=True,\n",
    "    download=True,\n",
    "    transform=torchvision.transforms.Compose([\n",
    "        torchvision.transforms.ToTensor(),\n",
    "    ])\n",
    ")\n",
    "train_loader = torch.utils.data.DataLoader(train_dataset, batch_size=64, shuffle=True)\n",
    "\n",
    "test_dataset = torchvision.datasets.CIFAR10(\n",
    "    root=\"./data\",\n",
    "    train=False,\n",
    "    download=True,\n",
    "    transform=torchvision.transforms.ToTensor(),\n",
    ")\n",
    "test_loader = torch.utils.data.DataLoader(test_dataset, batch_size=64, shuffle=False)"
   ]
  },
  {
   "cell_type": "code",
   "execution_count": null,
   "metadata": {},
   "outputs": [],
   "source": [
    "model = nn.Sequential(\n",
    "    nn.BatchNorm2d(3),\n",
    "    nn.Conv2d(3, 32, kernel_size=3, padding=1),\n",
    "    nn.ReLU(),\n",
    "    nn.MaxPool2d(2),\n",
    "    nn.BatchNorm2d(32),\n",
    "    nn.Conv2d(32, 64, kernel_size=3, padding=1),\n",
    "    nn.ReLU(),\n",
    "    nn.MaxPool2d(2),\n",
    "    nn.BatchNorm2d(64),\n",
    "    nn.Conv2d(64, 128, kernel_size=3, padding=1),\n",
    "    nn.ReLU(),\n",
    "    nn.MaxPool2d(2),\n",
    "    nn.BatchNorm2d(128),\n",
    "    nn.Conv2d(128, 256, kernel_size=3, padding=1),\n",
    "    nn.ReLU(),\n",
    "    nn.MaxPool2d(2),\n",
    "    nn.Flatten(),\n",
    "    nn.Linear(256 * 2 * 2, 128),\n",
    "    nn.ReLU(),\n",
    "    nn.Linear(128, 10),\n",
    ")\n",
    "\n",
    "print(f\"Model has {sum(p.numel() for p in model.parameters()):,} parameters\")"
   ]
  },
  {
   "cell_type": "code",
   "execution_count": null,
   "metadata": {},
   "outputs": [],
   "source": [
    "optimizer = torch.optim.SGD(model.parameters(), lr=0.1, momentum=0.9)\n",
    "scheduler = torch.optim.lr_scheduler.ReduceLROnPlateau(optimizer, mode=\"min\", factor=0.5, patience=5, verbose=True)"
   ]
  },
  {
   "cell_type": "code",
   "execution_count": null,
   "metadata": {},
   "outputs": [],
   "source": [
    "wandb.init(project=\"teach\")\n",
    "wandb.config.update({\n",
    "    \"model\": \"LeNet5\", \n",
    "    \"dataset\": \"CIFAR10\",\n",
    "    \"optimizer\": \"SGD\",\n",
    "    \"scheduler\": \"ReduceLROnPlateau\"\n",
    "})\n",
    "wandb.watch(model)"
   ]
  },
  {
   "cell_type": "code",
   "execution_count": null,
   "metadata": {},
   "outputs": [],
   "source": [
    "@torch.no_grad()\n",
    "def test(model):\n",
    "    model.eval()\n",
    "    correct = 0\n",
    "    total = 0\n",
    "    loss = 0\n",
    "    for batch in test_loader:\n",
    "        images, labels = batch\n",
    "        outputs = model(images)\n",
    "        _, predicted = torch.max(outputs.data, 1)\n",
    "        total += labels.size(0)\n",
    "        correct += (predicted == labels).sum().item()\n",
    "\n",
    "        loss += F.cross_entropy(outputs, labels)\n",
    "\n",
    "    accuracy = correct / total\n",
    "    loss /= len(test_loader)\n",
    "    return accuracy, loss"
   ]
  },
  {
   "cell_type": "code",
   "execution_count": null,
   "metadata": {},
   "outputs": [],
   "source": [
    "val_accuracy = 0\n",
    "val_loss = 0\n",
    "pbar = tqdm.tnrange(25, desc=\"Epochs\")\n",
    "for epoch in pbar:\n",
    "    model.train()\n",
    "    correct = []\n",
    "    wrong = []\n",
    "    classes = []\n",
    "\n",
    "    for x, y in train_loader:\n",
    "        optimizer.zero_grad()\n",
    "        y_hat = model(x)\n",
    "        loss = F.cross_entropy(y_hat, y)\n",
    "        loss.backward()\n",
    "        optimizer.step()\n",
    "\n",
    "        wandb.log(\n",
    "            {\n",
    "                \"train/loss\": loss.item(),\n",
    "                \"train/accuracy\": (y_hat.argmax(1) == y).float().mean().item(),\n",
    "            },\n",
    "        )\n",
    "\n",
    "        pbar.set_postfix_str(\n",
    "            f\"loss={loss.item():.4f}, val acc={val_accuracy:.2%}, val loss={val_loss:.4f}\"\n",
    "        )\n",
    "\n",
    "        # Log (x, y) pairs that were correct and wrong\n",
    "        # correct.append((x[y_hat.argmax(1) == y], y[y_hat.argmax(1) == y]))\n",
    "        # wrong.append((x[y_hat.argmax(1) != y], y[y_hat.argmax(1) != y]))\n",
    "        # classes.append(y)\n",
    "\n",
    "    \n",
    "\n",
    "    # # Flip correct and create new dataset with correct and wrong\n",
    "    # correct = torch.cat([x for x, _ in correct])\n",
    "    # wrong = torch.cat([x for x, _ in wrong])\n",
    "    # print(f\"Flipping {len(correct)} correct images\")\n",
    "    # flip = torchvision.transforms.RandomHorizontalFlip(0.5)\n",
    "\n",
    "    # correct = flip(correct)\n",
    "\n",
    "    # train_loader = torch.utils.data.DataLoader(\n",
    "    #     torch.utils.data.TensorDataset(\n",
    "    #         torch.cat([correct, wrong]),\n",
    "    #         torch.cat(classes),\n",
    "    #     ),\n",
    "    #     batch_size=64,\n",
    "    #     shuffle=True,\n",
    "    # )\n",
    "\n",
    "    val_accuracy, val_loss = test(model)\n",
    "    wandb.log({\"val/accuracy\": val_accuracy, \"val/loss\": val_loss})\n",
    "\n",
    "    scheduler.step(loss)"
   ]
  },
  {
   "cell_type": "code",
   "execution_count": null,
   "metadata": {},
   "outputs": [],
   "source": [
    "wandb.finish()"
   ]
  },
  {
   "cell_type": "code",
   "execution_count": null,
   "metadata": {},
   "outputs": [],
   "source": []
  }
 ],
 "metadata": {
  "kernelspec": {
   "display_name": ".venv",
   "language": "python",
   "name": "python3"
  },
  "language_info": {
   "codemirror_mode": {
    "name": "ipython",
    "version": 3
   },
   "file_extension": ".py",
   "mimetype": "text/x-python",
   "name": "python",
   "nbconvert_exporter": "python",
   "pygments_lexer": "ipython3",
   "version": "3.10.14"
  }
 },
 "nbformat": 4,
 "nbformat_minor": 2
}
