{
 "cells": [
  {
   "cell_type": "code",
   "execution_count": 1,
   "metadata": {},
   "outputs": [],
   "source": [
    "import random"
   ]
  },
  {
   "cell_type": "code",
   "execution_count": 40,
   "metadata": {},
   "outputs": [],
   "source": [
    "vocab_open = {\n",
    "    0: \"{\",\n",
    "    1 : \"(\",\n",
    "    2 : \"[\",\n",
    "    3 : \"<\",\n",
    "}\n",
    "vocab_close = {\n",
    "    0: \"}\",\n",
    "    1 : \")\",\n",
    "    2 : \"]\",\n",
    "    3 : \">\",\n",
    "}\n",
    "\n",
    "def generate_balanced_parentheses(n):\n",
    "    openstack = random.choices(list(vocab_open.keys()), k=n)\n",
    "    closestack = list(reversed(openstack))\n",
    "\n",
    "    return \"\".join([vocab_open[x] for x in openstack]) + \"\".join([vocab_close[x] for x in closestack]), openstack + closestack\n",
    "    \n",
    "def validate_sequence(sequence):\n",
    "    # if not even, return false\n",
    "    if len(sequence) % 2 != 0:\n",
    "        return False\n",
    "    \n",
    "    openstack = sequence[:len(sequence)//2]\n",
    "    closestack = sequence[len(sequence)//2:]\n",
    "    \n",
    "    # convert to numbers\n",
    "    openstack = [list(vocab_open.keys())[list(vocab_open.values()).index(x)] for x in openstack]\n",
    "    closestack = [list(vocab_close.keys())[list(vocab_close.values()).index(x)] for x in closestack]\n",
    "\n",
    "    # check if the sequence is valid\n",
    "    if openstack == list(reversed(closestack)):\n",
    "        return True\n",
    "    return False"
   ]
  },
  {
   "cell_type": "code",
   "execution_count": 41,
   "metadata": {},
   "outputs": [],
   "source": [
    "with open(\"balanced_parentheses.txt\", \"w\") as f:\n",
    "    for i in range(1000):\n",
    "        seq_len = random.randint(4, 64)\n",
    "        sequence, _ = generate_balanced_parentheses(seq_len)\n",
    "        f.write(sequence + \"\\n\")"
   ]
  },
  {
   "cell_type": "code",
   "execution_count": 49,
   "metadata": {},
   "outputs": [
    {
     "data": {
      "text/html": [
       "\n",
       "<style>\n",
       "    .green {\n",
       "        color: green;\n",
       "    }\n",
       "    .red {\n",
       "        color: red;\n",
       "    }\n",
       "</style>\n",
       "<span class='red'>(</span><span class='red'>{</span><span class='red'>[</span><span class='red'><</span><span class='red'>></span><span class='red'>]</span><span class='red'>}</span><span class='red'>)</span>"
      ],
      "text/plain": [
       "<IPython.core.display.HTML object>"
      ]
     },
     "metadata": {},
     "output_type": "display_data"
    }
   ],
   "source": [
    "from IPython.display import display, HTML\n",
    "\n",
    "html = \"\"\"\n",
    "<style>\n",
    "    .green {\n",
    "        color: green;\n",
    "    }\n",
    "    .red {\n",
    "        color: red;\n",
    "    }\n",
    "</style>\n",
    "\"\"\"\n",
    "\n",
    "seq = \"({[<>]})\"\n",
    "\n",
    "# color red if invalid, green if valid per letter\n",
    "ending = list(reversed(seq))\n",
    "for i in range(len(seq)):\n",
    "    if seq[i] == ending[i]:\n",
    "        html += f\"<span class='green'>{seq[i]}</span>\"\n",
    "    else:\n",
    "        html += f\"<span class='red'>{seq[i]}</span>\"\n",
    "\n",
    "display(HTML(html))"
   ]
  },
  {
   "cell_type": "code",
   "execution_count": null,
   "metadata": {},
   "outputs": [],
   "source": []
  }
 ],
 "metadata": {
  "kernelspec": {
   "display_name": ".venv",
   "language": "python",
   "name": "python3"
  },
  "language_info": {
   "codemirror_mode": {
    "name": "ipython",
    "version": 3
   },
   "file_extension": ".py",
   "mimetype": "text/x-python",
   "name": "python",
   "nbconvert_exporter": "python",
   "pygments_lexer": "ipython3",
   "version": "3.10.14"
  }
 },
 "nbformat": 4,
 "nbformat_minor": 2
}
