{
 "cells": [
  {
   "cell_type": "code",
   "execution_count": null,
   "metadata": {},
   "outputs": [],
   "source": [
    "with open('data/makemore/baby_names.txt') as f:\n",
    "    names = f.read().split()\n",
    "names[:5]"
   ]
  },
  {
   "cell_type": "code",
   "execution_count": null,
   "metadata": {},
   "outputs": [],
   "source": [
    "longest_name = len(max(names, key=len))"
   ]
  },
  {
   "cell_type": "code",
   "execution_count": null,
   "metadata": {},
   "outputs": [],
   "source": [
    "import torch\n",
    "import torch.nn as nn\n",
    "import torch.nn.functional as F"
   ]
  },
  {
   "cell_type": "code",
   "execution_count": null,
   "metadata": {},
   "outputs": [],
   "source": [
    "vocab = set(''.join(names))\n",
    "vocab = sorted(vocab)\n",
    "vocab = ['<s>', '</s>', '<pad>', '<unk>'] + vocab\n",
    "\n",
    "char2idx = {char: idx for idx, char in enumerate(vocab)}\n",
    "idx2char = {idx: char for idx, char in enumerate(vocab)}\n",
    "\n",
    "print(char2idx)\n",
    "print(idx2char)\n",
    "print(len(vocab))\n",
    "\n",
    "def encode_string(s: str, include_start=True, include_end=True, include_pad=True) -> torch.Tensor:\n",
    "    result = [char2idx.get(char, char2idx['<unk>']) for char in s]\n",
    "\n",
    "    if include_start:\n",
    "        result = [char2idx['<s>']] + result\n",
    "\n",
    "    if include_end:\n",
    "        result = result + [char2idx['</s>']]\n",
    "\n",
    "    result = torch.Tensor(result).long()\n",
    "\n",
    "    if include_pad:\n",
    "        result = F.pad(result, (0, longest_name - len(s)), value=char2idx['<pad>'])\n",
    "\n",
    "    return result\n",
    "\n",
    "def decode_string(indices: torch.Tensor) -> str:\n",
    "    indices = indices.tolist()\n",
    "    return ''.join(idx2char[idx] for idx in indices).replace('<pad>', '').replace('<s>', '').replace('</s>', '')\n",
    "\n",
    "def encode_batch(strings: list[str]) -> torch.Tensor:\n",
    "    return torch.stack([encode_string(s) for s in strings])\n",
    "\n",
    "def decode_batch(batch):\n",
    "    return [decode_string(indices) for indices in batch]\n",
    "\n",
    "encoded_corpus = encode_batch(names)\n",
    "encoded_corpus.shape"
   ]
  },
  {
   "cell_type": "code",
   "execution_count": null,
   "metadata": {},
   "outputs": [],
   "source": [
    "train_data = encoded_corpus[:int(0.8 * len(encoded_corpus))]\n",
    "test_data = encoded_corpus[int(0.8 * len(encoded_corpus)):]\n",
    "\n",
    "train_loader = torch.utils.data.DataLoader(train_data, batch_size=256, shuffle=True, num_workers=2, pin_memory=True, persistent_workers=True)\n",
    "test_loader = torch.utils.data.DataLoader(test_data, batch_size=256, shuffle=False, num_workers=2, pin_memory=True, persistent_workers=True)"
   ]
  },
  {
   "cell_type": "code",
   "execution_count": null,
   "metadata": {},
   "outputs": [],
   "source": [
    "device = \"mps\""
   ]
  },
  {
   "cell_type": "code",
   "execution_count": null,
   "metadata": {},
   "outputs": [],
   "source": [
    "class RNN(nn.Module):\n",
    "    def __init__(\n",
    "        self,\n",
    "        vocab_size: int,\n",
    "        embedding_dim: int,\n",
    "        hidden_dim: int,\n",
    "        num_layers: int,\n",
    "        dropout: float,\n",
    "        nonlinearity: str = \"relu\",\n",
    "    ):\n",
    "        super(RNN, self).__init__()\n",
    "        self.embedding = nn.Embedding(vocab_size, embedding_dim)\n",
    "        self.rnn = nn.RNN(\n",
    "            embedding_dim,\n",
    "            hidden_dim,\n",
    "            num_layers=num_layers,\n",
    "            dropout=dropout,\n",
    "            nonlinearity=nonlinearity,\n",
    "            batch_first=True,\n",
    "        )\n",
    "        self.linear = nn.Linear(hidden_dim, vocab_size)\n",
    "\n",
    "    def forward(self, x, hidden=None):\n",
    "        x = self.embedding(x)\n",
    "        x, hidden = self.rnn(x, hidden)\n",
    "        x = self.linear(x)\n",
    "        return x, hidden\n",
    "\n",
    "    def generate(self, context: torch.Tensor, hidden=None, length=100, temperature=1.0):\n",
    "        self.eval()\n",
    "        for _ in range(length):\n",
    "            x, hidden = self(context, hidden)\n",
    "            x = x[:, -1, :] / temperature\n",
    "            x = torch.softmax(x, dim=-1)\n",
    "            x = torch.multinomial(x, num_samples=1)\n",
    "            context = torch.cat([context, x], dim=-1)\n",
    "        self.train()\n",
    "        return context\n",
    "    \n",
    "\n",
    "model = RNN(\n",
    "    vocab_size=256,\n",
    "    embedding_dim=128,\n",
    "    hidden_dim=64,\n",
    "    num_layers=4,\n",
    "    dropout=0.,\n",
    ").to(device)\n",
    "\n",
    "print(f\"Model has {sum(p.numel() for p in model.parameters()):,} parameters\")\n",
    "\n",
    "criterion = nn.CrossEntropyLoss()\n",
    "optimizer = torch.optim.AdamW(model.parameters(), lr=1e-3)\n",
    "scheduler = torch.optim.lr_scheduler.StepLR(optimizer, step_size=1, gamma=0.9)"
   ]
  },
  {
   "cell_type": "code",
   "execution_count": null,
   "metadata": {},
   "outputs": [],
   "source": [
    "import tqdm.notebook as tqdm"
   ]
  },
  {
   "cell_type": "code",
   "execution_count": null,
   "metadata": {},
   "outputs": [],
   "source": [
    "@torch.no_grad()\n",
    "def evaluate(model, loader):\n",
    "    model.eval()\n",
    "    total_loss = 0\n",
    "    for batch in loader:\n",
    "        batch = batch.to(device)\n",
    "        output, _ = model(batch)\n",
    "        loss = criterion(output[:, :-1].reshape(-1, 256), batch[:, 1:].reshape(-1))\n",
    "        total_loss += loss.item()\n",
    "    return total_loss / len(loader)\n",
    "\n",
    "evaluate(model, test_loader)"
   ]
  },
  {
   "cell_type": "code",
   "execution_count": null,
   "metadata": {},
   "outputs": [],
   "source": [
    "from ema_pytorch import EMA\n",
    "ema = EMA(model, beta=0.99)"
   ]
  },
  {
   "cell_type": "code",
   "execution_count": null,
   "metadata": {},
   "outputs": [],
   "source": [
    "scheduler.step()\n",
    "scheduler.get_last_lr()"
   ]
  },
  {
   "cell_type": "code",
   "execution_count": null,
   "metadata": {},
   "outputs": [],
   "source": [
    "# Training loop\n",
    "pbar = tqdm.tqdm(range(20))\n",
    "for epoch in pbar:\n",
    "    test_loss = evaluate(model, test_loader)\n",
    "    model.train()\n",
    "    for seq in tqdm.tqdm(train_loader, leave=True, desc=f\"Batches for epoch {epoch}\"):\n",
    "        seq = seq.to(device)\n",
    "        x = seq[:, :-1]\n",
    "        y = seq[:, 1:]\n",
    "\n",
    "        optimizer.zero_grad()\n",
    "        output, _ = model(x)\n",
    "        loss = criterion(output.reshape(-1, 256), y.reshape(-1))\n",
    "        loss.backward()\n",
    "        optimizer.step()\n",
    "\n",
    "        ema.update()\n",
    "        \n",
    "        pbar.set_description(f\"Epoch {epoch}\")\n",
    "        pbar.set_postfix_str(f\"Loss: {loss.item():.4f}, Test Loss: {test_loss:.4f}\")\n",
    "        \n",
    "    scheduler.step()"
   ]
  },
  {
   "cell_type": "code",
   "execution_count": null,
   "metadata": {},
   "outputs": [],
   "source": [
    "# Generate a new name\n",
    "context = encode_string('', include_end=False, include_pad=False).repeat(5, 1).to(device)\n",
    "\n",
    "decode_batch(model.generate(context, length=10))\n"
   ]
  },
  {
   "cell_type": "code",
   "execution_count": null,
   "metadata": {},
   "outputs": [],
   "source": [
    "# Save Model\n",
    "torch.save(model.state_dict(), 'projects/3-makemore/model.pt')"
   ]
  },
  {
   "cell_type": "code",
   "execution_count": null,
   "metadata": {},
   "outputs": [],
   "source": []
  }
 ],
 "metadata": {
  "kernelspec": {
   "display_name": "cloudspace",
   "language": "python",
   "name": "python3"
  },
  "language_info": {
   "codemirror_mode": {
    "name": "ipython",
    "version": 3
   },
   "file_extension": ".py",
   "mimetype": "text/x-python",
   "name": "python",
   "nbconvert_exporter": "python",
   "pygments_lexer": "ipython3",
   "version": "3.10.14"
  }
 },
 "nbformat": 4,
 "nbformat_minor": 2
}
