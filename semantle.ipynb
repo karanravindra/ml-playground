{
 "cells": [
  {
   "cell_type": "code",
   "execution_count": 7,
   "metadata": {},
   "outputs": [],
   "source": [
    "import ollama\n",
    "import torch"
   ]
  },
  {
   "cell_type": "code",
   "execution_count": 43,
   "metadata": {},
   "outputs": [],
   "source": [
    "def embed(text: str) -> torch.Tensor:\n",
    "    return torch.as_tensor(ollama.embeddings(model='snowflake-arctic-embed:22m', prompt=text)['embedding']).unsqueeze(0)\n",
    "\n",
    "monarch = embed('monarch')\n",
    "queen = embed('queen')\n",
    "woman = embed('female')"
   ]
  },
  {
   "cell_type": "code",
   "execution_count": 44,
   "metadata": {},
   "outputs": [
    {
     "name": "stdout",
     "output_type": "stream",
     "text": [
      "tensor([0.9102])\n",
      "tensor([0.9187])\n"
     ]
    }
   ],
   "source": [
    "print(torch.nn.functional.cosine_similarity(monarch, queen))\n",
    "print(torch.nn.functional.cosine_similarity(monarch + woman, queen))"
   ]
  },
  {
   "cell_type": "code",
   "execution_count": null,
   "metadata": {},
   "outputs": [],
   "source": []
  }
 ],
 "metadata": {
  "kernelspec": {
   "display_name": ".venv",
   "language": "python",
   "name": "python3"
  },
  "language_info": {
   "codemirror_mode": {
    "name": "ipython",
    "version": 3
   },
   "file_extension": ".py",
   "mimetype": "text/x-python",
   "name": "python",
   "nbconvert_exporter": "python",
   "pygments_lexer": "ipython3",
   "version": "3.10.14"
  }
 },
 "nbformat": 4,
 "nbformat_minor": 2
}
