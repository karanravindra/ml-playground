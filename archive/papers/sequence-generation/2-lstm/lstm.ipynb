{
 "cells": [
  {
   "cell_type": "code",
   "execution_count": 1,
   "metadata": {},
   "outputs": [],
   "source": [
    "device=\"mps\"\n"
   ]
  },
  {
   "cell_type": "code",
   "execution_count": 2,
   "metadata": {},
   "outputs": [],
   "source": [
    "from typing import List\n",
    "import torch\n",
    "import tqdm.notebook as tqdm"
   ]
  },
  {
   "cell_type": "code",
   "execution_count": 3,
   "metadata": {},
   "outputs": [],
   "source": [
    "with open(\"data/tinystories/the_complete_works_of_william_shakespeare.txt\") as f:\n",
    "    corpus = f.read()"
   ]
  },
  {
   "cell_type": "code",
   "execution_count": 4,
   "metadata": {},
   "outputs": [
    {
     "name": "stdout",
     "output_type": "stream",
     "text": [
      "Training Size: 4,302,929 chars\n",
      "Test Size: 1,075,733 chars\n"
     ]
    }
   ],
   "source": [
    "split = 0.8\n",
    "train_text = corpus[:int(len(corpus)*split)]\n",
    "test_text = corpus[int(len(corpus)*split):]\n",
    "\n",
    "print(f\"Training Size: {len(train_text):,} chars\")\n",
    "print(f\"Test Size: {len(test_text):,} chars\")"
   ]
  },
  {
   "cell_type": "code",
   "execution_count": 5,
   "metadata": {},
   "outputs": [
    {
     "name": "stdout",
     "output_type": "stream",
     "text": [
      "tensor([[104, 101, 108, 108, 111],\n",
      "        [119, 111, 114, 108, 100]])\n",
      "['hello', 'world']\n",
      "tensor([[105, 115,  32, 110, 101],\n",
      "        [114, 116, 115,  32, 111]])\n"
     ]
    }
   ],
   "source": [
    "def encode(list: List[str]) -> torch.Tensor:\n",
    "    result = []\n",
    "    for string in list:\n",
    "        result.append([ord(c) for c in string])\n",
    "    return torch.tensor(result)\n",
    "\n",
    "def decode(arr: torch.Tensor) -> str:\n",
    "    arr = arr.tolist()\n",
    "    result = []\n",
    "    for string in arr:\n",
    "        result.append(\"\".join([chr(c) for c in string]))\n",
    "    return result\n",
    "\n",
    "def get_batch(batch_size, seq_length, use_train=True):\n",
    "    if use_train:\n",
    "        data = train_text\n",
    "    else:\n",
    "        data = test_text\n",
    "    \n",
    "    start_idx = torch.randint(0, len(data) - seq_length, (batch_size,))\n",
    "\n",
    "    batch = []\n",
    "    for i in start_idx:\n",
    "        batch.append(encode([data[i:i+seq_length]]))\n",
    "        \n",
    "    return torch.stack(batch).view(batch_size, seq_length)\n",
    "    \n",
    "\n",
    "print(encode([\"hello\", \"world\"]))\n",
    "print(decode(encode([\"hello\", \"world\"])))\n",
    "print(get_batch(2, 5, use_train=False))"
   ]
  },
  {
   "cell_type": "code",
   "execution_count": 6,
   "metadata": {},
   "outputs": [
    {
     "name": "stdout",
     "output_type": "stream",
     "text": [
      "Model uses 545,024 parameters\n",
      "Model uses 545,024 trainable parameters\n"
     ]
    }
   ],
   "source": [
    "import torch\n",
    "import torch.nn as nn\n",
    "\n",
    "class Model(nn.Module):\n",
    "    def __init__(self, vocab_size, embed_dim, hidden_dim, num_layers):\n",
    "        super(Model, self).__init__()\n",
    "        self.hidden_dim = hidden_dim\n",
    "        self.num_layers = num_layers\n",
    "        \n",
    "        # Embedding layer\n",
    "        self.embedding = nn.Embedding(vocab_size, embed_dim)\n",
    "        \n",
    "        # LSTM layer\n",
    "        self.lstm = nn.LSTM(embed_dim, hidden_dim, num_layers, batch_first=True)\n",
    "        \n",
    "        # Fully connected layer to predict each character\n",
    "        self.fc = nn.Linear(hidden_dim, vocab_size)\n",
    "\n",
    "    def forward(self, x, hidden=None):\n",
    "        # Embedding\n",
    "        x = self.embedding(x)\n",
    "        \n",
    "        # Initialize hidden state and cell state if not provided\n",
    "        if hidden is None:\n",
    "            h0 = torch.zeros(self.num_layers, x.size(0), self.hidden_dim, device=x.device)\n",
    "            c0 = torch.zeros(self.num_layers, x.size(0), self.hidden_dim, device=x.device)\n",
    "            hidden = (h0, c0)\n",
    "        \n",
    "        # LSTM output along with new hidden state\n",
    "        out, hidden = self.lstm(x, hidden)\n",
    "        \n",
    "        # Reshape output for the fully connected layer\n",
    "        out = out.reshape(-1, self.hidden_dim)\n",
    "        out = self.fc(out)\n",
    "        return out, hidden\n",
    "\n",
    "# Create an instance of the updated model\n",
    "vocab_size = 256  # number of unique characters\n",
    "embed_dim = 64    # embedding dimension\n",
    "hidden_dim = 128  # LSTM hidden dimensions\n",
    "num_layers = 4    # number of LSTM layers\n",
    "\n",
    "model = Model(vocab_size, embed_dim, hidden_dim, num_layers).to(device)\n",
    "print(f\"Model uses {sum(p.numel() for p in model.parameters()):,} parameters\")\n",
    "print(f\"Model uses {sum(p.numel() for p in model.parameters() if p.requires_grad):,} trainable parameters\")\n"
   ]
  },
  {
   "cell_type": "code",
   "execution_count": 7,
   "metadata": {},
   "outputs": [],
   "source": [
    "criterion = nn.CrossEntropyLoss()\n",
    "optimizer = torch.optim.AdamW(model.parameters(), lr=0.001)\n",
    "# scheduler = torch.optim.lr_scheduler.StepLR(optimizer, step_size=1000, gamma=0.9)\n"
   ]
  },
  {
   "cell_type": "code",
   "execution_count": 8,
   "metadata": {},
   "outputs": [
    {
     "data": {
      "text/plain": [
       "5.5366716384887695"
      ]
     },
     "execution_count": 8,
     "metadata": {},
     "output_type": "execute_result"
    }
   ],
   "source": [
    "# Validation\n",
    "@torch.no_grad()\n",
    "def evaluate():\n",
    "    model.eval()\n",
    "    batch = get_batch(128, 256, use_train=False).to(device)\n",
    "    x = batch[:,:-1]\n",
    "    y = batch[:,1:]\n",
    "\n",
    "    output, _ = model(x)\n",
    "    loss = criterion(output, y.flatten())\n",
    "    return loss.item()\n",
    "\n",
    "evaluate()"
   ]
  },
  {
   "cell_type": "code",
   "execution_count": 9,
   "metadata": {},
   "outputs": [
    {
     "data": {
      "application/vnd.jupyter.widget-view+json": {
       "model_id": "124fcd4b96de4bffb6fff3fd575d8e99",
       "version_major": 2,
       "version_minor": 0
      },
      "text/plain": [
       "  0%|          | 0/10000 [00:00<?, ?it/s]"
      ]
     },
     "metadata": {},
     "output_type": "display_data"
    },
    {
     "ename": "KeyboardInterrupt",
     "evalue": "",
     "output_type": "error",
     "traceback": [
      "\u001b[0;31m---------------------------------------------------------------------------\u001b[0m",
      "\u001b[0;31mKeyboardInterrupt\u001b[0m                         Traceback (most recent call last)",
      "Cell \u001b[0;32mIn[9], line 23\u001b[0m\n\u001b[1;32m     20\u001b[0m \u001b[38;5;28;01mif\u001b[39;00m step \u001b[38;5;241m%\u001b[39m \u001b[38;5;241m100\u001b[39m \u001b[38;5;241m==\u001b[39m \u001b[38;5;241m0\u001b[39m:\n\u001b[1;32m     21\u001b[0m     val_loss \u001b[38;5;241m=\u001b[39m evaluate()\n\u001b[0;32m---> 23\u001b[0m pbar\u001b[38;5;241m.\u001b[39mset_postfix_str(\u001b[38;5;124mf\u001b[39m\u001b[38;5;124m\"\u001b[39m\u001b[38;5;124mLoss: \u001b[39m\u001b[38;5;132;01m{\u001b[39;00m\u001b[43mloss\u001b[49m\u001b[38;5;241;43m.\u001b[39;49m\u001b[43mitem\u001b[49m\u001b[43m(\u001b[49m\u001b[43m)\u001b[49m\u001b[38;5;132;01m:\u001b[39;00m\u001b[38;5;124m.4f\u001b[39m\u001b[38;5;132;01m}\u001b[39;00m\u001b[38;5;124m, Val Loss: \u001b[39m\u001b[38;5;132;01m{\u001b[39;00mval_loss\u001b[38;5;132;01m:\u001b[39;00m\u001b[38;5;124m.4f\u001b[39m\u001b[38;5;132;01m}\u001b[39;00m\u001b[38;5;124m\"\u001b[39m)\n",
      "\u001b[0;31mKeyboardInterrupt\u001b[0m: "
     ]
    }
   ],
   "source": [
    "pbar = tqdm.tnrange(10_000)\n",
    "for step in pbar:\n",
    "    model.train()\n",
    "    # Encode the sequence\n",
    "    batch = get_batch(64, 128).to(device)\n",
    "    x = batch[:,:-1]\n",
    "    y = batch[:,1:]\n",
    "        \n",
    "    # Forward pass\n",
    "    output, _ = model(x)\n",
    "    loss = criterion(output, y.flatten())\n",
    "        \n",
    "    # Backward pass\n",
    "    optimizer.zero_grad()\n",
    "    loss.backward()\n",
    "    optimizer.step()\n",
    "\n",
    "    # scheduler.step()\n",
    "\n",
    "    if step % 100 == 0:\n",
    "        val_loss = evaluate()\n",
    "        \n",
    "    pbar.set_postfix_str(f\"Loss: {loss.item():.4f}, Val Loss: {val_loss:.4f}\")"
   ]
  },
  {
   "cell_type": "code",
   "execution_count": null,
   "metadata": {},
   "outputs": [],
   "source": [
    "import torch.nn.functional as F\n",
    "\n",
    "def temperature_sampling(logits, temperature=0.8):\n",
    "    # Scale logits by temperature\n",
    "    scaled_logits = logits / temperature\n",
    "    # Convert logits to probabilities\n",
    "    probs = F.softmax(scaled_logits, dim=-1)\n",
    "    # Sample from the probabilities\n",
    "    return torch.multinomial(probs, num_samples=1)\n",
    "\n",
    "# Validation Loop with Temperature Sampling\n",
    "model.eval()\n",
    "initial_input = encode(['First Citizen:']).to(device)\n",
    "generated_text = []\n",
    "hidden = None  # Hidden state initialization\n",
    "\n",
    "with torch.no_grad():\n",
    "    for _ in range(512):  # Generate 512 characters\n",
    "        output, hidden = model(initial_input, hidden)  # Ensure model accepts and returns hidden state\n",
    "        predicted = temperature_sampling(output[-1], temperature=0.9)\n",
    "        generated_text.append(predicted)\n",
    "        initial_input = predicted.unsqueeze(0)\n",
    "\n",
    "print('First Citizen:'+decode(torch.stack(generated_text).view(1, -1))[0])\n"
   ]
  },
  {
   "cell_type": "code",
   "execution_count": null,
   "metadata": {},
   "outputs": [],
   "source": []
  }
 ],
 "metadata": {
  "kernelspec": {
   "display_name": "cloudspace",
   "language": "python",
   "name": "python3"
  },
  "language_info": {
   "codemirror_mode": {
    "name": "ipython",
    "version": 3
   },
   "file_extension": ".py",
   "mimetype": "text/x-python",
   "name": "python",
   "nbconvert_exporter": "python",
   "pygments_lexer": "ipython3",
   "version": "3.10.14"
  }
 },
 "nbformat": 4,
 "nbformat_minor": 2
}
