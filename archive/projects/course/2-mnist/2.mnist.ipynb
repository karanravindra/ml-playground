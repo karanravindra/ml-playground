{
 "cells": [
  {
   "cell_type": "markdown",
   "metadata": {},
   "source": [
    "# Classify Digits with the MNIST Dataset"
   ]
  },
  {
   "cell_type": "markdown",
   "metadata": {},
   "source": [
    "## Overview"
   ]
  },
  {
   "cell_type": "markdown",
   "metadata": {},
   "source": [
    "## Models"
   ]
  },
  {
   "cell_type": "code",
   "execution_count": null,
   "metadata": {},
   "outputs": [],
   "source": [
    "import torch\n",
    "import torch.nn as nn\n",
    "import tqdm as tqdm # fancy progress bars\n",
    "import matplotlib.pyplot as plt\n",
    "import torchvision # for loading MNIST dataset and visualizing images\n"
   ]
  },
  {
   "cell_type": "code",
   "execution_count": null,
   "metadata": {},
   "outputs": [],
   "source": [
    "import onnx\n",
    "\n",
    "def save_onnx(model, filename):\n",
    "    base_path = \"projects/blog/2-mnist/models/\"\n",
    "    dummy_input = torch.randn(1, 1, 28, 28)\n",
    "    torch.onnx.export(model, dummy_input, base_path + filename, verbose=True, input_names=['images'], output_names=['classes'], export_params=True)\n"
   ]
  },
  {
   "cell_type": "code",
   "execution_count": null,
   "metadata": {},
   "outputs": [],
   "source": [
    "train_dataset = torchvision.datasets.MNIST(root='./data', train=True, download=True, transform=torchvision.transforms.ToTensor())\n",
    "test_dataset = torchvision.datasets.MNIST(root='./data', train=False, download=True, transform=torchvision.transforms.ToTensor())\n",
    "\n",
    "train_loader = torch.utils.data.DataLoader(train_dataset, batch_size=256, shuffle=True)\n",
    "test_loader = torch.utils.data.DataLoader(test_dataset, batch_size=256, shuffle=False)\n"
   ]
  },
  {
   "cell_type": "code",
   "execution_count": null,
   "metadata": {},
   "outputs": [],
   "source": [
    "print(\"Train dataset size: \", len(train_dataset))\n",
    "print(\"Test dataset size: \", len(test_dataset))\n"
   ]
  },
  {
   "cell_type": "code",
   "execution_count": null,
   "metadata": {},
   "outputs": [],
   "source": [
    "# save the first image in the dataset\n",
    "image, label = train_dataset[0]\n",
    "image = image\n",
    "print(\"Image shape: \", image.shape)\n",
    "\n",
    "torchvision.utils.save_image(image, \"projects/blog/2-mnist/sample_image.png\")\n"
   ]
  },
  {
   "cell_type": "code",
   "execution_count": null,
   "metadata": {},
   "outputs": [],
   "source": [
    "def train(\n",
    "    model,\n",
    "    train_loader,\n",
    "    test_loader,\n",
    "    num_epochs=10,\n",
    "    lr=0.1,\n",
    "):\n",
    "    # Loss function and optimizer\n",
    "    criterion = nn.CrossEntropyLoss()\n",
    "    optimizer = torch.optim.SGD(model.parameters(), lr=lr)\n",
    "    \n",
    "    # Statistics dictionary\n",
    "    stats = {\"train_losses\": [0], \"test_losses\": [0], \"global_step\": 0}\n",
    "\n",
    "    # Training loop\n",
    "    with tqdm.trange(\n",
    "        num_epochs, desc=\"Training\", unit=\"epoch\"\n",
    "    ) as epochs:  # Adjust the number of epochs\n",
    "        for epoch in epochs:\n",
    "            model.train()\n",
    "            for images, labels in train_loader:\n",
    "                images, labels = images.to(device), labels.to(device)\n",
    "\n",
    "                outputs = model(images)\n",
    "\n",
    "                loss = criterion(outputs, labels)\n",
    "\n",
    "                optimizer.zero_grad()\n",
    "                loss.backward()\n",
    "                optimizer.step()\n",
    "\n",
    "                stats[\"train_losses\"].append(loss.item())\n",
    "                stats[\"global_step\"] += 1\n",
    "\n",
    "                epochs.set_postfix_str(f\"train loss: {stats['train_losses'][-1]:.6f}, test loss: {stats['test_losses'][-1]:.6f}\")\n",
    "\n",
    "            model.eval()\n",
    "            test_loss = 0\n",
    "            with torch.no_grad():\n",
    "                for images, labels in test_loader:\n",
    "                    images, labels = images.to(device), labels.to(device)\n",
    "\n",
    "                    outputs = model(images)\n",
    "\n",
    "                    loss = criterion(outputs, labels)\n",
    "\n",
    "                    test_loss += loss.item()\n",
    "\n",
    "            stats[\"test_losses\"].append(test_loss / len(test_loader))\n",
    "\n",
    "    return stats\n",
    "\n",
    "def test(model, test_loader):\n",
    "    model.eval()\n",
    "    correct = 0\n",
    "    total = 0\n",
    "    with torch.no_grad():\n",
    "        for images, labels in test_loader:\n",
    "            images, labels = images.to(device), labels.to(device)\n",
    "\n",
    "            outputs = model(images)\n",
    "\n",
    "            _, predicted = torch.max(outputs, 1)\n",
    "\n",
    "            total += labels.size(0)\n",
    "            correct += (predicted == labels).sum().item()\n",
    "\n",
    "    return correct / total\n",
    "\n",
    "def plot_stats(stats):\n",
    "    # Plot train and test losses\n",
    "    plt.figure(figsize=(20, 4))\n",
    "    plt.plot(stats[\"train_losses\"], label=\"Train Loss\")\n",
    "    plt.plot(\n",
    "        range(\n",
    "            len(train_loader),\n",
    "            len(stats[\"train_losses\"]) + len(train_loader),\n",
    "            len(train_loader),\n",
    "        ),\n",
    "        stats[\"test_losses\"],\n",
    "        label=\"Test Loss\",\n",
    "        c=\"r\",\n",
    "    )\n",
    "    plt.title(\"Train and Test Loss\")\n",
    "    plt.xlabel(\"Iterations\")\n",
    "    plt.ylabel(\"Loss\")\n",
    "    plt.yscale(\"log\")\n",
    "    plt.legend()\n",
    "    plt.grid(True)\n",
    "    plt.show()\n"
   ]
  },
  {
   "cell_type": "markdown",
   "metadata": {},
   "source": [
    "### Feed Forward Neural Network"
   ]
  },
  {
   "cell_type": "markdown",
   "metadata": {},
   "source": [
    "#### Baseline Linear Classifier"
   ]
  },
  {
   "cell_type": "code",
   "execution_count": null,
   "metadata": {},
   "outputs": [],
   "source": [
    "if torch.cuda.is_available():\n",
    "    device = torch.device('cuda')\n",
    "elif torch.backends.mps.is_available():\n",
    "    device = torch.device('mps')\n",
    "else:\n",
    "    device = torch.device('cpu')\n",
    "\n",
    "print(f\"Using device: {device}\")\n"
   ]
  },
  {
   "cell_type": "code",
   "execution_count": null,
   "metadata": {},
   "outputs": [],
   "source": [
    "torch.manual_seed(0) # for reproducibility if you care about that\n",
    "\n",
    "# Define the model\n",
    "model = nn.Sequential(\n",
    "    nn.Flatten(), nn.Linear(28 * 28, 10)  # MNIST images are 28x28 and have 10 classes\n",
    ").to(device)\n",
    "\n",
    "stats = train(model, train_loader, test_loader)\n",
    "\n",
    "plot_stats(stats)\n",
    "\n",
    "print(f\"Accuracy: {test(model, test_loader):.4f}\")\n",
    "print(f\"Model parameters: {sum(p.numel() for p in model.parameters()):,}\")\n",
    "print(f\"Model size: {sum(p.numel() * p.element_size() for p in model.parameters()):,} bytes\")\n",
    "\n",
    "save_onnx(model, \"baseline-linear-classifer.onnx\")\n"
   ]
  },
  {
   "cell_type": "markdown",
   "metadata": {},
   "source": [
    "#### One-Hidden-Layer Fully Connected Multilayer NN"
   ]
  },
  {
   "cell_type": "code",
   "execution_count": null,
   "metadata": {},
   "outputs": [],
   "source": [
    "torch.manual_seed(0) # for reproducibility if you care about that\n",
    "\n",
    "# Define the model\n",
    "model = nn.Sequential(\n",
    "    nn.Flatten(),\n",
    "    nn.Linear(28*28, 256),\n",
    "    nn.Tanh(),\n",
    "    nn.Linear(256, 10),\n",
    ").to(device)\n",
    "\n",
    "stats = train(model, train_loader, test_loader)\n",
    "\n",
    "plot_stats(stats)\n",
    "\n",
    "print(f\"Accuracy: {test(model, test_loader):.4f}\")\n",
    "print(f\"Model parameters: {sum(p.numel() for p in model.parameters()):,}\")\n",
    "print(f\"Model size: {sum(p.numel() * p.element_size() for p in model.parameters()):,} bytes\")\n",
    "\n",
    "save_onnx(model, \"one-hidden-layer.onnx\")\n"
   ]
  },
  {
   "cell_type": "markdown",
   "metadata": {},
   "source": [
    "#### Two-Hidden-Layer Fully Connected Multilayer NN"
   ]
  },
  {
   "cell_type": "code",
   "execution_count": null,
   "metadata": {},
   "outputs": [],
   "source": [
    "torch.manual_seed(0) # for reproducibility if you care about that\n",
    "\n",
    "# Define the model\n",
    "model = nn.Sequential(\n",
    "    nn.Flatten(),\n",
    "    nn.Linear(28 * 28, 256),\n",
    "    nn.Tanh(),\n",
    "    nn.Linear(256, 128),\n",
    "    nn.Tanh(),\n",
    "    nn.Linear(128, 10),\n",
    ").to(device)\n",
    "\n",
    "stats = train(model, train_loader, test_loader)\n",
    "\n",
    "plot_stats(stats)\n",
    "\n",
    "print(f\"Accuracy: {test(model, test_loader):.4f}\")\n",
    "print(f\"Model parameters: {sum(p.numel() for p in model.parameters()):,}\")\n",
    "print(f\"Model size: {sum(p.numel() * p.element_size() for p in model.parameters()):,} bytes\")\n",
    "\n",
    "save_onnx(model, \"two-hidden-layer.onnx\")\n"
   ]
  },
  {
   "cell_type": "markdown",
   "metadata": {},
   "source": [
    "### Convolutional Neural Network"
   ]
  },
  {
   "cell_type": "markdown",
   "metadata": {},
   "source": [
    "#### LeNet-1"
   ]
  },
  {
   "cell_type": "code",
   "execution_count": null,
   "metadata": {},
   "outputs": [],
   "source": [
    "torch.manual_seed(0) # for reproducibility if you care about that\n",
    "\n",
    "# Define the model\n",
    "model = nn.Sequential(\n",
    "    nn.Conv2d(1, 4, kernel_size=5),\n",
    "    nn.Tanh(),\n",
    "    nn.AvgPool2d(2),\n",
    "    nn.Conv2d(4, 12, kernel_size=5),\n",
    "    nn.Tanh(),\n",
    "    nn.AvgPool2d(2),\n",
    "    nn.Flatten(),\n",
    "    nn.Linear(192, 10),\n",
    ").to(device)\n",
    "\n",
    "stats = train(model, train_loader, test_loader)\n",
    "\n",
    "plot_stats(stats)\n",
    "\n",
    "print(f\"Accuracy: {test(model, test_loader):.4f}\")\n",
    "print(f\"Model parameters: {sum(p.numel() for p in model.parameters()):,}\")\n",
    "print(f\"Model size: {sum(p.numel() * p.element_size() for p in model.parameters()):,} bytes\")\n",
    "\n",
    "save_onnx(model, \"lenet-1.onnx\")\n"
   ]
  },
  {
   "cell_type": "markdown",
   "metadata": {},
   "source": [
    "#### LeNet-4"
   ]
  },
  {
   "cell_type": "code",
   "execution_count": null,
   "metadata": {},
   "outputs": [],
   "source": [
    "torch.manual_seed(0) # for reproducibility if you care about that\n",
    "\n",
    "# Define the model\n",
    "model = nn.Sequential(\n",
    "    nn.Conv2d(1, 4, kernel_size=5),\n",
    "    nn.Tanh(),\n",
    "    nn.AvgPool2d(2),\n",
    "    nn.Conv2d(4, 16, kernel_size=5),\n",
    "    nn.Tanh(),\n",
    "    nn.AvgPool2d(2),\n",
    "    nn.Flatten(),\n",
    "    nn.Linear(256, 120),\n",
    "    nn.Tanh(),\n",
    "    nn.Linear(120, 10),\n",
    ").to(device)\n",
    "\n",
    "stats = train(model, train_loader, test_loader)\n",
    "\n",
    "plot_stats(stats)\n",
    "\n",
    "print(f\"Accuracy: {test(model, test_loader):.4f}\")\n",
    "print(f\"Model parameters: {sum(p.numel() for p in model.parameters()):,}\")\n",
    "print(f\"Model size: {sum(p.numel() * p.element_size() for p in model.parameters()):,} bytes\")\n",
    "\n",
    "save_onnx(model, \"lenet-4.onnx\")\n"
   ]
  },
  {
   "cell_type": "markdown",
   "metadata": {},
   "source": [
    "#### LeNet-5"
   ]
  },
  {
   "cell_type": "code",
   "execution_count": null,
   "metadata": {},
   "outputs": [],
   "source": [
    "torch.manual_seed(0) # for reproducibility if you care about that\n",
    "\n",
    "# Define the model\n",
    "model = nn.Sequential(\n",
    "    nn.Conv2d(1, 6, kernel_size=5),\n",
    "    nn.Tanh(),\n",
    "    nn.AvgPool2d(2),\n",
    "    nn.Conv2d(6, 16, kernel_size=5),\n",
    "    nn.Tanh(),\n",
    "    nn.AvgPool2d(2),\n",
    "    nn.Flatten(),\n",
    "    nn.Linear(256, 120),\n",
    "    nn.Tanh(),\n",
    "    nn.Linear(120, 84),\n",
    "    nn.Tanh(),\n",
    "    nn.Linear(84, 10),\n",
    ").to(device)\n",
    "\n",
    "stats = train(model, train_loader, test_loader)\n",
    "\n",
    "plot_stats(stats)\n",
    "\n",
    "print(f\"Accuracy: {test(model, test_loader):.4f}\")\n",
    "print(f\"Model parameters: {sum(p.numel() for p in model.parameters()):,}\")\n",
    "print(f\"Model size: {sum(p.numel() * p.element_size() for p in model.parameters()):,} bytes\")\n",
    "\n",
    "save_onnx(model, \"lenet-5.onnx\")\n"
   ]
  },
  {
   "cell_type": "markdown",
   "metadata": {},
   "source": [
    "##### Optimized Training"
   ]
  },
  {
   "cell_type": "code",
   "execution_count": null,
   "metadata": {},
   "outputs": [],
   "source": [
    "def train(\n",
    "    model,\n",
    "    train_loader,\n",
    "    test_loader,\n",
    "    num_epochs=10,\n",
    "    lr=0.1,\n",
    "    momentum=0.9, # Add 0.9 momentum\n",
    "):\n",
    "    # Loss function and optimizer\n",
    "    criterion = nn.CrossEntropyLoss()\n",
    "    optimizer = torch.optim.SGD(model.parameters(), lr=lr, momentum=momentum) # Add momentum\n",
    "    \n",
    "    # Statistics dictionary\n",
    "    stats = {\"train_losses\": [], \"test_losses\": [], \"global_step\": 0}\n",
    "\n",
    "    # Training loop\n",
    "    with tqdm.trange(\n",
    "        num_epochs, desc=\"epochs\", unit=\"epoch\"\n",
    "    ) as epochs:  # Adjust the number of epochs\n",
    "        for epoch in epochs:\n",
    "            model.train()\n",
    "            for images, labels in train_loader:\n",
    "                images, labels = images.to(device), labels.to(device)\n",
    "\n",
    "                outputs = model(images)\n",
    "\n",
    "                loss = criterion(outputs, labels)\n",
    "\n",
    "                optimizer.zero_grad()\n",
    "                loss.backward()\n",
    "                optimizer.step()\n",
    "\n",
    "                stats[\"train_losses\"].append(loss.item())\n",
    "                stats[\"global_step\"] += 1\n",
    "\n",
    "                epochs.set_postfix_str(f\"loss: {loss.item():.4f}\")\n",
    "\n",
    "            model.eval()\n",
    "            test_loss = 0\n",
    "            with torch.no_grad():\n",
    "                for images, labels in test_loader:\n",
    "                    images, labels = images.to(device), labels.to(device)\n",
    "\n",
    "                    outputs = model(images)\n",
    "\n",
    "                    loss = criterion(outputs, labels)\n",
    "\n",
    "                    test_loss += loss.item()\n",
    "\n",
    "            stats[\"test_losses\"].append(test_loss / len(test_loader))\n",
    "\n",
    "    return stats\n"
   ]
  },
  {
   "cell_type": "code",
   "execution_count": null,
   "metadata": {},
   "outputs": [],
   "source": [
    "torch.manual_seed(0) # for reproducibility if you care about that\n",
    "\n",
    "# Define the model\n",
    "model = nn.Sequential(\n",
    "    nn.Conv2d(1, 6, kernel_size=5),\n",
    "    nn.Tanh(),\n",
    "    nn.AvgPool2d(2),\n",
    "    nn.Conv2d(6, 16, kernel_size=5),\n",
    "    nn.Tanh(),\n",
    "    nn.AvgPool2d(2),\n",
    "    nn.Flatten(),\n",
    "    nn.Linear(256, 120),\n",
    "    nn.Tanh(),\n",
    "    nn.Linear(120, 84),\n",
    "    nn.Tanh(),\n",
    "    nn.Linear(84, 10),\n",
    ").to(device)\n",
    "\n",
    "stats = train(model, train_loader, test_loader)\n",
    "\n",
    "plot_stats(stats)\n",
    "\n",
    "print(f\"Accuracy: {test(model, test_loader):.4f}\")\n",
    "print(f\"Model parameters: {sum(p.numel() for p in model.parameters()):,}\")\n",
    "print(f\"Model size: {sum(p.numel() * p.element_size() for p in model.parameters()):,} bytes\")\n",
    "\n",
    "save_onnx(model, \"lenet-5-momentum.onnx\")\n"
   ]
  },
  {
   "cell_type": "markdown",
   "metadata": {},
   "source": [
    "##### Smaller Batch Size"
   ]
  },
  {
   "cell_type": "code",
   "execution_count": null,
   "metadata": {},
   "outputs": [],
   "source": [
    "train_loader = torch.utils.data.DataLoader(train_dataset, batch_size=32, shuffle=True)\n",
    "test_loader = torch.utils.data.DataLoader(test_dataset, batch_size=256, shuffle=False) # Doesnt matter if batch size is large\n"
   ]
  },
  {
   "cell_type": "code",
   "execution_count": null,
   "metadata": {},
   "outputs": [],
   "source": [
    "torch.manual_seed(0) # for reproducibility if you care about that\n",
    "\n",
    "# Define the model\n",
    "model = nn.Sequential(\n",
    "    nn.Conv2d(1, 6, kernel_size=5),\n",
    "    nn.Tanh(),\n",
    "    nn.AvgPool2d(2),\n",
    "    nn.Conv2d(6, 16, kernel_size=5),\n",
    "    nn.Tanh(),\n",
    "    nn.AvgPool2d(2),\n",
    "    nn.Flatten(),\n",
    "    nn.Linear(256, 120),\n",
    "    nn.Tanh(),\n",
    "    nn.Linear(120, 84),\n",
    "    nn.Tanh(),\n",
    "    nn.Linear(84, 10),\n",
    ").to(device)\n",
    "\n",
    "stats = train(model, train_loader, test_loader)\n",
    "\n",
    "plot_stats(stats)\n",
    "\n",
    "print(f\"Accuracy: {test(model, test_loader):.4f}\")\n",
    "print(f\"Model parameters: {sum(p.numel() for p in model.parameters()):,}\")\n",
    "print(f\"Model size: {sum(p.numel() * p.element_size() for p in model.parameters()):,} bytes\")\n",
    "\n",
    "save_onnx(model, \"lenet-5-momentum-small-batch.onnx\")\n"
   ]
  },
  {
   "cell_type": "markdown",
   "metadata": {},
   "source": [
    "##### 2020's"
   ]
  },
  {
   "cell_type": "code",
   "execution_count": null,
   "metadata": {},
   "outputs": [],
   "source": [
    "torch.manual_seed(0) # for reproducibility if you care about that\n",
    "\n",
    "# Define the model\n",
    "model = nn.Sequential(\n",
    "    nn.Conv2d(1, 64, kernel_size=5),\n",
    "    nn.ReLU(),\n",
    "    nn.AvgPool2d(2),\n",
    "    nn.Conv2d(64, 128, kernel_size=5),\n",
    "    nn.ReLU(),\n",
    "    nn.AvgPool2d(2),\n",
    "    nn.Flatten(),\n",
    "    nn.Linear(128*4*4, 256),\n",
    "    nn.ReLU(),\n",
    "    nn.Linear(256, 120),\n",
    "    nn.ReLU(),\n",
    "    nn.Linear(120, 10),\n",
    ").to(device)\n",
    "\n",
    "stats = train(model, train_loader, test_loader)\n",
    "\n",
    "plot_stats(stats)\n",
    "\n",
    "print(f\"Accuracy: {test(model, test_loader):.4f}\")\n",
    "print(f\"Model parameters: {sum(p.numel() for p in model.parameters()):,}\")\n",
    "print(f\"Model size: {sum(p.numel() * p.element_size() for p in model.parameters()):,} bytes\")\n",
    "\n",
    "save_onnx(model, \"lenet-5-momentum-small-batch-relu-wide.onnx\")\n"
   ]
  },
  {
   "cell_type": "code",
   "execution_count": null,
   "metadata": {},
   "outputs": [],
   "source": []
  }
 ],
 "metadata": {
  "kernelspec": {
   "display_name": "venv",
   "language": "python",
   "name": "python3"
  },
  "language_info": {
   "codemirror_mode": {
    "name": "ipython",
    "version": 3
   },
   "file_extension": ".py",
   "mimetype": "text/x-python",
   "name": "python",
   "nbconvert_exporter": "python",
   "pygments_lexer": "ipython3",
   "version": "3.10.13"
  }
 },
 "nbformat": 4,
 "nbformat_minor": 2
}
