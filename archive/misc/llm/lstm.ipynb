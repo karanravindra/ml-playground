{
 "cells": [
  {
   "cell_type": "code",
   "execution_count": 1,
   "metadata": {},
   "outputs": [],
   "source": [
    "device=\"mps\"\n"
   ]
  },
  {
   "cell_type": "code",
   "execution_count": 2,
   "metadata": {},
   "outputs": [],
   "source": [
    "from typing import List\n",
    "import torch\n",
    "import torch.nn as nn\n",
    "import tqdm.notebook as tqdm"
   ]
  },
  {
   "cell_type": "code",
   "execution_count": 3,
   "metadata": {},
   "outputs": [],
   "source": [
    "with open(\"data/tiny-shakespeare.txt\") as f:\n",
    "    corpus = f.read()"
   ]
  },
  {
   "cell_type": "code",
   "execution_count": 4,
   "metadata": {},
   "outputs": [
    {
     "name": "stdout",
     "output_type": "stream",
     "text": [
      "Training Size: 892,314 chars\n",
      "Test Size: 223,079 chars\n"
     ]
    }
   ],
   "source": [
    "split = 0.8\n",
    "train_text = corpus[:int(len(corpus)*split)]\n",
    "test_text = corpus[int(len(corpus)*split):]\n",
    "\n",
    "print(f\"Training Size: {len(train_text):,} chars\")\n",
    "print(f\"Test Size: {len(test_text):,} chars\")"
   ]
  },
  {
   "cell_type": "code",
   "execution_count": 5,
   "metadata": {},
   "outputs": [
    {
     "name": "stdout",
     "output_type": "stream",
     "text": [
      "tensor([[104, 101, 108, 108, 111],\n",
      "        [119, 111, 114, 108, 100]])\n",
      "['hello', 'world']\n",
      "tensor([[114,  44,  10,  76, 111],\n",
      "        [ 39, 100,  59,  32,  97]])\n"
     ]
    }
   ],
   "source": [
    "def encode(list: List[str]) -> torch.Tensor:\n",
    "    result = []\n",
    "    for string in list:\n",
    "        result.append([ord(c) for c in string])\n",
    "    return torch.tensor(result)\n",
    "\n",
    "def decode(arr: torch.Tensor) -> str:\n",
    "    arr = arr.tolist()\n",
    "    result = []\n",
    "    for string in arr:\n",
    "        result.append(\"\".join([chr(c) for c in string]))\n",
    "    return result\n",
    "\n",
    "def get_batch(batch_size, seq_length, use_train=True):\n",
    "    if use_train:\n",
    "        data = train_text\n",
    "    else:\n",
    "        data = test_text\n",
    "    \n",
    "    start_idx = torch.randint(0, len(data) - seq_length, (batch_size,))\n",
    "\n",
    "    batch = []\n",
    "    for i in start_idx:\n",
    "        batch.append(encode([data[i:i+seq_length]]))\n",
    "        \n",
    "    return torch.stack(batch).view(batch_size, seq_length)\n",
    "    \n",
    "\n",
    "print(encode([\"hello\", \"world\"]))\n",
    "print(decode(encode([\"hello\", \"world\"])))\n",
    "print(get_batch(2, 5, use_train=False))"
   ]
  },
  {
   "cell_type": "code",
   "execution_count": 26,
   "metadata": {},
   "outputs": [
    {
     "name": "stdout",
     "output_type": "stream",
     "text": [
      "Model created with 239,360 parameters\n"
     ]
    }
   ],
   "source": [
    "class Model(nn.Module):\n",
    "    def __init__(self, vocab_size, embed_dim, hidden_dim, num_layers):\n",
    "        super(Model, self).__init__()\n",
    "        self.hidden_dim = hidden_dim\n",
    "        self.num_layers = num_layers\n",
    "        \n",
    "        # Embedding layer\n",
    "        self.embedding = nn.Embedding(vocab_size, embed_dim)\n",
    "        \n",
    "        # RNN\n",
    "        self.model = nn.RNN(embed_dim, hidden_dim, num_layers, batch_first=True)\n",
    "        \n",
    "        # Fully connected layer to predict each character\n",
    "        self.fc = nn.Linear(hidden_dim, vocab_size)\n",
    "\n",
    "    def forward(self, x, hidden=None):\n",
    "        # Embedding\n",
    "        x = self.embedding(x)\n",
    "        \n",
    "        # Initialize hidden state if not provided\n",
    "        if hidden is None:\n",
    "            hidden = torch.zeros(self.num_layers, x.size(0), self.hidden_dim, device=x.device)\n",
    "        \n",
    "        # GRU output along with new hidden state\n",
    "        out, hidden = self.model(x, hidden)\n",
    "        \n",
    "        # Reshape output for the fully connected layer\n",
    "        out = out.reshape(-1, self.hidden_dim)\n",
    "        out = self.fc(out)\n",
    "        return out, hidden\n",
    "\n",
    "# Create an instance of the updated model\n",
    "vocab_size = 256  # number of unique characters\n",
    "embed_dim = 64   # embedding dimension\n",
    "hidden_dim = 128  # LSTM hidden dimensions\n",
    "num_layers = 6  # number of GRU layers\n",
    "\n",
    "model = Model(vocab_size, embed_dim, hidden_dim, num_layers).to(device)\n",
    "num_train_steps = 0\n",
    "print(f\"Model created with {sum(p.numel() for p in model.parameters()):,} parameters\")"
   ]
  },
  {
   "cell_type": "code",
   "execution_count": 30,
   "metadata": {},
   "outputs": [],
   "source": [
    "criterion = nn.CrossEntropyLoss()\n",
    "optimizer = torch.optim.Adam(model.parameters(), lr=0.001)\n",
    "# scheduler = torch.optim.lr_scheduler.StepLR(optimizer, step_size=1000, gamma=0.9)\n"
   ]
  },
  {
   "cell_type": "code",
   "execution_count": 31,
   "metadata": {},
   "outputs": [
    {
     "data": {
      "text/plain": [
       "5.42617654800415"
      ]
     },
     "execution_count": 31,
     "metadata": {},
     "output_type": "execute_result"
    }
   ],
   "source": [
    "# Validation\n",
    "@torch.no_grad()\n",
    "def evaluate():\n",
    "    model.eval()\n",
    "    batch = get_batch(128, 256, use_train=False).to(device)\n",
    "    x = batch[:,:-1]\n",
    "    y = batch[:,1:]\n",
    "\n",
    "    output, _ = model(x)\n",
    "    loss = criterion(output, y.flatten())\n",
    "    return loss.item()\n",
    "\n",
    "evaluate()"
   ]
  },
  {
   "cell_type": "code",
   "execution_count": 32,
   "metadata": {},
   "outputs": [
    {
     "data": {
      "application/vnd.jupyter.widget-view+json": {
       "model_id": "790f21e92d6b446887f69ed13ab224cb",
       "version_major": 2,
       "version_minor": 0
      },
      "text/plain": [
       "  0%|          | 0/100 [00:00<?, ?it/s]"
      ]
     },
     "metadata": {},
     "output_type": "display_data"
    }
   ],
   "source": [
    "pbar = tqdm.tnrange(100)\n",
    "for step in pbar:\n",
    "    model.train()\n",
    "    # Encode the sequence\n",
    "    batch = get_batch(64, 256).to(device)\n",
    "    x = batch[:,:-1]\n",
    "    y = batch[:,1:]\n",
    "        \n",
    "    # Forward pass\n",
    "    output, _ = model(x)\n",
    "    loss = criterion(output, y.flatten())\n",
    "        \n",
    "    # Backward pass\n",
    "    optimizer.zero_grad()\n",
    "    loss.backward()\n",
    "    optimizer.step()\n",
    "\n",
    "    # scheduler.step()\n",
    "\n",
    "    if step % 100 == 0:\n",
    "        val_loss = evaluate()\n",
    "        \n",
    "    pbar.set_postfix_str(f\"Loss: {loss.item():.4f}, Val Loss: {val_loss:.4f}\")\n",
    "    pbar.set_description_str(f\"num_train_steps: {num_train_steps:,}\")"
   ]
  },
  {
   "cell_type": "code",
   "execution_count": 33,
   "metadata": {},
   "outputs": [
    {
     "name": "stdout",
     "output_type": "stream",
     "text": [
      "First Citizen:helyefEednr\n",
      "v,Se rwAh \n",
      "md\n",
      "ts\n",
      "w  pbrtrhn Ao Iyamr\n",
      "f \n",
      "n: nvth w sei thsi hNtdI?te\n",
      "t a  pe,rsutlmr dh yuhpvs sdVueauifanw Ee\n",
      "baCdso yeou n,.Dios,Cs wac hsIlmnwmscrnet  oar.avdou rmdOtfaurwtHs rsO,emyt  .ihsfia ed:LuN3hnw \n",
      "i ;trRrrf\n",
      "t, r saan h'anlg tasmy luala,Inrterv\n",
      ",rtw eonT a  yhy e erwoiwEhe,  h w  naa\n",
      "cweetgrautsf:u nMe\n",
      "tb!Waehsu ,or?c srsea ÒwiaueheC,cee eulWiwfc:ssd\n",
      "aloHvoyybee.fw seah  ne:ycba vodahgCtce l E:l eFd,a ehBfyta Iovmuf;\n",
      "uyag\n",
      "ey TtgRY\n",
      "dsrua elwdi, assTTalmwo .Qtmhrrsx,ago t he.HrSt neaoTeOU\n"
     ]
    }
   ],
   "source": [
    "import torch.nn.functional as F\n",
    "\n",
    "def temperature_sampling(logits, temperature=0.8):\n",
    "    # Scale logits by temperature\n",
    "    scaled_logits = logits / temperature\n",
    "    # Convert logits to probabilities\n",
    "    probs = F.softmax(scaled_logits, dim=-1)\n",
    "    # Sample from the probabilities\n",
    "    return torch.multinomial(probs, num_samples=1)\n",
    "\n",
    "# Validation Loop with Temperature Sampling\n",
    "model.eval()\n",
    "initial_input = encode(['First Citizen:']).to(device)\n",
    "generated_text = []\n",
    "hidden = None  # Hidden state initialization\n",
    "\n",
    "with torch.no_grad():\n",
    "    for _ in range(512):  # Generate 512 characters\n",
    "        output, hidden = model(initial_input, hidden)  # Ensure model accepts and returns hidden state\n",
    "        predicted = temperature_sampling(output[-1], temperature=1)\n",
    "        generated_text.append(predicted)\n",
    "        initial_input = predicted.unsqueeze(0)\n",
    "\n",
    "print('First Citizen:'+decode(torch.stack(generated_text).view(1, -1))[0])\n"
   ]
  },
  {
   "cell_type": "code",
   "execution_count": null,
   "metadata": {},
   "outputs": [],
   "source": []
  }
 ],
 "metadata": {
  "kernelspec": {
   "display_name": "cloudspace",
   "language": "python",
   "name": "python3"
  },
  "language_info": {
   "codemirror_mode": {
    "name": "ipython",
    "version": 3
   },
   "file_extension": ".py",
   "mimetype": "text/x-python",
   "name": "python",
   "nbconvert_exporter": "python",
   "pygments_lexer": "ipython3",
   "version": "3.10.14"
  }
 },
 "nbformat": 4,
 "nbformat_minor": 2
}
