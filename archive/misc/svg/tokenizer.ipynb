{
 "cells": [
  {
   "cell_type": "code",
   "execution_count": 68,
   "metadata": {},
   "outputs": [],
   "source": [
    "import os\n",
    "\n",
    "files = [os.path.join(\"data/icons/outline/train\", f) for f in os.listdir(\"data/icons/outline/train\")]"
   ]
  },
  {
   "cell_type": "code",
   "execution_count": 69,
   "metadata": {},
   "outputs": [],
   "source": [
    "import tokenizers"
   ]
  },
  {
   "cell_type": "code",
   "execution_count": 70,
   "metadata": {},
   "outputs": [],
   "source": [
    "model = tokenizers.models.BPE()\n",
    "trainer = tokenizers.trainers.BpeTrainer(vocab_size=1, special_tokens=[\"[PAD]\", \"[SOS]\", \"[EOS]\", \"[MASK]\", \"[UNK]\"])"
   ]
  },
  {
   "cell_type": "code",
   "execution_count": 78,
   "metadata": {},
   "outputs": [
    {
     "name": "stdout",
     "output_type": "stream",
     "text": [
      "\n",
      "\n",
      "\n",
      "87\n"
     ]
    }
   ],
   "source": [
    "tokenizer = tokenizers.Tokenizer(model=model)\n",
    "tokenizer.pre_tokenizer = tokenizers.pre_tokenizers.Sequence(\n",
    "    [tokenizers.pre_tokenizers.Digits(True)]\n",
    ")\n",
    "\n",
    "tokenizer.add_tokens(\n",
    "    [\n",
    "        tokenizers.AddedToken(\n",
    "            \"\"\"<svg\n",
    "  xmlns=\"http://www.w3.org/2000/svg\"\n",
    "  width=\"24\"\n",
    "  height=\"24\"\n",
    "  viewBox=\"0 0 24 24\"\n",
    "  fill=\"none\"\n",
    "  stroke=\"currentColor\"\n",
    "  stroke-width=\"2\"\n",
    "  stroke-linecap=\"round\"\n",
    "  stroke-linejoin=\"round\"\n",
    ">\"\"\"\n",
    "        ),\n",
    "        tokenizers.AddedToken('<path d=\"M'),\n",
    "        tokenizers.AddedToken('category: '),\n",
    "        tokenizers.AddedToken('tags: '),\n",
    "        tokenizers.AddedToken('version: '),\n",
    "        tokenizers.AddedToken('unicode: '),\n",
    "        tokenizers.AddedToken('<!--'),\n",
    "        tokenizers.AddedToken('-->'),\n",
    "        tokenizers.AddedToken('\" />'),\n",
    "        tokenizers.AddedToken('</svg>'),\n",
    "    ]\n",
    ")\n",
    "\n",
    "tokenizer.train(files, trainer=trainer)\n",
    "print(tokenizer.get_vocab_size())"
   ]
  },
  {
   "cell_type": "code",
   "execution_count": 88,
   "metadata": {},
   "outputs": [
    {
     "data": {
      "text/html": [
       "\n",
       "    <html>\n",
       "        <head>\n",
       "            <style>\n",
       "                .tokenized-text {\n",
       "    width:100%;\n",
       "    padding:2rem;\n",
       "    max-height: 400px;\n",
       "    overflow-y: auto;\n",
       "    box-sizing:border-box;\n",
       "    line-height:4rem; /* Lots of space between lines */\n",
       "    font-family: \"Roboto Light\", \"Ubuntu Light\", \"Ubuntu\", monospace;\n",
       "    box-shadow: 2px 2px 2px rgba(0,0,0,0.2);\n",
       "    background-color: rgba(0,0,0,0.01);\n",
       "    letter-spacing:2px; /* Give some extra separation between chars */\n",
       "}\n",
       ".non-token{\n",
       "    /* White space and other things the tokenizer ignores*/\n",
       "    white-space: pre;\n",
       "    letter-spacing:4px;\n",
       "    border-top:1px solid #A0A0A0; /* A gentle border on top and bottom makes tabs more ovious*/\n",
       "    border-bottom:1px solid #A0A0A0;\n",
       "    line-height: 1rem;\n",
       "    height: calc(100% - 2px);\n",
       "}\n",
       "\n",
       ".token {\n",
       "    white-space: pre;\n",
       "    position:relative;\n",
       "    color:black;\n",
       "    letter-spacing:2px;\n",
       "}\n",
       "\n",
       ".annotation{\n",
       "    white-space:nowrap; /* Important - ensures that annotations appears even if the annotated text wraps a line */\n",
       "    border-radius:4px;\n",
       "    position:relative;\n",
       "    width:fit-content;\n",
       "}\n",
       ".annotation:before {\n",
       "    /*The before holds the text and the after holds the background*/\n",
       "    z-index:1000; /* Make sure this is above the background */\n",
       "    content:attr(data-label); /* The annotations label is on a data attribute */\n",
       "    color:white;\n",
       "    position:absolute;\n",
       "    font-size:1rem;\n",
       "    text-align:center;\n",
       "    font-weight:bold;\n",
       "\n",
       "    top:1.75rem;\n",
       "    line-height:0;\n",
       "    left:0;\n",
       "    width:100%;\n",
       "    padding:0.5rem 0;\n",
       "    /* These make it so an annotation doesn't stretch beyond the annotated text if the label is longer*/\n",
       "    overflow: hidden;\n",
       "    white-space: nowrap;\n",
       "    text-overflow:ellipsis;\n",
       "}\n",
       "\n",
       ".annotation:after {\n",
       "    content:attr(data-label); /* The content defines the width of the annotation*/\n",
       "    position:absolute;\n",
       "    font-size:0.75rem;\n",
       "    text-align:center;\n",
       "    font-weight:bold;\n",
       "    text-overflow:ellipsis;\n",
       "    top:1.75rem;\n",
       "    line-height:0;\n",
       "    overflow: hidden;\n",
       "    white-space: nowrap;\n",
       "\n",
       "    left:0;\n",
       "    width:100%; /* 100% of the parent, which is the annotation whose width is the tokens inside it*/\n",
       "\n",
       "    padding:0.5rem 0;\n",
       "    /* Nast hack below:\n",
       "    We set the annotations color in code because we don't know the colors at css time.\n",
       "    But you can't pass a color as a data attribute to get it into the pseudo element (this thing)\n",
       "    So to get around that, annotations have the color set on them with a style attribute and then we\n",
       "    can get the color with currentColor.\n",
       "    Annotations wrap tokens and tokens set the color back to black\n",
       "     */\n",
       "    background-color: currentColor;\n",
       "}\n",
       ".annotation:hover::after, .annotation:hover::before{\n",
       "    /* When the user hovers over an annotation expand the label to display in full\n",
       "     */\n",
       "    min-width: fit-content;\n",
       "}\n",
       "\n",
       ".annotation:hover{\n",
       "    /* Emphasize the annotation start end with a border on hover*/\n",
       "    border-color: currentColor;\n",
       "    border: 2px solid;\n",
       "}\n",
       ".special-token:not(:empty){\n",
       "    /*\n",
       "    A none empty special token is like UNK (as opposed to CLS which has no representation in the text )\n",
       "     */\n",
       "    position:relative;\n",
       "}\n",
       ".special-token:empty::before{\n",
       "    /* Special tokens that don't have text are displayed as pseudo elements so we dont select them with the mouse*/\n",
       "    content:attr(data-stok);\n",
       "    background:#202020;\n",
       "    font-size:0.75rem;\n",
       "    color:white;\n",
       "    margin: 0 0.25rem;\n",
       "    padding: 0.25rem;\n",
       "    border-radius:4px\n",
       "}\n",
       "\n",
       ".special-token:not(:empty):before {\n",
       "    /* Special tokens that have text (UNK) are displayed above the actual text*/\n",
       "    content:attr(data-stok);\n",
       "    position:absolute;\n",
       "    bottom:1.75rem;\n",
       "    min-width:100%;\n",
       "    width:100%;\n",
       "    height:1rem;\n",
       "    line-height:1rem;\n",
       "    font-size:1rem;\n",
       "    text-align:center;\n",
       "    color:white;\n",
       "    font-weight:bold;\n",
       "    background:#202020;\n",
       "    border-radius:10%;\n",
       "}\n",
       "/*\n",
       "We want to alternate the color of tokens, but we can't use nth child because tokens might be broken up by annotations\n",
       "instead we apply even and odd class at generation time and color them that way\n",
       " */\n",
       ".even-token{\n",
       "    background:#DCDCDC\t;\n",
       "    border: 1px solid #DCDCDC;\n",
       "}\n",
       ".odd-token{\n",
       "    background:#A0A0A0;\n",
       "    border: 1px solid #A0A0A0;\n",
       "}\n",
       ".even-token.multi-token,.odd-token.multi-token{\n",
       "    background:  repeating-linear-gradient(\n",
       "    45deg,\n",
       "    transparent,\n",
       "    transparent 1px,\n",
       "    #ccc 1px,\n",
       "    #ccc 1px\n",
       "    ),\n",
       "    /* on \"bottom\" */\n",
       "    linear-gradient(\n",
       "    to bottom,\n",
       "    #FFB6C1,\n",
       "    #999\n",
       "    );\n",
       "}\n",
       "\n",
       ".multi-token:hover::after {\n",
       "    content:\"This char has more than 1 token\"; /* The content defines the width of the annotation*/\n",
       "    color:white;\n",
       "    background-color: black;\n",
       "    position:absolute;\n",
       "    font-size:0.75rem;\n",
       "    text-align:center;\n",
       "    font-weight:bold;\n",
       "    text-overflow:ellipsis;\n",
       "    top:1.75rem;\n",
       "    line-height:0;\n",
       "    overflow: hidden;\n",
       "    white-space: nowrap;\n",
       "    left:0;\n",
       "    width:fit-content; /* 100% of the parent, which is the annotation whose width is the tokens inside it*/\n",
       "    padding:0.5rem 0;\n",
       "}\n",
       "\n",
       "            </style>\n",
       "        </head>\n",
       "        <body>\n",
       "            <div class=\"tokenized-text\" dir=auto>\n",
       "            <span class=\"token even-token\"  >!</span><span class=\"token odd-token\"  >-</span><span class=\"token even-token\"  >-</span><span class=\"token odd-token\"  >\n",
       "</span><span class=\"token even-token\"  >category: </span><span class=\"token odd-token\"  >T</span><span class=\"token even-token\"  >e</span><span class=\"token odd-token\"  >x</span><span class=\"token even-token\"  >t</span><span class=\"token odd-token\"  >\n",
       "</span><span class=\"token even-token\"  >tags: </span><span class=\"token odd-token\"  >[</span><span class=\"token even-token\"  >t</span><span class=\"token odd-token\"  >e</span><span class=\"token even-token\"  >x</span><span class=\"token odd-token\"  >t</span><span class=\"token even-token\"  >,</span><span class=\"token odd-token\"  > </span><span class=\"token even-token\"  >g</span><span class=\"token odd-token\"  >a</span><span class=\"token even-token\"  >p</span><span class=\"token odd-token\"  >,</span><span class=\"token even-token\"  > </span><span class=\"token odd-token\"  >t</span><span class=\"token even-token\"  >a</span><span class=\"token odd-token\"  >b</span><span class=\"token even-token\"  >l</span><span class=\"token odd-token\"  >e</span><span class=\"token even-token\"  >]</span><span class=\"token odd-token\"  >\n",
       "</span><span class=\"token even-token\"  >version: </span><span class=\"token odd-token\"  >\"</span><span class=\"token even-token\"  >1</span><span class=\"token odd-token\"  >.</span><span class=\"token even-token\"  >3</span><span class=\"token odd-token\"  >\"</span><span class=\"token even-token\"  >\n",
       "</span><span class=\"token odd-token\"  >unicode: </span><span class=\"token even-token\"  >\"</span><span class=\"token odd-token\"  >e</span><span class=\"token even-token\"  >b</span><span class=\"token odd-token\"  >8</span><span class=\"token even-token\"  >3</span><span class=\"token odd-token\"  >\"</span><span class=\"token even-token\"  >\n",
       "</span><span class=\"token odd-token\"  >--></span><span class=\"token even-token\"  >\n",
       "</span><span class=\"token odd-token\"  ><svg\n",
       "  xmlns=\"http://www.w3.org/2000/svg\"\n",
       "  width=\"24\"\n",
       "  height=\"24\"\n",
       "  viewBox=\"0 0 24 24\"\n",
       "  fill=\"none\"\n",
       "  stroke=\"currentColor\"\n",
       "  stroke-width=\"2\"\n",
       "  stroke-linecap=\"round\"\n",
       "  stroke-linejoin=\"round\"\n",
       "></span><span class=\"token even-token\"  >\n",
       "</span><span class=\"token odd-token\"  > </span><span class=\"token even-token\"  > </span><span class=\"token odd-token\"  ><path d=\"M</span><span class=\"token even-token\"  >4</span><span class=\"token odd-token\"  > </span><span class=\"token even-token\"  >6</span><span class=\"token odd-token\"  >l</span><span class=\"token even-token\"  >5</span><span class=\"token odd-token\"  >.</span><span class=\"token even-token\"  >5</span><span class=\"token odd-token\"  > </span><span class=\"token even-token\"  >0</span><span class=\"token odd-token\"  >\" /></span><span class=\"token even-token\"  >\n",
       "</span><span class=\"token odd-token\"  > </span><span class=\"token even-token\"  > </span><span class=\"token odd-token\"  ><path d=\"M</span><span class=\"token even-token\"  >4</span><span class=\"token odd-token\"  > </span><span class=\"token even-token\"  >1</span><span class=\"token odd-token\"  >0</span><span class=\"token even-token\"  >l</span><span class=\"token odd-token\"  >5</span><span class=\"token even-token\"  >.</span><span class=\"token odd-token\"  >5</span><span class=\"token even-token\"  > </span><span class=\"token odd-token\"  >0</span><span class=\"token even-token\"  >\" /></span><span class=\"token odd-token\"  >\n",
       "</span><span class=\"token even-token\"  > </span><span class=\"token odd-token\"  > </span><span class=\"token even-token\"  ><path d=\"M</span><span class=\"token odd-token\"  >4</span><span class=\"token even-token\"  > </span><span class=\"token odd-token\"  >1</span><span class=\"token even-token\"  >4</span><span class=\"token odd-token\"  >l</span><span class=\"token even-token\"  >5</span><span class=\"token odd-token\"  >.</span><span class=\"token even-token\"  >5</span><span class=\"token odd-token\"  > </span><span class=\"token even-token\"  >0</span><span class=\"token odd-token\"  >\" /></span><span class=\"token even-token\"  >\n",
       "</span><span class=\"token odd-token\"  > </span><span class=\"token even-token\"  > </span><span class=\"token odd-token\"  ><path d=\"M</span><span class=\"token even-token\"  >4</span><span class=\"token odd-token\"  > </span><span class=\"token even-token\"  >1</span><span class=\"token odd-token\"  >8</span><span class=\"token even-token\"  >l</span><span class=\"token odd-token\"  >5</span><span class=\"token even-token\"  >.</span><span class=\"token odd-token\"  >5</span><span class=\"token even-token\"  > </span><span class=\"token odd-token\"  >0</span><span class=\"token even-token\"  >\" /></span><span class=\"token odd-token\"  >\n",
       "</span><span class=\"token even-token\"  > </span><span class=\"token odd-token\"  > </span><span class=\"token even-token\"  ><path d=\"M</span><span class=\"token odd-token\"  >1</span><span class=\"token even-token\"  >4</span><span class=\"token odd-token\"  >.</span><span class=\"token even-token\"  >5</span><span class=\"token odd-token\"  > </span><span class=\"token even-token\"  >6</span><span class=\"token odd-token\"  >l</span><span class=\"token even-token\"  >5</span><span class=\"token odd-token\"  >.</span><span class=\"token even-token\"  >5</span><span class=\"token odd-token\"  > </span><span class=\"token even-token\"  >0</span><span class=\"token odd-token\"  >\" /></span><span class=\"token even-token\"  >\n",
       "</span><span class=\"token odd-token\"  > </span><span class=\"token even-token\"  > </span><span class=\"token odd-token\"  ><path d=\"M</span><span class=\"token even-token\"  >1</span><span class=\"token odd-token\"  >4</span><span class=\"token even-token\"  >.</span><span class=\"token odd-token\"  >5</span><span class=\"token even-token\"  > </span><span class=\"token odd-token\"  >1</span><span class=\"token even-token\"  >0</span><span class=\"token odd-token\"  >l</span><span class=\"token even-token\"  >5</span><span class=\"token odd-token\"  >.</span><span class=\"token even-token\"  >5</span><span class=\"token odd-token\"  > </span><span class=\"token even-token\"  >0</span><span class=\"token odd-token\"  >\" /></span><span class=\"token even-token\"  >\n",
       "</span><span class=\"token odd-token\"  > </span><span class=\"token even-token\"  > </span><span class=\"token odd-token\"  ><path d=\"M</span><span class=\"token even-token\"  >1</span><span class=\"token odd-token\"  >4</span><span class=\"token even-token\"  >.</span><span class=\"token odd-token\"  >5</span><span class=\"token even-token\"  > </span><span class=\"token odd-token\"  >1</span><span class=\"token even-token\"  >4</span><span class=\"token odd-token\"  >l</span><span class=\"token even-token\"  >5</span><span class=\"token odd-token\"  >.</span><span class=\"token even-token\"  >5</span><span class=\"token odd-token\"  > </span><span class=\"token even-token\"  >0</span><span class=\"token odd-token\"  >\" /></span><span class=\"token even-token\"  >\n",
       "</span><span class=\"token odd-token\"  > </span><span class=\"token even-token\"  > </span><span class=\"token odd-token\"  ><path d=\"M</span><span class=\"token even-token\"  >1</span><span class=\"token odd-token\"  >4</span><span class=\"token even-token\"  >.</span><span class=\"token odd-token\"  >5</span><span class=\"token even-token\"  > </span><span class=\"token odd-token\"  >1</span><span class=\"token even-token\"  >8</span><span class=\"token odd-token\"  >l</span><span class=\"token even-token\"  >5</span><span class=\"token odd-token\"  >.</span><span class=\"token even-token\"  >5</span><span class=\"token odd-token\"  > </span><span class=\"token even-token\"  >0</span><span class=\"token odd-token\"  >\" /></span><span class=\"token even-token\"  >\n",
       "</span><span class=\"token odd-token\"  ></svg></span><span class=\"token even-token\"  >\n",
       "</span><span class=\"token odd-token\"  >\n",
       "</span><span class=\"token even-token\"  >\n",
       "</span><span class=\"token odd-token\"  ><!--</span><span class=\"token even-token\"  >\n",
       "</span><span class=\"token odd-token\"  >tags: </span><span class=\"token even-token\"  >[</span><span class=\"token odd-token\"  >a</span><span class=\"token even-token\"  >d</span><span class=\"token odd-token\"  >v</span><span class=\"token even-token\"  >e</span><span class=\"token odd-token\"  >r</span><span class=\"token even-token\"  >t</span><span class=\"token odd-token\"  >i</span><span class=\"token even-token\"  >s</span><span class=\"token odd-token\"  >i</span><span class=\"token even-token\"  >n</span><span class=\"token odd-token\"  >g</span><span class=\"token even-token\"  >,</span><span class=\"token odd-token\"  > </span><span class=\"token even-token\"  >t</span><span class=\"token odd-token\"  >r</span><span class=\"token even-token\"  >a</span><span class=\"token odd-token\"  >c</span><span class=\"token even-token\"  >k</span><span class=\"token odd-token\"  >,</span><span class=\"token even-token\"  > </span><span class=\"token odd-token\"  >w</span><span class=\"token even-token\"  >e</span><span class=\"token odd-token\"  >b</span><span class=\"token even-token\"  >s</span><span class=\"token odd-token\"  >i</span><span class=\"token even-token\"  >t</span><span class=\"token odd-token\"  >e</span><span class=\"token even-token\"  >,</span><span class=\"token odd-token\"  > </span><span class=\"token even-token\"  >t</span><span class=\"token odd-token\"  >r</span><span class=\"token even-token\"  >a</span><span class=\"token odd-token\"  >f</span><span class=\"token even-token\"  >f</span><span class=\"token odd-token\"  >i</span><span class=\"token even-token\"  >c</span><span class=\"token odd-token\"  >,</span><span class=\"token even-token\"  > </span><span class=\"token odd-token\"  >e</span><span class=\"token even-token\"  >-</span><span class=\"token odd-token\"  >c</span><span class=\"token even-token\"  >o</span><span class=\"token odd-token\"  >m</span><span class=\"token even-token\"  >m</span><span class=\"token odd-token\"  >e</span><span class=\"token even-token\"  >r</span><span class=\"token odd-token\"  >c</span><span class=\"token even-token\"  >e</span><span class=\"token odd-token\"  >,</span><span class=\"token even-token\"  > </span><span class=\"token odd-token\"  >o</span><span class=\"token even-token\"  >n</span><span class=\"token odd-token\"  >l</span><span class=\"token even-token\"  >i</span><span class=\"token odd-token\"  >n</span><span class=\"token even-token\"  >e</span><span class=\"token odd-token\"  >,</span><span class=\"token even-token\"  > </span><span class=\"token odd-token\"  >t</span><span class=\"token even-token\"  >e</span><span class=\"token odd-token\"  >c</span><span class=\"token even-token\"  >h</span><span class=\"token odd-token\"  >n</span><span class=\"token even-token\"  >o</span><span class=\"token odd-token\"  >l</span><span class=\"token even-token\"  >o</span><span class=\"token odd-token\"  >g</span><span class=\"token even-token\"  >y</span><span class=\"token odd-token\"  >]</span><span class=\"token even-token\"  >\n",
       "</span><span class=\"token odd-token\"  >category: </span><span class=\"token even-token\"  >B</span><span class=\"token odd-token\"  >r</span><span class=\"token even-token\"  >a</span><span class=\"token odd-token\"  >n</span><span class=\"token even-token\"  >d</span><span class=\"token odd-token\"  >\n",
       "</span><span class=\"token even-token\"  >version: </span><span class=\"token odd-token\"  >\"</span><span class=\"token even-token\"  >1</span><span class=\"token odd-token\"  >.</span><span class=\"token even-token\"  >3</span><span class=\"token odd-token\"  >6</span><span class=\"token even-token\"  >\"</span><span class=\"token odd-token\"  >\n",
       "</span><span class=\"token even-token\"  >unicode: </span><span class=\"token odd-token\"  >\"</span><span class=\"token even-token\"  >e</span><span class=\"token odd-token\"  >d</span><span class=\"token even-token\"  >c</span><span class=\"token odd-token\"  >b</span><span class=\"token even-token\"  >\"</span><span class=\"token odd-token\"  >\n",
       "</span><span class=\"token even-token\"  >--></span><span class=\"token odd-token\"  >\n",
       "</span><span class=\"token even-token\"  ><svg\n",
       "  xmlns=\"http://www.w3.org/2000/svg\"\n",
       "  width=\"24\"\n",
       "  height=\"24\"\n",
       "  viewBox=\"0 0 24 24\"\n",
       "  fill=\"none\"\n",
       "  stroke=\"currentColor\"\n",
       "  stroke-width=\"2\"\n",
       "  stroke-linecap=\"round\"\n",
       "  stroke-linejoin=\"round\"\n",
       "></span><span class=\"token odd-token\"  >\n",
       "</span><span class=\"token even-token\"  > </span><span class=\"token odd-token\"  > </span><span class=\"token even-token\"  ><path d=\"M</span><span class=\"token odd-token\"  >1</span><span class=\"token even-token\"  >0</span><span class=\"token odd-token\"  > </span><span class=\"token even-token\"  >9</span><span class=\"token odd-token\"  >m</span><span class=\"token even-token\"  >0</span><span class=\"token odd-token\"  > </span><span class=\"token even-token\"  >1</span><span class=\"token odd-token\"  >.</span><span class=\"token even-token\"  >1</span><span class=\"token odd-token\"  >0</span><span class=\"token even-token\"  >5</span><span class=\"token odd-token\"  >a</span><span class=\"token even-token\"  >1</span><span class=\"token odd-token\"  >.</span><span class=\"token even-token\"  >1</span><span class=\"token odd-token\"  >0</span><span class=\"token even-token\"  >5</span><span class=\"token odd-token\"  > </span><span class=\"token even-token\"  >1</span><span class=\"token odd-token\"  >.</span><span class=\"token even-token\"  >1</span><span class=\"token odd-token\"  >0</span><span class=\"token even-token\"  >5</span><span class=\"token odd-token\"  > </span><span class=\"token even-token\"  >0</span><span class=\"token odd-token\"  > </span><span class=\"token even-token\"  >0</span><span class=\"token odd-token\"  > </span><span class=\"token even-token\"  >1</span><span class=\"token odd-token\"  > </span><span class=\"token even-token\"  >1</span><span class=\"token odd-token\"  >.</span><span class=\"token even-token\"  >1</span><span class=\"token odd-token\"  >0</span><span class=\"token even-token\"  >5</span><span class=\"token odd-token\"  > </span><span class=\"token even-token\"  >-</span><span class=\"token odd-token\"  >1</span><span class=\"token even-token\"  >.</span><span class=\"token odd-token\"  >1</span><span class=\"token even-token\"  >0</span><span class=\"token odd-token\"  >5</span><span class=\"token even-token\"  >h</span><span class=\"token odd-token\"  >1</span><span class=\"token even-token\"  >.</span><span class=\"token odd-token\"  >7</span><span class=\"token even-token\"  >9</span><span class=\"token odd-token\"  >a</span><span class=\"token even-token\"  >1</span><span class=\"token odd-token\"  >.</span><span class=\"token even-token\"  >1</span><span class=\"token odd-token\"  >0</span><span class=\"token even-token\"  >5</span><span class=\"token odd-token\"  > </span><span class=\"token even-token\"  >1</span><span class=\"token odd-token\"  >.</span><span class=\"token even-token\"  >1</span><span class=\"token odd-token\"  >0</span><span class=\"token even-token\"  >5</span><span class=\"token odd-token\"  > </span><span class=\"token even-token\"  >0</span><span class=\"token odd-token\"  > </span><span class=\"token even-token\"  >0</span><span class=\"token odd-token\"  > </span><span class=\"token even-token\"  >1</span><span class=\"token odd-token\"  > </span><span class=\"token even-token\"  >1</span><span class=\"token odd-token\"  >.</span><span class=\"token even-token\"  >1</span><span class=\"token odd-token\"  >0</span><span class=\"token even-token\"  >5</span><span class=\"token odd-token\"  > </span><span class=\"token even-token\"  >1</span><span class=\"token odd-token\"  >.</span><span class=\"token even-token\"  >1</span><span class=\"token odd-token\"  >0</span><span class=\"token even-token\"  >5</span><span class=\"token odd-token\"  >v</span><span class=\"token even-token\"  >9</span><span class=\"token odd-token\"  >.</span><span class=\"token even-token\"  >7</span><span class=\"token odd-token\"  >9</span><span class=\"token even-token\"  >a</span><span class=\"token odd-token\"  >1</span><span class=\"token even-token\"  >.</span><span class=\"token odd-token\"  >1</span><span class=\"token even-token\"  >0</span><span class=\"token odd-token\"  >5</span><span class=\"token even-token\"  > </span><span class=\"token odd-token\"  >1</span><span class=\"token even-token\"  >.</span><span class=\"token odd-token\"  >1</span><span class=\"token even-token\"  >0</span><span class=\"token odd-token\"  >5</span><span class=\"token even-token\"  > </span><span class=\"token odd-token\"  >0</span><span class=\"token even-token\"  > </span><span class=\"token odd-token\"  >0</span><span class=\"token even-token\"  > </span><span class=\"token odd-token\"  >1</span><span class=\"token even-token\"  > </span><span class=\"token odd-token\"  >-</span><span class=\"token even-token\"  >1</span><span class=\"token odd-token\"  >.</span><span class=\"token even-token\"  >1</span><span class=\"token odd-token\"  >0</span><span class=\"token even-token\"  >5</span><span class=\"token odd-token\"  > </span><span class=\"token even-token\"  >1</span><span class=\"token odd-token\"  >.</span><span class=\"token even-token\"  >1</span><span class=\"token odd-token\"  >0</span><span class=\"token even-token\"  >5</span><span class=\"token odd-token\"  >h</span><span class=\"token even-token\"  >-</span><span class=\"token odd-token\"  >1</span><span class=\"token even-token\"  >.</span><span class=\"token odd-token\"  >7</span><span class=\"token even-token\"  >9</span><span class=\"token odd-token\"  >a</span><span class=\"token even-token\"  >1</span><span class=\"token odd-token\"  >.</span><span class=\"token even-token\"  >1</span><span class=\"token odd-token\"  >0</span><span class=\"token even-token\"  >5</span><span class=\"token odd-token\"  > </span><span class=\"token even-token\"  >1</span><span class=\"token odd-token\"  >.</span><span class=\"token even-token\"  >1</span><span class=\"token odd-token\"  >0</span><span class=\"token even-token\"  >5</span><span class=\"token odd-token\"  > </span><span class=\"token even-token\"  >0</span><span class=\"token odd-token\"  > </span><span class=\"token even-token\"  >0</span><span class=\"token odd-token\"  > </span><span class=\"token even-token\"  >1</span><span class=\"token odd-token\"  > </span><span class=\"token even-token\"  >-</span><span class=\"token odd-token\"  >1</span><span class=\"token even-token\"  >.</span><span class=\"token odd-token\"  >1</span><span class=\"token even-token\"  >0</span><span class=\"token odd-token\"  >5</span><span class=\"token even-token\"  > </span><span class=\"token odd-token\"  >-</span><span class=\"token even-token\"  >1</span><span class=\"token odd-token\"  >.</span><span class=\"token even-token\"  >1</span><span class=\"token odd-token\"  >0</span><span class=\"token even-token\"  >5</span><span class=\"token odd-token\"  >z</span><span class=\"token even-token\"  >\" /></span><span class=\"token odd-token\"  >\n",
       "</span><span class=\"token even-token\"  > </span><span class=\"token odd-token\"  > </span><span class=\"token even-token\"  ><</span>\n",
       "            </div>\n",
       "        </body>\n",
       "    </html>\n",
       "    "
      ],
      "text/plain": [
       "<IPython.core.display.HTML object>"
      ]
     },
     "metadata": {},
     "output_type": "display_data"
    }
   ],
   "source": [
    "viz = EncodingVisualizer(tokenizer)\n",
    "viz(icons[1:1024])"
   ]
  },
  {
   "cell_type": "code",
   "execution_count": 80,
   "metadata": {},
   "outputs": [],
   "source": [
    "with open(\"data/icons/icons.txt\", \"r\") as f:\n",
    "    icons = f.read()\n",
    "encoded = tokenizer.encode(icons)"
   ]
  },
  {
   "cell_type": "code",
   "execution_count": 81,
   "metadata": {},
   "outputs": [
    {
     "name": "stdout",
     "output_type": "stream",
     "text": [
      "1916424\n",
      "Encoding(num_tokens=874030, attributes=[ids, type_ids, tokens, offsets, attention_mask, special_tokens_mask, overflowing])\n"
     ]
    }
   ],
   "source": [
    "print(len(icons))\n",
    "print(encoded)"
   ]
  },
  {
   "cell_type": "code",
   "execution_count": 82,
   "metadata": {},
   "outputs": [],
   "source": [
    "from tokenizers.tools import EncodingVisualizer"
   ]
  },
  {
   "cell_type": "code",
   "execution_count": 83,
   "metadata": {},
   "outputs": [
    {
     "name": "stdout",
     "output_type": "stream",
     "text": [
      "{'#': 1, '/': 1, 'ñ': 1, '!': 2, '>': 2, '@': 2, '+': 3, '?': 3, ':': 6, 'Z': 11, 'P': 32, 'G': 35, '<': 46, 'W': 48, 'H': 55, 'F': 57, 'E': 74, 'V': 74, 'T': 122, 'N': 125, 'j': 163, 'q': 172, 'L': 177, '=': 204, 'A': 255, 'C': 260, 'B': 342, 'M': 365, 'S': 481, 'x': 491, 'D': 640, 'k': 697, 'w': 1348, 'z': 1824, 'y': 2022, 'b': 2430, 'tags: ': 2680, '[': 2682, ']': 2682, 'g': 2752, 'u': 2758, 'category: ': 3073, 'p': 3401, '<svg\\n  xmlns=\"http://www.w3.org/2000/svg\"\\n  width=\"24\"\\n  height=\"24\"\\n  viewBox=\"0 0 24 24\"\\n  fill=\"none\"\\n  stroke=\"currentColor\"\\n  stroke-width=\"2\"\\n  stroke-linecap=\"round\"\\n  stroke-linejoin=\"round\"\\n>': 3677, 'version: ': 3677, 'unicode: ': 3677, '<!--': 3677, '-->': 3677, '</svg>': 3677, 'd': 4286, 'f': 4440, 'm': 6134, 's': 6930, 'n': 7114, 'i': 7742, 'o': 7849, 'r': 7879, 'v': 8874, 't': 8898, 'c': 9496, 'h': 10876, ',': 11013, 'l': 13868, '<path d=\"M': 14490, '\" />': 14534, 'e': 14648, '\"': 15120, '7': 17302, '9': 17742, '8': 18351, '6': 19165, 'a': 22746, '4': 25005, '5': 25527, '3': 27884, '-': 34679, '\\n': 49710, '.': 50042, '2': 50281, '0': 52113, '1': 70678, ' ': 163953}\n",
      "82\n"
     ]
    }
   ],
   "source": [
    "encoded = encoded.ids\n",
    "# most frequent ids\n",
    "frequency = {\n",
    "    tokenizer.decode([i]): encoded.count(i)\n",
    "    for i in sorted(set(encoded), key=lambda x: encoded.count(x), reverse=False)\n",
    "}\n",
    "\n",
    "print(frequency)\n",
    "print(len(frequency))"
   ]
  },
  {
   "cell_type": "code",
   "execution_count": 85,
   "metadata": {},
   "outputs": [
    {
     "data": {
      "image/png": "[encoded data removed]",
      "text/plain": [
       "<Figure size 640x480 with 1 Axes>"
      ]
     },
     "metadata": {},
     "output_type": "display_data"
    }
   ],
   "source": [
    "#plot distribution\n",
    "import matplotlib.pyplot as plt\n",
    "plt.bar(frequency.keys(), frequency.values())\n",
    "plt.show()"
   ]
  },
  {
   "cell_type": "code",
   "execution_count": 77,
   "metadata": {},
   "outputs": [],
   "source": [
    "tokenizer.save(\"data/icons/vocab/tokenizer.json\")"
   ]
  },
  {
   "cell_type": "code",
   "execution_count": null,
   "metadata": {},
   "outputs": [],
   "source": []
  }
 ],
 "metadata": {
  "kernelspec": {
   "display_name": "venv",
   "language": "python",
   "name": "python3"
  },
  "language_info": {
   "codemirror_mode": {
    "name": "ipython",
    "version": 3
   },
   "file_extension": ".py",
   "mimetype": "text/x-python",
   "name": "python",
   "nbconvert_exporter": "python",
   "pygments_lexer": "ipython3",
   "version": "3.10.14"
  }
 },
 "nbformat": 4,
 "nbformat_minor": 2
}
